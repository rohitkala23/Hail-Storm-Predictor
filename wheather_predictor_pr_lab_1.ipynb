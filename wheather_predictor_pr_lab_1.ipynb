{
  "nbformat": 4,
  "nbformat_minor": 0,
  "metadata": {
    "colab": {
      "provenance": [],
      "include_colab_link": true
    },
    "kernelspec": {
      "name": "python3",
      "display_name": "Python 3"
    },
    "language_info": {
      "name": "python"
    },
    "accelerator": "GPU"
  },
  "cells": [
    {
      "cell_type": "markdown",
      "metadata": {
        "id": "view-in-github",
        "colab_type": "text"
      },
      "source": [
        "<a href=\"https://colab.research.google.com/github/rohitkala23/Hail-Storm-Predictor-/blob/main/wheather_predictor_pr_lab_1.ipynb\" target=\"_parent\"><img src=\"https://colab.research.google.com/assets/colab-badge.svg\" alt=\"Open In Colab\"/></a>"
      ]
    },
    {
      "cell_type": "code",
      "execution_count": null,
      "metadata": {
        "id": "aLGNR7o2w-5w"
      },
      "outputs": [],
      "source": [
        "import matplotlib.pyplot as plt\n",
        "import pandas as pd\n",
        "import numpy as np\n",
        "import seaborn as sns\n",
        "\n",
        "wheatherHistoryDataset = pd.read_csv(\"weatherHistory.csv\")"
      ]
    },
    {
      "cell_type": "markdown",
      "source": [
        "https://www.kaggle.com/datasets/muthuj7/weather-dataset?resource=download"
      ],
      "metadata": {
        "id": "5TMDq7KN7gqV"
      }
    },
    {
      "cell_type": "code",
      "source": [
        "from google.colab import drive\n",
        "drive.mount('/content/drive')"
      ],
      "metadata": {
        "id": "xtWofx0TFwe8"
      },
      "execution_count": null,
      "outputs": []
    },
    {
      "cell_type": "code",
      "source": [
        "wheatherHistoryDataset.head(100)"
      ],
      "metadata": {
        "id": "BOKJMWXUyz6w",
        "colab": {
          "base_uri": "https://localhost:8080/",
          "height": 659
        },
        "outputId": "4cb825bc-6cd0-4fac-dfca-de815a90bdcc"
      },
      "execution_count": null,
      "outputs": [
        {
          "output_type": "execute_result",
          "data": {
            "text/plain": [
              "                   Formatted Date        Summary Precip Type  Temperature (C)  \\\n",
              "0   2006-04-01 00:00:00.000 +0200  Partly Cloudy        rain         9.472222   \n",
              "1   2006-04-01 01:00:00.000 +0200  Partly Cloudy        rain         9.355556   \n",
              "2   2006-04-01 02:00:00.000 +0200  Mostly Cloudy        rain         9.377778   \n",
              "3   2006-04-01 03:00:00.000 +0200  Partly Cloudy        rain         8.288889   \n",
              "4   2006-04-01 04:00:00.000 +0200  Mostly Cloudy        rain         8.755556   \n",
              "..                            ...            ...         ...              ...   \n",
              "95  2006-04-12 23:00:00.000 +0200       Overcast        rain         7.855556   \n",
              "96  2006-04-13 00:00:00.000 +0200  Mostly Cloudy        rain         7.316667   \n",
              "97  2006-04-13 01:00:00.000 +0200       Overcast        rain         7.244444   \n",
              "98  2006-04-13 02:00:00.000 +0200  Partly Cloudy        rain         5.438889   \n",
              "99  2006-04-13 03:00:00.000 +0200       Overcast        rain         7.200000   \n",
              "\n",
              "    Apparent Temperature (C)  Humidity  Wind Speed (km/h)  \\\n",
              "0                   7.388889      0.89            14.1197   \n",
              "1                   7.227778      0.86            14.2646   \n",
              "2                   9.377778      0.89             3.9284   \n",
              "3                   5.944444      0.83            14.1036   \n",
              "4                   6.977778      0.83            11.0446   \n",
              "..                       ...       ...                ...   \n",
              "95                  6.122222      0.72             9.8049   \n",
              "96                  6.211111      0.75             6.6654   \n",
              "97                  6.005556      0.75             7.1162   \n",
              "98                  5.438889      0.88             3.7191   \n",
              "99                  4.550000      0.76            14.4739   \n",
              "\n",
              "    Wind Bearing (degrees)  Visibility (km)  Loud Cover  Pressure (millibars)  \\\n",
              "0                    251.0          15.8263         0.0               1015.13   \n",
              "1                    259.0          15.8263         0.0               1015.63   \n",
              "2                    204.0          14.9569         0.0               1015.94   \n",
              "3                    269.0          15.8263         0.0               1016.41   \n",
              "4                    259.0          15.8263         0.0               1016.51   \n",
              "..                     ...              ...         ...                   ...   \n",
              "95                    11.0          15.0052         0.0               1006.56   \n",
              "96                   326.0          15.8746         0.0               1007.07   \n",
              "97                   309.0          15.8746         0.0               1007.37   \n",
              "98                   193.0           9.9820         0.0               1012.23   \n",
              "99                   273.0          15.8263         0.0               1007.28   \n",
              "\n",
              "                                 Daily Summary  \n",
              "0            Partly cloudy throughout the day.  \n",
              "1            Partly cloudy throughout the day.  \n",
              "2            Partly cloudy throughout the day.  \n",
              "3            Partly cloudy throughout the day.  \n",
              "4            Partly cloudy throughout the day.  \n",
              "..                                         ...  \n",
              "95  Foggy overnight and breezy in the morning.  \n",
              "96                Overcast throughout the day.  \n",
              "97                Overcast throughout the day.  \n",
              "98                Overcast throughout the day.  \n",
              "99                Overcast throughout the day.  \n",
              "\n",
              "[100 rows x 12 columns]"
            ],
            "text/html": [
              "\n",
              "  <div id=\"df-c9e27510-f95b-4c77-9411-336a0cd52823\">\n",
              "    <div class=\"colab-df-container\">\n",
              "      <div>\n",
              "<style scoped>\n",
              "    .dataframe tbody tr th:only-of-type {\n",
              "        vertical-align: middle;\n",
              "    }\n",
              "\n",
              "    .dataframe tbody tr th {\n",
              "        vertical-align: top;\n",
              "    }\n",
              "\n",
              "    .dataframe thead th {\n",
              "        text-align: right;\n",
              "    }\n",
              "</style>\n",
              "<table border=\"1\" class=\"dataframe\">\n",
              "  <thead>\n",
              "    <tr style=\"text-align: right;\">\n",
              "      <th></th>\n",
              "      <th>Formatted Date</th>\n",
              "      <th>Summary</th>\n",
              "      <th>Precip Type</th>\n",
              "      <th>Temperature (C)</th>\n",
              "      <th>Apparent Temperature (C)</th>\n",
              "      <th>Humidity</th>\n",
              "      <th>Wind Speed (km/h)</th>\n",
              "      <th>Wind Bearing (degrees)</th>\n",
              "      <th>Visibility (km)</th>\n",
              "      <th>Loud Cover</th>\n",
              "      <th>Pressure (millibars)</th>\n",
              "      <th>Daily Summary</th>\n",
              "    </tr>\n",
              "  </thead>\n",
              "  <tbody>\n",
              "    <tr>\n",
              "      <th>0</th>\n",
              "      <td>2006-04-01 00:00:00.000 +0200</td>\n",
              "      <td>Partly Cloudy</td>\n",
              "      <td>rain</td>\n",
              "      <td>9.472222</td>\n",
              "      <td>7.388889</td>\n",
              "      <td>0.89</td>\n",
              "      <td>14.1197</td>\n",
              "      <td>251.0</td>\n",
              "      <td>15.8263</td>\n",
              "      <td>0.0</td>\n",
              "      <td>1015.13</td>\n",
              "      <td>Partly cloudy throughout the day.</td>\n",
              "    </tr>\n",
              "    <tr>\n",
              "      <th>1</th>\n",
              "      <td>2006-04-01 01:00:00.000 +0200</td>\n",
              "      <td>Partly Cloudy</td>\n",
              "      <td>rain</td>\n",
              "      <td>9.355556</td>\n",
              "      <td>7.227778</td>\n",
              "      <td>0.86</td>\n",
              "      <td>14.2646</td>\n",
              "      <td>259.0</td>\n",
              "      <td>15.8263</td>\n",
              "      <td>0.0</td>\n",
              "      <td>1015.63</td>\n",
              "      <td>Partly cloudy throughout the day.</td>\n",
              "    </tr>\n",
              "    <tr>\n",
              "      <th>2</th>\n",
              "      <td>2006-04-01 02:00:00.000 +0200</td>\n",
              "      <td>Mostly Cloudy</td>\n",
              "      <td>rain</td>\n",
              "      <td>9.377778</td>\n",
              "      <td>9.377778</td>\n",
              "      <td>0.89</td>\n",
              "      <td>3.9284</td>\n",
              "      <td>204.0</td>\n",
              "      <td>14.9569</td>\n",
              "      <td>0.0</td>\n",
              "      <td>1015.94</td>\n",
              "      <td>Partly cloudy throughout the day.</td>\n",
              "    </tr>\n",
              "    <tr>\n",
              "      <th>3</th>\n",
              "      <td>2006-04-01 03:00:00.000 +0200</td>\n",
              "      <td>Partly Cloudy</td>\n",
              "      <td>rain</td>\n",
              "      <td>8.288889</td>\n",
              "      <td>5.944444</td>\n",
              "      <td>0.83</td>\n",
              "      <td>14.1036</td>\n",
              "      <td>269.0</td>\n",
              "      <td>15.8263</td>\n",
              "      <td>0.0</td>\n",
              "      <td>1016.41</td>\n",
              "      <td>Partly cloudy throughout the day.</td>\n",
              "    </tr>\n",
              "    <tr>\n",
              "      <th>4</th>\n",
              "      <td>2006-04-01 04:00:00.000 +0200</td>\n",
              "      <td>Mostly Cloudy</td>\n",
              "      <td>rain</td>\n",
              "      <td>8.755556</td>\n",
              "      <td>6.977778</td>\n",
              "      <td>0.83</td>\n",
              "      <td>11.0446</td>\n",
              "      <td>259.0</td>\n",
              "      <td>15.8263</td>\n",
              "      <td>0.0</td>\n",
              "      <td>1016.51</td>\n",
              "      <td>Partly cloudy throughout the day.</td>\n",
              "    </tr>\n",
              "    <tr>\n",
              "      <th>...</th>\n",
              "      <td>...</td>\n",
              "      <td>...</td>\n",
              "      <td>...</td>\n",
              "      <td>...</td>\n",
              "      <td>...</td>\n",
              "      <td>...</td>\n",
              "      <td>...</td>\n",
              "      <td>...</td>\n",
              "      <td>...</td>\n",
              "      <td>...</td>\n",
              "      <td>...</td>\n",
              "      <td>...</td>\n",
              "    </tr>\n",
              "    <tr>\n",
              "      <th>95</th>\n",
              "      <td>2006-04-12 23:00:00.000 +0200</td>\n",
              "      <td>Overcast</td>\n",
              "      <td>rain</td>\n",
              "      <td>7.855556</td>\n",
              "      <td>6.122222</td>\n",
              "      <td>0.72</td>\n",
              "      <td>9.8049</td>\n",
              "      <td>11.0</td>\n",
              "      <td>15.0052</td>\n",
              "      <td>0.0</td>\n",
              "      <td>1006.56</td>\n",
              "      <td>Foggy overnight and breezy in the morning.</td>\n",
              "    </tr>\n",
              "    <tr>\n",
              "      <th>96</th>\n",
              "      <td>2006-04-13 00:00:00.000 +0200</td>\n",
              "      <td>Mostly Cloudy</td>\n",
              "      <td>rain</td>\n",
              "      <td>7.316667</td>\n",
              "      <td>6.211111</td>\n",
              "      <td>0.75</td>\n",
              "      <td>6.6654</td>\n",
              "      <td>326.0</td>\n",
              "      <td>15.8746</td>\n",
              "      <td>0.0</td>\n",
              "      <td>1007.07</td>\n",
              "      <td>Overcast throughout the day.</td>\n",
              "    </tr>\n",
              "    <tr>\n",
              "      <th>97</th>\n",
              "      <td>2006-04-13 01:00:00.000 +0200</td>\n",
              "      <td>Overcast</td>\n",
              "      <td>rain</td>\n",
              "      <td>7.244444</td>\n",
              "      <td>6.005556</td>\n",
              "      <td>0.75</td>\n",
              "      <td>7.1162</td>\n",
              "      <td>309.0</td>\n",
              "      <td>15.8746</td>\n",
              "      <td>0.0</td>\n",
              "      <td>1007.37</td>\n",
              "      <td>Overcast throughout the day.</td>\n",
              "    </tr>\n",
              "    <tr>\n",
              "      <th>98</th>\n",
              "      <td>2006-04-13 02:00:00.000 +0200</td>\n",
              "      <td>Partly Cloudy</td>\n",
              "      <td>rain</td>\n",
              "      <td>5.438889</td>\n",
              "      <td>5.438889</td>\n",
              "      <td>0.88</td>\n",
              "      <td>3.7191</td>\n",
              "      <td>193.0</td>\n",
              "      <td>9.9820</td>\n",
              "      <td>0.0</td>\n",
              "      <td>1012.23</td>\n",
              "      <td>Overcast throughout the day.</td>\n",
              "    </tr>\n",
              "    <tr>\n",
              "      <th>99</th>\n",
              "      <td>2006-04-13 03:00:00.000 +0200</td>\n",
              "      <td>Overcast</td>\n",
              "      <td>rain</td>\n",
              "      <td>7.200000</td>\n",
              "      <td>4.550000</td>\n",
              "      <td>0.76</td>\n",
              "      <td>14.4739</td>\n",
              "      <td>273.0</td>\n",
              "      <td>15.8263</td>\n",
              "      <td>0.0</td>\n",
              "      <td>1007.28</td>\n",
              "      <td>Overcast throughout the day.</td>\n",
              "    </tr>\n",
              "  </tbody>\n",
              "</table>\n",
              "<p>100 rows × 12 columns</p>\n",
              "</div>\n",
              "      <button class=\"colab-df-convert\" onclick=\"convertToInteractive('df-c9e27510-f95b-4c77-9411-336a0cd52823')\"\n",
              "              title=\"Convert this dataframe to an interactive table.\"\n",
              "              style=\"display:none;\">\n",
              "        \n",
              "  <svg xmlns=\"http://www.w3.org/2000/svg\" height=\"24px\"viewBox=\"0 0 24 24\"\n",
              "       width=\"24px\">\n",
              "    <path d=\"M0 0h24v24H0V0z\" fill=\"none\"/>\n",
              "    <path d=\"M18.56 5.44l.94 2.06.94-2.06 2.06-.94-2.06-.94-.94-2.06-.94 2.06-2.06.94zm-11 1L8.5 8.5l.94-2.06 2.06-.94-2.06-.94L8.5 2.5l-.94 2.06-2.06.94zm10 10l.94 2.06.94-2.06 2.06-.94-2.06-.94-.94-2.06-.94 2.06-2.06.94z\"/><path d=\"M17.41 7.96l-1.37-1.37c-.4-.4-.92-.59-1.43-.59-.52 0-1.04.2-1.43.59L10.3 9.45l-7.72 7.72c-.78.78-.78 2.05 0 2.83L4 21.41c.39.39.9.59 1.41.59.51 0 1.02-.2 1.41-.59l7.78-7.78 2.81-2.81c.8-.78.8-2.07 0-2.86zM5.41 20L4 18.59l7.72-7.72 1.47 1.35L5.41 20z\"/>\n",
              "  </svg>\n",
              "      </button>\n",
              "      \n",
              "  <style>\n",
              "    .colab-df-container {\n",
              "      display:flex;\n",
              "      flex-wrap:wrap;\n",
              "      gap: 12px;\n",
              "    }\n",
              "\n",
              "    .colab-df-convert {\n",
              "      background-color: #E8F0FE;\n",
              "      border: none;\n",
              "      border-radius: 50%;\n",
              "      cursor: pointer;\n",
              "      display: none;\n",
              "      fill: #1967D2;\n",
              "      height: 32px;\n",
              "      padding: 0 0 0 0;\n",
              "      width: 32px;\n",
              "    }\n",
              "\n",
              "    .colab-df-convert:hover {\n",
              "      background-color: #E2EBFA;\n",
              "      box-shadow: 0px 1px 2px rgba(60, 64, 67, 0.3), 0px 1px 3px 1px rgba(60, 64, 67, 0.15);\n",
              "      fill: #174EA6;\n",
              "    }\n",
              "\n",
              "    [theme=dark] .colab-df-convert {\n",
              "      background-color: #3B4455;\n",
              "      fill: #D2E3FC;\n",
              "    }\n",
              "\n",
              "    [theme=dark] .colab-df-convert:hover {\n",
              "      background-color: #434B5C;\n",
              "      box-shadow: 0px 1px 3px 1px rgba(0, 0, 0, 0.15);\n",
              "      filter: drop-shadow(0px 1px 2px rgba(0, 0, 0, 0.3));\n",
              "      fill: #FFFFFF;\n",
              "    }\n",
              "  </style>\n",
              "\n",
              "      <script>\n",
              "        const buttonEl =\n",
              "          document.querySelector('#df-c9e27510-f95b-4c77-9411-336a0cd52823 button.colab-df-convert');\n",
              "        buttonEl.style.display =\n",
              "          google.colab.kernel.accessAllowed ? 'block' : 'none';\n",
              "\n",
              "        async function convertToInteractive(key) {\n",
              "          const element = document.querySelector('#df-c9e27510-f95b-4c77-9411-336a0cd52823');\n",
              "          const dataTable =\n",
              "            await google.colab.kernel.invokeFunction('convertToInteractive',\n",
              "                                                     [key], {});\n",
              "          if (!dataTable) return;\n",
              "\n",
              "          const docLinkHtml = 'Like what you see? Visit the ' +\n",
              "            '<a target=\"_blank\" href=https://colab.research.google.com/notebooks/data_table.ipynb>data table notebook</a>'\n",
              "            + ' to learn more about interactive tables.';\n",
              "          element.innerHTML = '';\n",
              "          dataTable['output_type'] = 'display_data';\n",
              "          await google.colab.output.renderOutput(dataTable, element);\n",
              "          const docLink = document.createElement('div');\n",
              "          docLink.innerHTML = docLinkHtml;\n",
              "          element.appendChild(docLink);\n",
              "        }\n",
              "      </script>\n",
              "    </div>\n",
              "  </div>\n",
              "  "
            ]
          },
          "metadata": {},
          "execution_count": 2
        }
      ]
    },
    {
      "cell_type": "code",
      "source": [
        "wheatherHistoryDataset.describe()"
      ],
      "metadata": {
        "id": "I3cUjfr9TYgF",
        "colab": {
          "base_uri": "https://localhost:8080/",
          "height": 300
        },
        "outputId": "458d7a85-22cb-4fd7-f805-d92b7565e5f4"
      },
      "execution_count": null,
      "outputs": [
        {
          "output_type": "execute_result",
          "data": {
            "text/plain": [
              "       Temperature (C)  Apparent Temperature (C)      Humidity  \\\n",
              "count     96453.000000              96453.000000  96453.000000   \n",
              "mean         11.932678                 10.855029      0.734899   \n",
              "std           9.551546                 10.696847      0.195473   \n",
              "min         -21.822222                -27.716667      0.000000   \n",
              "25%           4.688889                  2.311111      0.600000   \n",
              "50%          12.000000                 12.000000      0.780000   \n",
              "75%          18.838889                 18.838889      0.890000   \n",
              "max          39.905556                 39.344444      1.000000   \n",
              "\n",
              "       Wind Speed (km/h)  Wind Bearing (degrees)  Visibility (km)  Loud Cover  \\\n",
              "count       96453.000000            96453.000000     96453.000000     96453.0   \n",
              "mean           10.810640              187.509232        10.347325         0.0   \n",
              "std             6.913571              107.383428         4.192123         0.0   \n",
              "min             0.000000                0.000000         0.000000         0.0   \n",
              "25%             5.828200              116.000000         8.339800         0.0   \n",
              "50%             9.965900              180.000000        10.046400         0.0   \n",
              "75%            14.135800              290.000000        14.812000         0.0   \n",
              "max            63.852600              359.000000        16.100000         0.0   \n",
              "\n",
              "       Pressure (millibars)  \n",
              "count          96453.000000  \n",
              "mean            1003.235956  \n",
              "std              116.969906  \n",
              "min                0.000000  \n",
              "25%             1011.900000  \n",
              "50%             1016.450000  \n",
              "75%             1021.090000  \n",
              "max             1046.380000  "
            ],
            "text/html": [
              "\n",
              "  <div id=\"df-ca6621e9-5343-4ea5-a8ec-f38fc5dc0ed5\">\n",
              "    <div class=\"colab-df-container\">\n",
              "      <div>\n",
              "<style scoped>\n",
              "    .dataframe tbody tr th:only-of-type {\n",
              "        vertical-align: middle;\n",
              "    }\n",
              "\n",
              "    .dataframe tbody tr th {\n",
              "        vertical-align: top;\n",
              "    }\n",
              "\n",
              "    .dataframe thead th {\n",
              "        text-align: right;\n",
              "    }\n",
              "</style>\n",
              "<table border=\"1\" class=\"dataframe\">\n",
              "  <thead>\n",
              "    <tr style=\"text-align: right;\">\n",
              "      <th></th>\n",
              "      <th>Temperature (C)</th>\n",
              "      <th>Apparent Temperature (C)</th>\n",
              "      <th>Humidity</th>\n",
              "      <th>Wind Speed (km/h)</th>\n",
              "      <th>Wind Bearing (degrees)</th>\n",
              "      <th>Visibility (km)</th>\n",
              "      <th>Loud Cover</th>\n",
              "      <th>Pressure (millibars)</th>\n",
              "    </tr>\n",
              "  </thead>\n",
              "  <tbody>\n",
              "    <tr>\n",
              "      <th>count</th>\n",
              "      <td>96453.000000</td>\n",
              "      <td>96453.000000</td>\n",
              "      <td>96453.000000</td>\n",
              "      <td>96453.000000</td>\n",
              "      <td>96453.000000</td>\n",
              "      <td>96453.000000</td>\n",
              "      <td>96453.0</td>\n",
              "      <td>96453.000000</td>\n",
              "    </tr>\n",
              "    <tr>\n",
              "      <th>mean</th>\n",
              "      <td>11.932678</td>\n",
              "      <td>10.855029</td>\n",
              "      <td>0.734899</td>\n",
              "      <td>10.810640</td>\n",
              "      <td>187.509232</td>\n",
              "      <td>10.347325</td>\n",
              "      <td>0.0</td>\n",
              "      <td>1003.235956</td>\n",
              "    </tr>\n",
              "    <tr>\n",
              "      <th>std</th>\n",
              "      <td>9.551546</td>\n",
              "      <td>10.696847</td>\n",
              "      <td>0.195473</td>\n",
              "      <td>6.913571</td>\n",
              "      <td>107.383428</td>\n",
              "      <td>4.192123</td>\n",
              "      <td>0.0</td>\n",
              "      <td>116.969906</td>\n",
              "    </tr>\n",
              "    <tr>\n",
              "      <th>min</th>\n",
              "      <td>-21.822222</td>\n",
              "      <td>-27.716667</td>\n",
              "      <td>0.000000</td>\n",
              "      <td>0.000000</td>\n",
              "      <td>0.000000</td>\n",
              "      <td>0.000000</td>\n",
              "      <td>0.0</td>\n",
              "      <td>0.000000</td>\n",
              "    </tr>\n",
              "    <tr>\n",
              "      <th>25%</th>\n",
              "      <td>4.688889</td>\n",
              "      <td>2.311111</td>\n",
              "      <td>0.600000</td>\n",
              "      <td>5.828200</td>\n",
              "      <td>116.000000</td>\n",
              "      <td>8.339800</td>\n",
              "      <td>0.0</td>\n",
              "      <td>1011.900000</td>\n",
              "    </tr>\n",
              "    <tr>\n",
              "      <th>50%</th>\n",
              "      <td>12.000000</td>\n",
              "      <td>12.000000</td>\n",
              "      <td>0.780000</td>\n",
              "      <td>9.965900</td>\n",
              "      <td>180.000000</td>\n",
              "      <td>10.046400</td>\n",
              "      <td>0.0</td>\n",
              "      <td>1016.450000</td>\n",
              "    </tr>\n",
              "    <tr>\n",
              "      <th>75%</th>\n",
              "      <td>18.838889</td>\n",
              "      <td>18.838889</td>\n",
              "      <td>0.890000</td>\n",
              "      <td>14.135800</td>\n",
              "      <td>290.000000</td>\n",
              "      <td>14.812000</td>\n",
              "      <td>0.0</td>\n",
              "      <td>1021.090000</td>\n",
              "    </tr>\n",
              "    <tr>\n",
              "      <th>max</th>\n",
              "      <td>39.905556</td>\n",
              "      <td>39.344444</td>\n",
              "      <td>1.000000</td>\n",
              "      <td>63.852600</td>\n",
              "      <td>359.000000</td>\n",
              "      <td>16.100000</td>\n",
              "      <td>0.0</td>\n",
              "      <td>1046.380000</td>\n",
              "    </tr>\n",
              "  </tbody>\n",
              "</table>\n",
              "</div>\n",
              "      <button class=\"colab-df-convert\" onclick=\"convertToInteractive('df-ca6621e9-5343-4ea5-a8ec-f38fc5dc0ed5')\"\n",
              "              title=\"Convert this dataframe to an interactive table.\"\n",
              "              style=\"display:none;\">\n",
              "        \n",
              "  <svg xmlns=\"http://www.w3.org/2000/svg\" height=\"24px\"viewBox=\"0 0 24 24\"\n",
              "       width=\"24px\">\n",
              "    <path d=\"M0 0h24v24H0V0z\" fill=\"none\"/>\n",
              "    <path d=\"M18.56 5.44l.94 2.06.94-2.06 2.06-.94-2.06-.94-.94-2.06-.94 2.06-2.06.94zm-11 1L8.5 8.5l.94-2.06 2.06-.94-2.06-.94L8.5 2.5l-.94 2.06-2.06.94zm10 10l.94 2.06.94-2.06 2.06-.94-2.06-.94-.94-2.06-.94 2.06-2.06.94z\"/><path d=\"M17.41 7.96l-1.37-1.37c-.4-.4-.92-.59-1.43-.59-.52 0-1.04.2-1.43.59L10.3 9.45l-7.72 7.72c-.78.78-.78 2.05 0 2.83L4 21.41c.39.39.9.59 1.41.59.51 0 1.02-.2 1.41-.59l7.78-7.78 2.81-2.81c.8-.78.8-2.07 0-2.86zM5.41 20L4 18.59l7.72-7.72 1.47 1.35L5.41 20z\"/>\n",
              "  </svg>\n",
              "      </button>\n",
              "      \n",
              "  <style>\n",
              "    .colab-df-container {\n",
              "      display:flex;\n",
              "      flex-wrap:wrap;\n",
              "      gap: 12px;\n",
              "    }\n",
              "\n",
              "    .colab-df-convert {\n",
              "      background-color: #E8F0FE;\n",
              "      border: none;\n",
              "      border-radius: 50%;\n",
              "      cursor: pointer;\n",
              "      display: none;\n",
              "      fill: #1967D2;\n",
              "      height: 32px;\n",
              "      padding: 0 0 0 0;\n",
              "      width: 32px;\n",
              "    }\n",
              "\n",
              "    .colab-df-convert:hover {\n",
              "      background-color: #E2EBFA;\n",
              "      box-shadow: 0px 1px 2px rgba(60, 64, 67, 0.3), 0px 1px 3px 1px rgba(60, 64, 67, 0.15);\n",
              "      fill: #174EA6;\n",
              "    }\n",
              "\n",
              "    [theme=dark] .colab-df-convert {\n",
              "      background-color: #3B4455;\n",
              "      fill: #D2E3FC;\n",
              "    }\n",
              "\n",
              "    [theme=dark] .colab-df-convert:hover {\n",
              "      background-color: #434B5C;\n",
              "      box-shadow: 0px 1px 3px 1px rgba(0, 0, 0, 0.15);\n",
              "      filter: drop-shadow(0px 1px 2px rgba(0, 0, 0, 0.3));\n",
              "      fill: #FFFFFF;\n",
              "    }\n",
              "  </style>\n",
              "\n",
              "      <script>\n",
              "        const buttonEl =\n",
              "          document.querySelector('#df-ca6621e9-5343-4ea5-a8ec-f38fc5dc0ed5 button.colab-df-convert');\n",
              "        buttonEl.style.display =\n",
              "          google.colab.kernel.accessAllowed ? 'block' : 'none';\n",
              "\n",
              "        async function convertToInteractive(key) {\n",
              "          const element = document.querySelector('#df-ca6621e9-5343-4ea5-a8ec-f38fc5dc0ed5');\n",
              "          const dataTable =\n",
              "            await google.colab.kernel.invokeFunction('convertToInteractive',\n",
              "                                                     [key], {});\n",
              "          if (!dataTable) return;\n",
              "\n",
              "          const docLinkHtml = 'Like what you see? Visit the ' +\n",
              "            '<a target=\"_blank\" href=https://colab.research.google.com/notebooks/data_table.ipynb>data table notebook</a>'\n",
              "            + ' to learn more about interactive tables.';\n",
              "          element.innerHTML = '';\n",
              "          dataTable['output_type'] = 'display_data';\n",
              "          await google.colab.output.renderOutput(dataTable, element);\n",
              "          const docLink = document.createElement('div');\n",
              "          docLink.innerHTML = docLinkHtml;\n",
              "          element.appendChild(docLink);\n",
              "        }\n",
              "      </script>\n",
              "    </div>\n",
              "  </div>\n",
              "  "
            ]
          },
          "metadata": {},
          "execution_count": 3
        }
      ]
    },
    {
      "cell_type": "code",
      "source": [
        "rows = len(wheatherHistoryDataset.axes[0])\n",
        "\n",
        "cols = len(wheatherHistoryDataset.axes[1])\n",
        " \n",
        "\n",
        "print(\"Number of Rows: \", rows)\n",
        "print(\"Number of Columns: \", cols)"
      ],
      "metadata": {
        "colab": {
          "base_uri": "https://localhost:8080/"
        },
        "id": "uxVt9iS5DHmh",
        "outputId": "71e5e022-7882-4d7a-9b19-ff4c8eb966df"
      },
      "execution_count": null,
      "outputs": [
        {
          "output_type": "stream",
          "name": "stdout",
          "text": [
            "Number of Rows:  96453\n",
            "Number of Columns:  12\n"
          ]
        }
      ]
    },
    {
      "cell_type": "code",
      "source": [
        "print(wheatherHistoryDataset.columns)"
      ],
      "metadata": {
        "colab": {
          "base_uri": "https://localhost:8080/"
        },
        "id": "H_aI84j--yOf",
        "outputId": "710bcaac-6843-4239-87e1-9c3d5d5960cf"
      },
      "execution_count": null,
      "outputs": [
        {
          "output_type": "stream",
          "name": "stdout",
          "text": [
            "Index(['Formatted Date', 'Summary', 'Precip Type', 'Temperature (C)',\n",
            "       'Apparent Temperature (C)', 'Humidity', 'Wind Speed (km/h)',\n",
            "       'Wind Bearing (degrees)', 'Visibility (km)', 'Loud Cover',\n",
            "       'Pressure (millibars)', 'Daily Summary'],\n",
            "      dtype='object')\n"
          ]
        }
      ]
    },
    {
      "cell_type": "code",
      "source": [
        "from collections import Counter\n",
        "for i in wheatherHistoryDataset.columns:\n",
        "  print(wheatherHistoryDataset[str(i)].isnull().values.any())\n",
        "  print(Counter(wheatherHistoryDataset[str(i)]))\n",
        "  "
      ],
      "metadata": {
        "colab": {
          "base_uri": "https://localhost:8080/"
        },
        "id": "6s5TlTAt2Nen",
        "outputId": "175de5d0-9975-44f4-afb4-44654d25d5eb"
      },
      "execution_count": null,
      "outputs": [
        {
          "output_type": "stream",
          "name": "stdout",
          "text": [
            "False\n"
          ]
        },
        {
          "output_type": "stream",
          "name": "stderr",
          "text": [
            "IOPub data rate exceeded.\n",
            "The notebook server will temporarily stop sending output\n",
            "to the client in order to avoid crashing it.\n",
            "To change this limit, set the config variable\n",
            "`--NotebookApp.iopub_data_rate_limit`.\n",
            "\n",
            "Current values:\n",
            "NotebookApp.iopub_data_rate_limit=1000000.0 (bytes/sec)\n",
            "NotebookApp.rate_limit_window=3.0 (secs)\n",
            "\n"
          ]
        },
        {
          "output_type": "stream",
          "name": "stdout",
          "text": [
            "Counter({0.93: 5708, 0.92: 3888, 0.96: 3843, 1.0: 2890, 0.89: 2837, 0.86: 2770, 0.87: 2420, 0.83: 2311, 0.9: 2285, 0.85: 2164, 0.84: 2096, 0.78: 1990, 0.82: 1985, 0.88: 1860, 0.79: 1846, 0.81: 1790, 0.8: 1774, 0.77: 1751, 0.72: 1713, 0.76: 1651, 0.73: 1649, 0.99: 1576, 0.75: 1443, 0.71: 1406, 0.74: 1401, 0.69: 1270, 0.7: 1262, 0.68: 1201, 0.67: 1184, 0.66: 1111, 0.65: 1087, 0.64: 1083, 0.63: 1054, 0.91: 1053, 0.62: 1028, 0.61: 1011, 0.95: 998, 0.58: 955, 0.94: 952, 0.59: 950, 0.6: 929, 0.55: 911, 0.54: 896, 0.57: 882, 0.53: 874, 0.5: 849, 0.49: 805, 0.56: 801, 0.51: 788, 0.47: 766, 0.48: 755, 0.44: 727, 0.46: 718, 0.52: 718, 0.37: 708, 0.4: 697, 0.39: 697, 0.45: 696, 0.38: 695, 0.41: 677, 0.43: 663, 0.42: 606, 0.34: 605, 0.97: 582, 0.32: 566, 0.33: 566, 0.36: 555, 0.35: 551, 0.31: 410, 0.29: 410, 0.3: 397, 0.28: 316, 0.27: 286, 0.98: 253, 0.26: 197, 0.25: 173, 0.24: 125, 0.23: 86, 0.22: 52, 0.21: 52, 0.2: 44, 0.19: 36, 0.18: 26, 0.0: 22, 0.17: 15, 0.15: 10, 0.16: 8, 0.14: 4, 0.13: 1, 0.12: 1})\n",
            "False\n",
            "Counter({3.22: 2441, 11.27: 1495, 6.44: 1357, 0.0: 1297, 8.05: 920, 14.49: 881, 4.83: 797, 9.66: 785, 12.88: 561, 3.0751: 541, 17.71: 432, 3.2039: 418, 16.1: 352, 11.0446: 347, 6.295100000000001: 330, 6.1502: 319, 20.93: 319, 3.1878: 316, 11.0768: 276, 10.948: 276, 3.1717: 274, 1.61: 270, 10.9158: 270, 6.279: 259, 11.0607: 258, 10.8997: 249, 3.3649: 249, 10.722600000000002: 236, 11.0124: 233, 7.969500000000001: 230, 14.023100000000005: 227, 25.76: 226, 3.1556: 224, 10.835300000000002: 223, 10.8675: 218, 3.3488: 218, 10.9319: 217, 11.2056: 212, 9.2253: 211, 7.824600000000001: 210, 10.8836: 206, 9.3702: 206, 3.3327: 203, 6.423900000000001: 202, 4.6046000000000005: 201, 14.007: 194, 3.1234: 192, 10.7387: 191, 22.540000000000003: 191, 10.7548: 190, 4.7495: 183, 3.1395: 181, 10.706500000000002: 181, 6.2468: 180, 13.894300000000005: 178, 3.3005: 178, 3.2683: 176, 24.15: 175, 14.1519: 174, 7.776300000000001: 170, 9.5151: 169, 14.1358: 167, 3.0268: 166, 10.6904: 165, 10.851400000000002: 164, 10.6421: 163, 10.8031: 162, 6.488300000000001: 161, 10.7709: 161, 3.1073: 160, 10.996300000000002: 159, 11.0285: 159, 10.8192: 158, 11.1734: 158, 10.787: 158, 10.6743: 157, 7.679699999999999: 157, 11.125100000000002: 156, 6.262900000000001: 155, 9.5795: 155, 9.4668: 155, 9.4507: 154, 6.3434: 154, 9.7083: 154, 11.237800000000002: 152, 3.059: 151, 6.4078: 151, 10.5938: 151, 9.5634: 150, 9.4829: 149, 9.2575: 148, 9.3541: 147, 14.0392: 147, 9.5956: 147, 1.5295: 146, 12.525800000000002: 145, 6.6493: 145, 3.2361: 144, 9.4346: 144, 6.166300000000001: 143, 9.2414: 142, 2.9302: 141, 12.654600000000002: 140, 4.652900000000001: 139, 4.7334000000000005: 138, 3.0912: 138, 9.3219: 138, 7.760200000000001: 138, 4.6851: 138, 7.953400000000001: 136, 6.230700000000001: 136, 10.577700000000002: 136, 7.792400000000001: 136, 13.9587: 135, 14.168000000000005: 135, 3.4293: 135, 10.6582: 135, 3.0429: 135, 7.744099999999999: 134, 9.2897: 134, 3.5259: 133, 4.6690000000000005: 132, 7.808499999999999: 132, 4.7978000000000005: 132, 4.8944: 132, 12.397: 132, 4.7656: 131, 11.1573: 130, 0.1449: 130, 10.980200000000002: 130, 9.7244: 130, 3.0107000000000004: 129, 6.1985: 129, 11.0929: 129, 11.1895: 129, 11.2217: 129, 6.3756: 128, 7.8729: 128, 14.1197: 127, 7.631400000000001: 127, 3.3166: 127, 2.9624: 127, 12.6868: 127, 9.499: 127, 4.7012: 126, 13.9909: 126, 4.8139: 125, 6.6332: 125, 9.4185: 125, 8.1949: 125, 2.9785000000000004: 125, 9.2092: 124, 12.558: 124, 13.8299: 123, 4.8783: 123, 3.5581: 123, 7.615300000000001: 123, 3.4132: 122, 9.5312: 122, 6.1341: 121, 9.1126: 120, 6.3112: 120, 12.799500000000002: 119, 10.5616: 118, 14.329: 118, 9.7405: 118, 9.6117: 118, 14.312900000000004: 118, 9.3058: 117, 3.4776: 117, 2.9463000000000004: 117, 9.4024: 117, 10.5455: 117, 17.0821: 117, 9.3863: 117, 6.118: 117, 14.1036: 116, 14.2163: 116, 3.2844: 116, 6.2146: 116, 12.5419: 116, 13.8782: 115, 12.4131: 115, 6.5044: 114, 12.4936: 114, 6.1019000000000005: 114, 11.3988: 113, 3.5742000000000007: 113, 7.9373: 113, 13.7977: 112, 13.8621: 112, 3.3971: 111, 4.6207: 111, 7.905100000000001: 111, 9.338: 111, 28.98: 111, 10.465: 110, 13.685: 110, 7.5992: 110, 14.1841: 110, 8.1305: 110, 17.114300000000004: 110, 10.9641: 110, 14.296800000000005: 109, 7.889000000000001: 109, 7.647500000000001: 109, 7.921200000000001: 108, 11.382700000000002: 108, 13.846: 108, 13.8138: 107, 10.6099: 106, 6.5205: 105, 7.695800000000001: 105, 9.0804: 105, 9.0965: 104, 4.717300000000001: 104, 6.1824: 104, 9.1931: 103, 6.601: 103, 5.119800000000001: 103, 4.8622000000000005: 102, 6.0375000000000005: 102, 11.109000000000002: 102, 12.2038: 102, 9.5473: 102, 11.1412: 101, 13.9748: 101, 10.448900000000002: 101, 6.4722: 101, 14.0875: 100, 6.4561: 100, 3.5420000000000007: 99, 12.3487: 99, 6.0536: 98, 7.728: 98, 4.8461: 97, 10.626: 97, 10.5133: 97, 7.985600000000001: 97, 3.703: 97, 11.4149: 97, 16.9694: 97, 11.253900000000002: 96, 9.2736: 96, 27.37: 96, 9.1287: 96, 4.6368: 96, 8.0822: 96, 3.4454: 96, 14.2807: 96, 14.2646: 95, 6.6654: 95, 4.5563: 95, 15.778000000000002: 94, 3.4615: 94, 6.5849: 94, 13.9426: 93, 6.552700000000001: 93, 6.359500000000001: 93, 12.5902: 93, 13.9104: 93, 13.6689: 92, 4.524100000000001: 92, 6.021400000000001: 92, 14.2002: 92, 15.4882: 91, 14.457800000000002: 91, 2.9946: 91, 4.9588: 91, 12.4292: 91, 5.055400000000001: 91, 9.6278: 90, 2.9141000000000004: 90, 15.504300000000002: 90, 16.985500000000002: 89, 13.7494: 89, 8.0983: 89, 10.4811: 89, 4.4919: 89, 7.502600000000001: 89, 10.4972: 88, 7.711900000000001: 88, 3.5098000000000003: 88, 7.840700000000001: 88, 12.783400000000002: 88, 11.3505: 88, 15.6009: 88, 12.7351: 87, 12.3326: 87, 13.7816: 87, 4.9749: 87, 11.3344: 86, 3.2522: 86, 10.3845: 86, 4.4758: 86, 12.6063: 86, 4.5724: 85, 3.381: 85, 4.508: 85, 15.4721: 85, 15.633100000000002: 84, 9.160900000000002: 84, 4.459700000000001: 84, 9.032100000000002: 84, 12.5741: 84, 6.0858: 83, 6.0697: 83, 10.2718: 83, 9.6439: 83, 7.486500000000001: 82, 9.7888: 82, 2.898: 82, 7.856800000000001: 82, 9.0643: 81, 7.583100000000001: 81, 12.3004: 81, 12.4775: 81, 10.4167: 81, 7.550900000000001: 81, 10.4006: 80, 9.6761: 80, 7.6636: 80, 3.5903: 80, 10.5294: 80, 20.2055: 80, 4.9105: 80, 10.432800000000002: 80, 8.017800000000001: 80, 8.227100000000002: 80, 9.6922: 79, 9.177: 79, 9.8371: 79, 12.6385: 79, 12.1877: 78, 6.391700000000001: 78, 8.033900000000001: 78, 3.6386: 77, 4.9910000000000005: 77, 7.5187: 77, 12.9605: 77, 4.5402000000000005: 77, 13.5884: 77, 17.2109: 76, 14.4739: 76, 10.3201: 76, 4.9266000000000005: 75, 17.2753: 75, 6.7298: 75, 8.0017: 75, 2.8497000000000003: 75, 17.259200000000003: 75, 12.1716: 75, 11.3666: 75, 7.567000000000001: 74, 12.3165: 74, 12.1555: 74, 8.9999: 74, 14.3451: 74, 5.0232: 74, 8.9838: 74, 12.5097: 74, 19.931800000000003: 74, 12.3648: 73, 3.719100000000001: 73, 9.8854: 73, 6.7620000000000005: 73, 2.7853000000000003: 73, 12.2521: 73, 3.6064000000000007: 72, 9.0482: 72, 13.7011: 72, 17.3558: 72, 5.0071: 72, 10.0786: 72, 16.9372: 72, 3.4937: 72, 11.3183: 71, 3.6547: 71, 15.617: 71, 13.6206: 70, 3.6708: 70, 14.2324: 70, 12.2199: 70, 8.1144: 70, 9.8693: 70, 5.0393: 70, 10.3523: 70, 17.1304: 70, 14.0714: 70, 10.3362: 69, 14.0553: 69, 16.9211: 69, 12.4453: 69, 2.8658: 69, 15.439900000000002: 69, 9.016: 69, 13.6528: 69, 8.9677: 69, 16.9533: 69, 5.1037: 69, 13.7172: 68, 7.5348: 68, 9.9176: 68, 4.4275: 68, 17.243100000000002: 68, 5.9248: 68, 4.781700000000001: 68, 13.7655: 68, 13.5562: 68, 7.406: 68, 13.7333: 68, 8.0661: 68, 20.0606: 68, 0.2898: 68, 14.3612: 67, 12.2682: 67, 4.588500000000001: 67, 6.327300000000001: 67, 10.2235: 67, 12.719: 66, 20.3343: 66, 12.380900000000002: 66, 12.2843: 66, 15.7458: 66, 13.6367: 66, 7.3899: 65, 17.436300000000003: 65, 12.6224: 65, 10.2074: 65, 6.0053: 65, 17.388: 65, 12.6707: 65, 0.1288: 65, 8.935500000000001: 65, 8.162700000000001: 65, 5.9892: 64, 7.4704: 64, 12.8317: 64, 17.1626: 64, 10.1752: 64, 9.821: 64, 2.8336: 63, 5.9731000000000005: 63, 9.1448: 63, 6.617100000000001: 63, 12.8478: 63, 4.4436: 63, 7.438200000000001: 63, 16.840600000000002: 63, 10.0625: 63, 12.8156: 62, 2.7692: 62, 11.4471: 62, 14.441700000000004: 62, 15.826300000000002: 62, 13.9265: 62, 17.227: 62, 10.3684: 62, 13.5401: 62, 8.2593: 62, 8.903300000000002: 62, 10.304000000000002: 62, 15.810200000000002: 62, 15.375500000000002: 61, 5.313: 61, 15.8746: 61, 16.8245: 61, 4.9427: 61, 5.8604: 61, 10.2396: 61, 0.5152: 60, 5.892600000000001: 60, 15.649200000000002: 60, 8.3398: 60, 12.8639: 60, 6.7942: 60, 5.828200000000001: 60, 5.9087000000000005: 60, 14.4095: 59, 17.0499: 59, 14.2485: 59, 5.0876: 59, 15.3433: 59, 13.6045: 59, 8.1788: 59, 13.5079: 59, 12.075: 59, 11.4632: 59, 12.236: 59, 12.9122: 58, 16.856700000000004: 58, 12.4614: 58, 2.8175000000000003: 58, 7.357700000000001: 58, 5.152000000000001: 58, 10.2557: 58, 8.9516: 58, 15.697500000000002: 58, 7.3416: 57, 15.955100000000002: 57, 12.7029: 57, 11.3022: 57, 17.3075: 57, 12.9444: 57, 15.906800000000002: 57, 12.9927: 57, 2.737: 57, 7.4543: 57, 1.6583: 57, 4.347: 56, 10.2879: 56, 9.7727: 56, 5.957000000000001: 56, 10.0142: 56, 5.2647: 56, 12.042800000000002: 56, 10.1269: 56, 10.0303: 56, 13.0571: 56, 11.5437: 55, 9.7566: 55, 4.2826: 55, 9.982: 55, 10.0947: 55, 11.2861: 55, 1.6744: 55, 10.1913: 55, 2.8014: 55, 17.0982: 54, 7.3738: 54, 7.1645: 54, 7.422100000000001: 54, 15.939000000000002: 54, 10.1591: 54, 4.3309: 54, 8.8711: 54, 14.586600000000002: 54, 4.1699: 54, 10.1108: 54, 9.9981: 53, 6.7781: 53, 11.511500000000002: 53, 5.8765: 53, 16.8084: 53, 12.1072: 53, 17.066: 53, 13.363: 53, 5.7477: 52, 8.3076: 52, 20.3504: 52, 11.4954: 52, 13.4757: 52, 2.7209: 52, 8.8389: 52, 4.3631: 52, 20.2377: 52, 8.790600000000001: 52, 20.5275: 51, 7.293300000000001: 51, 5.1681: 51, 12.0589: 51, 7.2611: 51, 20.0767: 51, 10.0464: 51, 30.590000000000003: 51, 17.549000000000003: 50, 15.5848: 50, 15.7297: 50, 13.1698: 50, 20.3826: 50, 3.6225: 50, 3.6869: 50, 2.8819000000000004: 50, 2.6565: 50, 10.143: 50, 13.2342: 50, 4.379200000000001: 50, 17.4202: 50, 13.4435: 50, 6.810300000000001: 50, 16.7923: 50, 15.794100000000002: 50, 17.1787: 50, 15.665300000000002: 50, 13.0249: 50, 15.552600000000002: 50, 14.6188: 49, 2.7531000000000003: 49, 2.6726: 49, 3.9928: 49, 6.9391: 49, 13.2664: 49, 14.6349: 49, 8.8872: 49, 15.8585: 49, 17.404100000000003: 49, 8.8228: 49, 4.395300000000001: 49, 7.1162: 48, 5.796: 48, 8.5491: 48, 7.1806: 48, 15.3594: 48, 6.5688: 48, 9.8532: 48, 8.8067: 48, 13.041: 48, 14.3934: 48, 19.9157: 48, 1.8193: 48, 15.423800000000002: 48, 7.3094: 48, 9.9659: 48, 9.8049: 47, 3.7674: 47, 7.245: 47, 13.1859: 47, 13.524: 47, 13.3952: 47, 12.9766: 47, 5.0715: 47, 6.8908000000000005: 47, 2.5760000000000005: 47, 5.9409: 47, 7.0357: 47, 12.7673: 47, 4.025: 47, 13.0893: 47, 16.7601: 47, 9.9015: 46, 15.1984: 46, 4.1538: 46, 6.5366: 46, 8.7262: 46, 8.6135: 46, 5.4096: 46, 13.2825: 46, 7.1967: 46, 12.0267: 46, 4.1055: 46, 13.4596: 46, 17.146500000000003: 46, 5.618900000000001: 45, 2.6404: 45, 13.3791: 45, 13.3469: 45, 5.8443000000000005: 45, 19.9479: 45, 17.001600000000003: 45, 6.8264000000000005: 45, 17.291400000000003: 45, 20.3987: 45, 15.520400000000002: 45, 20.0445: 44, 15.681400000000002: 44, 8.919400000000001: 44, 8.4686: 44, 1.6905: 44, 4.0572: 44, 4.4114: 44, 11.9945: 44, 13.1537: 44, 12.7512: 44, 16.067800000000002: 44, 9.9337: 44, 20.4148: 43, 14.425600000000005: 43, 7.1323: 43, 7.2772: 43, 5.184200000000001: 43, 2.7048: 43, 5.635000000000001: 43, 0.3703: 43, 5.2325: 43, 6.681500000000001: 43, 15.7136: 43, 5.1359: 43, 4.250400000000001: 43, 17.5329: 43, 8.855: 43, 13.2503: 43, 15.568700000000002: 43, 4.186000000000001: 43, 20.1733: 43, 3.815700000000001: 43, 1.9964: 43, 8.355900000000002: 43, 4.2987: 43, 4.2343: 43, 13.1376: 43, 12.0106: 42, 5.2969: 42, 20.7368: 42, 8.2432: 42, 13.4274: 42, 15.536500000000002: 42, 20.1089: 42, 13.0732: 42, 17.0177: 42, 20.2216: 42, 1.9642: 42, 12.9283: 42, 13.0088: 41, 11.5598: 41, 5.7799000000000005: 41, 8.2754: 41, 5.2486: 41, 16.888900000000003: 41, 11.8979: 41, 6.9874: 41, 15.8907: 41, 15.922900000000002: 41, 17.0338: 41, 6.9552000000000005: 41, 5.3291: 41, 4.314800000000001: 41, 11.5276: 41, 13.218100000000002: 41, 13.2986: 41, 9.9498: 41, 15.7619: 41, 22.024800000000003: 41, 7.1001: 41, 33.81: 41, 19.8996: 40, 13.4113: 40, 11.4793: 40, 4.2021: 40, 1.7066: 40, 2.6887: 40, 3.8962: 40, 20.3665: 40, 11.8496: 40, 20.4953: 40, 12.0911: 40, 8.774500000000002: 40, 13.1054: 40, 21.8316: 40, 8.645700000000001: 40, 6.9069: 40, 3.7996: 40, 16.6152: 40, 15.391600000000002: 40, 5.3774: 40, 16.744000000000003: 40, 21.5418: 40, 20.6885: 39, 8.5169: 39, 6.745900000000001: 39, 2.5599000000000003: 39, 8.758400000000002: 39, 7.212800000000001: 39, 17.3397: 39, 17.4524: 39, 17.3719: 39, 8.3237: 39, 13.4918: 39, 16.180500000000002: 39, 3.7352: 39, 6.6976: 39, 14.6027: 39, 4.0411: 39, 15.134000000000002: 39, 16.905: 39, 5.506200000000001: 39, 15.262800000000002: 39, 17.581200000000003: 38, 3.880100000000001: 38, 11.6725: 38, 17.1948: 38, 7.3255: 38, 5.8121: 38, 11.431: 38, 14.5222: 38, 3.976700000000001: 38, 13.1215: 38, 15.9873: 38, 12.1394: 38, 7.0518: 38, 15.230600000000004: 38, 15.278900000000002: 38, 16.5025: 37, 7.0679: 37, 8.1466: 37, 3.751300000000001: 37, 20.0284: 37, 1.7388: 37, 3.783500000000001: 37, 20.2538: 37, 6.8747: 37, 16.583000000000002: 37, 4.2665: 37, 11.9462: 37, 6.7137: 37, 13.202: 37, 12.1233: 37, 20.0928: 37, 3.8318: 37, 16.6796: 37, 2.6082000000000005: 37, 16.7762: 37, 15.166200000000002: 37, 3.864: 36, 11.9784: 36, 5.6672: 36, 15.3111: 36, 4.2182: 36, 8.211: 36, 3.9606: 36, 5.6511: 36, 13.3308: 36, 5.554500000000001: 36, 3.912300000000001: 36, 16.1322: 36, 15.295000000000002: 36, 19.8835: 36, 12.8961: 35, 11.7691: 35, 17.5973: 35, 8.4364: 35, 5.7155000000000005: 35, 20.1572: 35, 13.5723: 35, 11.9623: 35, 8.500800000000002: 35, 11.914: 35, 15.117900000000002: 35, 4.008900000000001: 35, 4.1377: 35, 11.7047: 35, 5.6833: 35, 21.847700000000003: 35, 15.246700000000002: 35, 11.6564: 35, 16.309300000000004: 34, 2.254: 34, 5.2808: 34, 2.6243: 34, 5.474: 34, 0.2254: 34, 8.7423: 34, 5.5223: 34, 14.570500000000004: 34, 8.3881: 34, 14.9247: 34, 1.7227: 34, 20.125: 34, 5.763800000000001: 34, 15.0535: 34, 20.4792: 34, 5.699400000000001: 34, 6.8586: 34, 16.6313: 34, 1.8354: 34, 23.683100000000003: 34, 23.4738: 34, 11.9301: 34, 35.42: 34, 2.5921000000000003: 33, 8.372000000000002: 33, 8.6779: 33, 4.0894: 33, 0.4025: 33, 16.8728: 33, 11.640300000000002: 33, 8.6618: 33, 13.3147: 33, 15.9712: 33, 24.633000000000003: 33, 11.7852: 33, 11.8174: 33, 1.4973: 33, 16.325400000000002: 33, 20.4309: 33, 15.3272: 33, 11.8335: 33, 20.0123: 32, 6.923: 32, 8.5813: 32, 1.5617: 32, 1.5939: 32, 1.7710000000000004: 32, 5.361300000000001: 32, 16.6957: 32, 5.425700000000001: 32, 21.992600000000003: 32, 1.8032000000000004: 32, 14.7637: 32, 8.420300000000001: 32, 20.5436: 32, 21.7833: 32, 25.164300000000004: 32, 1.8998: 32, 14.5383: 32, 17.4846: 32, 23.345: 32, 5.5384: 31, 5.2003: 31, 11.753: 31, 1.8515: 31, 1.5778: 31, 11.6886: 31, 16.0839: 31, 15.101800000000004: 31, 11.8013: 31, 8.694: 31, 8.4847: 31, 15.407700000000002: 31, 20.3021: 31, 21.879900000000003: 31, 7.0035: 31, 7.228900000000001: 31, 5.570600000000001: 31, 7.148400000000001: 31, 7.0196000000000005: 31, 8.291500000000001: 31, 4.0733: 31, 14.860300000000002: 31, 16.711800000000004: 31, 2.4633000000000003: 30, 16.1966: 30, 16.0034: 30, 14.5061: 30, 8.4525: 30, 2.5438: 30, 20.6402: 30, 20.1411: 30, 8.7101: 30, 6.8425: 30, 19.7225: 30, 11.6081: 30, 8.533: 30, 4.1216: 30, 14.6671: 30, 11.592: 30, 23.312800000000003: 30, 3.9284: 29, 21.3808: 29, 14.9086: 29, 11.8657: 29, 3.944500000000001: 29, 5.216400000000001: 29, 16.6474: 29, 16.1161: 29, 20.6241: 29, 5.6028: 29, 16.0195: 29, 8.5652: 29, 5.3452: 29, 19.8513: 29, 16.599100000000004: 29, 20.5597: 29, 1.8676: 29, 6.9713: 29, 15.456: 29, 19.7869: 28, 21.960400000000003: 28, 23.3289: 28, 1.6261: 28, 11.8818: 28, 11.7369: 28, 16.4059: 28, 2.5277000000000003: 28, 8.5974: 28, 2.4955000000000003: 28, 5.5867: 28, 20.769: 28, 23.6348: 28, 14.651: 28, 16.5508: 28, 5.7316: 28, 16.7279: 28, 17.693900000000003: 27, 2.2862: 27, 20.608000000000004: 27, 7.084000000000001: 27, 15.2145: 27, 1.4168: 27, 24.9711: 27, 16.438100000000002: 27, 11.5759: 27, 16.2771: 27, 15.0696: 27, 1.6422: 27, 2.0769: 27, 20.5114: 26, 22.218000000000004: 26, 17.5007: 26, 2.415: 26, 2.4794: 26, 16.4703: 26, 21.5257: 26, 16.261: 26, 21.6867: 26, 2.0286: 26, 22.2341: 26, 16.0517: 26, 15.8424: 26, 20.2699: 26, 19.964: 26, 14.989100000000002: 26, 19.9801: 26, 20.7851: 26, 14.699300000000004: 26, 2.1574000000000004: 26, 21.6545: 26, 14.6832: 26, 19.803: 26, 14.731500000000002: 26, 22.0087: 26, 11.7208: 26, 17.5651: 25, 21.413000000000004: 25, 0.6601: 25, 8.4042: 25, 15.150100000000002: 25, 17.516800000000003: 25, 8.629600000000002: 25, 16.3898: 25, 19.8674: 25, 20.1894: 25, 15.1823: 25, 17.661700000000003: 25, 21.6384: 25, 23.167900000000003: 25, 5.490100000000001: 25, 23.4899: 25, 21.896: 25, 22.137500000000003: 25, 16.5669: 25, 1.4651: 25, 1.9803: 25, 3.847900000000001: 25, 15.021300000000002: 25, 24.7779: 25, 20.286: 25, 16.5347: 25, 2.3828: 24, 14.3773: 24, 23.0713: 24, 1.4812: 24, 19.8191: 24, 20.8817: 24, 23.6187: 24, 16.1644: 24, 14.812: 24, 20.865600000000004: 24, 14.5544: 24, 2.3989000000000003: 24, 1.5456: 24, 21.8638: 24, 24.955: 24, 1.932: 24, 11.6242: 24, 23.2967: 24, 24.9389: 24, 1.3846: 24, 19.7708: 24, 20.6563: 24, 14.828100000000004: 23, 21.557900000000004: 23, 14.7798: 23, 16.2288: 23, 17.3236: 23, 1.9159: 23, 16.2127: 23, 17.4685: 23, 1.9481: 23, 15.005200000000002: 23, 23.506: 23, 21.4291: 23, 16.1483: 23, 0.3542: 23, 21.9443: 22, 23.6992: 22, 19.5615: 22, 22.0892: 22, 22.3468: 22, 2.3506: 22, 23.9568: 22, 26.7743: 22, 5.4579: 22, 19.9962: 22, 2.3345: 22, 21.5096: 22, 25.2126: 22, 21.6062: 22, 5.4418: 22, 2.1413: 22, 19.5454: 22, 1.449: 22, 23.1518: 22, 1.8837: 22, 21.4935: 22, 24.761800000000004: 22, 24.906700000000004: 22, 21.670600000000004: 22, 32.2: 22, 19.8352: 21, 1.7549: 21, 19.6581: 21, 14.876400000000002: 21, 25.438: 21, 23.4094: 21, 2.0447: 21, 0.5957: 21, 2.3184: 21, 1.3202: 21, 16.035600000000002: 21, 20.5919: 21, 25.0999: 21, 16.6635: 21, 17.7905: 21, 21.3969: 20, 25.4219: 20, 0.4347: 20, 0.7245: 20, 20.7046: 20, 16.5186: 20, 21.702800000000003: 20, 20.6724: 20, 23.570400000000003: 20, 25.2609: 20, 22.7493: 20, 15.0374: 20, 2.5116: 20, 1.1109: 20, 19.6903: 20, 22.3146: 20, 20.8173: 20, 14.7959: 20, 16.3415: 20, 21.3486: 20, 22.0409: 19, 17.6456: 19, 14.715400000000002: 19, 1.4329: 19, 16.422: 19, 16.2932: 19, 24.3432: 19, 2.4472: 19, 1.5134: 19, 24.1983: 19, 24.9228: 19, 19.32: 19, 0.2737: 19, 16.454200000000004: 19, 14.973000000000004: 19, 2.0930000000000004: 19, 22.1536: 19, 22.282400000000003: 19, 26.7582: 19, 24.8262: 19, 19.7386: 19, 19.5776: 19, 24.488100000000003: 19, 21.735000000000003: 19, 22.1697: 18, 22.105300000000003: 18, 0.6118: 18, 2.2218: 18, 19.6098: 18, 2.1252000000000004: 18, 26.565: 18, 24.6652: 18, 2.0608: 18, 23.1357: 18, 25.277: 18, 16.3576: 18, 20.9783: 18, 14.844200000000004: 18, 20.9461: 18, 21.9121: 18, 14.7476: 18, 24.6008: 18, 16.3737: 18, 17.838800000000003: 18, 20.8334: 18, 17.7422: 18, 0.9821: 18, 16.2449: 18, 2.3667: 18, 0.2093: 18, 20.3182: 18, 24.6813: 18, 23.1035: 18, 24.5525: 18, 19.674200000000003: 18, 37.03: 18, 38.64: 18, 23.8924: 17, 25.309200000000004: 17, 20.9622: 17, 19.6259: 17, 21.3647: 17, 21.2198: 17, 21.590100000000003: 17, 1.2880000000000005: 17, 1.7871000000000004: 17, 2.4311000000000003: 17, 15.0857: 17, 2.2057: 17, 21.091: 17, 20.7207: 17, 25.293100000000003: 17, 25.2287: 17, 21.7672: 17, 19.3361: 17, 0.3864: 17, 22.4917: 17, 27.048: 17, 16.4864: 17, 25.116: 17, 24.3593: 17, 20.447: 16, 22.2985: 16, 19.5937: 16, 21.815500000000004: 16, 20.9139: 16, 1.3041000000000005: 16, 22.4595: 16, 17.806600000000003: 16, 5.3935: 16, 0.9982: 16, 20.752900000000004: 16, 0.7406: 16, 24.7135: 16, 23.4416: 16, 25.0677: 16, 27.5954: 16, 23.8119: 16, 1.4007: 16, 2.3023: 16, 23.457700000000003: 16, 24.5042: 16, 23.200100000000003: 16, 0.2576: 16, 1.3685: 16, 19.7064: 16, 19.4649: 16, 26.436200000000003: 16, 21.1876: 16, 22.9908: 16, 22.7815: 15, 23.5865: 15, 14.9569: 15, 24.5203: 15, 20.463100000000004: 15, 21.1393: 15, 24.0695: 15, 20.8495: 15, 24.8423: 15, 25.4058: 15, 14.8925: 15, 19.4971: 15, 19.0624: 15, 24.4076: 15, 24.8584: 15, 25.2448: 15, 21.6223: 15, 17.6295: 15, 20.9944: 15, 21.4613: 15, 19.7547: 15, 24.6169: 15, 2.1735: 15, 0.5796: 15, 23.8441: 15, 22.652700000000003: 15, 26.9192: 15, 23.715300000000003: 15, 23.6026: 15, 24.375400000000003: 15, 2.1896000000000004: 15, 22.362900000000003: 15, 23.280600000000003: 15, 23.425500000000003: 14, 23.2162: 14, 25.0194: 14, 19.0785: 14, 23.3611: 14, 17.7583: 14, 14.9408: 14, 1.0626000000000002: 14, 24.9872: 14, 26.065900000000003: 14, 23.6509: 14, 19.642: 14, 22.8137: 14, 22.878100000000003: 14, 25.5829: 14, 19.4327: 14, 1.3524: 14, 22.9747: 14, 18.0803: 14, 22.5239: 14, 22.6688: 14, 22.2663: 14, 23.2323: 14, 27.0641: 14, 28.1106: 14, 19.2556: 14, 21.2359: 14, 0.7567: 14, 17.6134: 14, 19.481: 14, 24.0373: 14, 21.9765: 14, 24.2949: 14, 24.794: 14, 23.0391: 14, 1.0304: 14, 1.3363: 14, 24.6491: 14, 24.5686: 14, 2.2379: 14, 24.5364: 14, 23.184: 14, 21.155400000000004: 14, 21.2037: 14, 23.0069: 14, 18.837: 14, 0.6762: 13, 19.2878: 13, 28.0623: 13, 27.9013: 13, 25.051600000000004: 13, 26.033700000000003: 13, 23.2645: 13, 22.507800000000003: 13, 1.0787000000000002: 13, 22.7171: 13, 1.1914: 13, 19.3844: 13, 25.921000000000003: 13, 19.3683: 13, 22.1214: 13, 20.897800000000004: 13, 25.5507: 13, 26.082: 13, 0.4508000000000001: 13, 24.6974: 13, 17.6778: 13, 23.7475: 13, 26.6455: 13, 25.1804: 13, 24.4559: 13, 21.268100000000004: 13, 26.2913: 13, 18.7082: 13, 23.0874: 13, 22.3307: 13, 19.271700000000003: 13, 40.25: 13, 18.998: 13, 26.5328: 12, 17.8549: 12, 0.322: 12, 23.5382: 12, 17.7744: 12, 18.064200000000003: 12, 0.5313000000000001: 12, 19.416600000000003: 12, 22.942500000000003: 12, 23.667: 12, 26.3074: 12, 22.8459: 12, 19.126800000000003: 12, 23.055200000000003: 12, 25.711700000000004: 12, 22.6044: 12, 19.4488: 12, 25.3897: 12, 20.8012: 12, 25.9693: 12, 23.2484: 12, 22.8298: 12, 21.3325: 12, 21.0749: 12, 19.5132: 12, 22.6366: 12, 27.9174: 12, 28.2555: 12, 24.4398: 12, 25.3736: 12, 0.3059: 12, 17.726100000000002: 12, 24.2144: 12, 1.2075: 12, 24.3271: 12, 26.404: 12, 27.7725: 12, 22.7332: 12, 21.7189: 12, 26.323500000000003: 12, 23.1196: 12, 21.2842: 12, 21.300300000000004: 12, 0.483: 12, 21.574: 12, 19.2073: 12, 28.33600000000001: 11, 25.3414: 11, 0.3381: 11, 26.726000000000003: 11, 23.860200000000003: 11, 25.9049: 11, 17.8871: 11, 24.1822: 11, 24.890600000000003: 11, 19.3522: 11, 17.9032: 11, 21.445200000000003: 11, 24.230500000000003: 11, 1.127: 11, 22.4273: 11, 1.2558: 11, 1.2397: 11, 19.4005: 11, 21.0266: 11, 0.4991: 11, 23.7314: 11, 21.1071: 11, 21.9282: 11, 27.3378: 11, 18.8531: 11, 22.250200000000003: 11, 26.8709: 11, 18.9175: 11, 24.7296: 11, 28.2072: 11, 21.7994: 11, 17.871000000000002: 11, 0.8694000000000001: 11, 26.6294: 11, 17.919300000000003: 11, 21.4774: 11, 23.7797: 11, 24.1661: 11, 0.5635: 11, 26.4523: 11, 27.9335: 11, 2.2701: 11, 26.1625: 11, 21.7511: 11, 23.023000000000003: 11, 25.6956: 10, 22.395100000000003: 10, 27.8691: 10, 19.3039: 10, 1.1431: 10, 1.2236: 10, 1.0143: 10, 18.0159: 10, 22.684900000000003: 10, 18.1286: 10, 25.0033: 10, 19.014100000000003: 10, 0.4669: 10, 27.6276: 10, 0.8533000000000001: 10, 22.073100000000004: 10, 21.010500000000004: 10, 26.2591: 10, 20.5758: 10, 23.9407: 10, 25.1482: 10, 26.1142: 10, 28.2394: 10, 23.828000000000003: 10, 21.0427: 10, 26.1464: 10, 22.5561: 10, 19.2234: 10, 24.4237: 10, 1.1592: 10, 24.5847: 10, 22.862: 10, 25.5024: 10, 23.5543: 10, 18.1447: 10, 24.8101: 10, 25.599000000000004: 10, 27.3217: 10, 26.5167: 10, 18.8209: 10, 25.3253: 10, 27.5793: 10, 18.724300000000003: 10, 26.6616: 10, 2.0125: 10, 22.1858: 10, 26.8548: 10, 25.6634: 10, 1.2719: 10, 27.4505: 10, 0.6440000000000001: 9, 28.1267: 9, 28.5131: 9, 26.3557: 9, 0.805: 9, 27.7403: 9, 23.9246: 9, 18.0481: 9, 26.7421: 9, 19.1429: 9, 23.989: 9, 23.9085: 9, 17.8227: 9, 24.1339: 9, 25.1965: 9, 0.1932: 9, 22.057: 9, 0.8211: 9, 0.8372: 9, 22.4112: 9, 27.4827: 9, 23.5221: 9, 19.0302: 9, 27.2734: 9, 22.2019: 9, 28.4004: 9, 26.7904: 9, 24.0051: 9, 22.701: 9, 24.3915: 9, 22.620500000000003: 9, 21.1715: 9, 26.0981: 9, 22.379: 9, 21.252: 9, 18.193: 9, 27.4988: 9, 25.8727: 9, 27.1607: 9, 26.6938: 9, 24.085600000000003: 9, 18.6921: 9, 25.3575: 9, 18.498900000000003: 9, 25.1321: 9, 24.8745: 9, 0.9499: 9, 0.7084: 9, 24.311: 9, 27.0319: 9, 0.161: 9, 25.8244: 9, 45.080000000000005: 9, 27.0802: 9, 19.0463: 9, 19.2395: 9, 26.9031: 8, 27.9818: 8, 22.9586: 8, 26.4845: 8, 25.743900000000004: 8, 26.4201: 8, 18.2252: 8, 27.7242: 8, 27.1768: 8, 26.1303: 8, 19.529300000000003: 8, 22.797600000000003: 8, 0.1771: 8, 26.9353: 8, 24.2466: 8, 29.0122: 8, 22.4434: 8, 23.7636: 8, 27.9979: 8, 34.4057: 8, 28.44870000000001: 8, 26.5972: 8, 24.0212: 8, 28.175: 8, 28.04620000000001: 8, 21.3164: 8, 25.4702: 8, 23.3772: 8, 26.0176: 8, 21.1232: 8, 27.0158: 8, 21.0588: 8, 27.7564: 8, 27.692: 8, 28.4648: 8, 27.64370000000001: 8, 0.9016000000000002: 8, 0.9338: 8, 23.7958: 8, 2.1091: 8, 0.4186: 8, 26.3718: 8, 25.9532: 8, 26.983600000000003: 8, 18.9014: 8, 28.0784: 8, 27.8852: 8, 18.2574: 8, 27.1124: 8, 17.9676: 8, 22.475600000000004: 8, 18.032: 8, 27.1929: 8, 28.6902: 8, 19.159: 8, 27.2895: 8, 34.293000000000006: 8, 25.776100000000003: 8, 24.2788: 8, 28.3682: 7, 18.1125: 7, 26.5006: 7, 0.6923: 7, 1.1753: 7, 25.566800000000004: 7, 26.838700000000003: 7, 23.972900000000003: 7, 18.6599: 7, 0.7728: 7, 18.611600000000003: 7, 28.3199: 7, 18.3379: 7, 23.8763: 7, 25.9371: 7, 28.5292: 7, 26.8226: 7, 33.2304: 7, 18.4184: 7, 29.543500000000005: 7, 27.9496: 7, 29.028300000000005: 7, 28.3843: 7, 24.2627: 7, 24.0534: 7, 31.024700000000003: 7, 22.5722: 7, 18.9658: 7, 26.8065: 7, 22.765400000000003: 7, 28.0301: 7, 0.6279: 7, 18.9497: 7, 18.5472: 7, 30.107: 7, 26.468400000000003: 7, 18.7726: 7, 25.4863: 7, 29.3664: 7, 28.2233: 7, 25.8888: 7, 24.472: 7, 26.9675: 7, 29.1088: 7, 25.9854: 7, 27.531: 7, 27.2251: 7, 19.1107: 7, 30.815400000000004: 7, 30.670500000000004: 7, 19.1912: 7, 18.5794: 7, 27.5632: 7, 26.243: 7, 31.3467: 7, 22.8942: 7, 33.2948: 7, 25.8405: 7, 33.3592: 7, 25.6151: 7, 25.0838: 7, 31.153500000000005: 7, 18.756500000000003: 7, 29.3825: 7, 25.6795: 7, 41.86: 7, 26.210800000000003: 7, 31.2018: 7, 0.5474000000000001: 6, 30.8315: 6, 17.9354: 6, 18.7887: 6, 19.1751: 6, 25.7278: 6, 30.3968: 6, 32.8923: 6, 18.9336: 6, 33.1016: 6, 29.4147: 6, 34.1642: 6, 27.2573: 6, 28.770700000000005: 6, 18.2896: 6, 27.1446: 6, 19.0946: 6, 33.649: 6, 34.615: 6, 23.3933: 6, 28.014: 6, 26.7099: 6, 24.7457: 6, 28.9317: 6, 33.05330000000001: 6, 30.2841: 6, 27.4344: 6, 26.887: 6, 27.8369: 6, 0.2415: 6, 28.59360000000001: 6, 31.137400000000003: 6, 27.7081: 6, 26.6133: 6, 25.5346: 6, 31.427200000000003: 6, 34.7438: 6, 26.1947: 6, 27.6115: 6, 33.0855: 6, 27.5471: 6, 30.847600000000003: 6, 18.8853: 6, 32.216100000000004: 6, 28.915600000000005: 6, 28.4326: 6, 26.2752: 6, 31.588200000000004: 6, 1.0465000000000002: 6, 26.3879: 6, 28.497: 6, 31.620400000000004: 6, 25.5185: 6, 30.863700000000005: 5, 29.833300000000005: 5, 0.8855000000000002: 5, 30.412900000000004: 5, 18.515: 5, 32.3449: 5, 27.209: 5, 32.4898: 5, 29.398600000000005: 5, 32.795700000000004: 5, 25.808300000000003: 5, 1.0948000000000002: 5, 27.8047: 5, 26.9997: 5, 29.0444: 5, 28.625800000000005: 5, 26.6777: 5, 30.010400000000004: 5, 28.3521: 5, 17.951500000000003: 5, 28.7224: 5, 28.5614: 5, 25.8566: 5, 22.5883: 5, 0.1127: 5, 34.437900000000006: 5, 27.78860000000001: 5, 24.117800000000003: 5, 32.8601: 5, 31.008600000000005: 5, 31.878000000000004: 5, 28.5453: 5, 32.9406: 5, 24.1017: 5, 29.318100000000005: 5, 28.9639: 5, 31.765300000000003: 5, 31.250100000000003: 5, 26.0015: 5, 33.826100000000004: 5, 18.209100000000003: 5, 33.5041: 5, 34.5667: 5, 22.910300000000003: 5, 28.658: 5, 26.0498: 5, 18.9819: 5, 31.0891: 5, 30.461200000000005: 5, 27.6759: 5, 30.5417: 5, 30.5095: 5, 29.9943: 5, 27.3539: 5, 28.7868: 5, 31.3145: 5, 27.386100000000003: 5, 27.4183: 5, 29.607900000000004: 5, 29.8494: 5, 33.6973: 5, 34.2769: 5, 34.14810000000001: 5, 29.8816: 5, 29.1249: 5, 29.785: 5, 18.7404: 5, 18.6277: 5, 31.282300000000003: 5, 28.0945: 4, 32.1678: 4, 28.480900000000005: 4, 0.0644: 4, 0.966: 4, 30.525600000000004: 4, 27.4666: 4, 32.6025: 4, 25.6312: 4, 36.273300000000006: 4, 28.7063: 4, 28.7546: 4, 33.6168: 4, 33.5524: 4, 32.6669: 4, 35.9191: 4, 32.47370000000001: 4, 38.0443: 4, 29.5918: 4, 35.4361: 4, 27.8208: 4, 31.539900000000003: 4, 18.5311: 4, 31.266200000000005: 4, 34.5023: 4, 26.9514: 4, 34.0998: 4, 18.869200000000003: 4, 0.9177: 4, 32.8279: 4, 36.933400000000006: 4, 31.684800000000003: 4, 29.2054: 4, 33.1177: 4, 29.173200000000005: 4, 29.688400000000005: 4, 33.7456: 4, 32.5703: 4, 26.3396: 4, 35.613200000000006: 4, 34.1803: 4, 31.395000000000003: 4, 29.5596: 4, 29.8172: 4, 27.241200000000003: 4, 29.5274: 4, 32.4093: 4, 29.0766: 4, 25.6473: 4, 18.4345: 4, 28.8029: 4, 32.3127: 4, 32.1195: 4, 31.813600000000005: 4, 27.128500000000003: 4, 32.7313: 4, 33.2143: 4, 18.1608: 4, 33.681200000000004: 4, 39.3001: 4, 34.7116: 4, 32.0551: 4, 28.8351: 4, 35.2912: 4, 27.0963: 4, 29.865500000000004: 4, 28.6419: 4, 18.5633: 4, 33.0372: 4, 30.380700000000004: 4, 30.268000000000004: 4, 33.63290000000001: 4, 34.0193: 4, 18.5955: 4, 22.9264: 4, 28.2716: 4, 30.493400000000005: 4, 28.19110000000001: 4, 29.3342: 4, 32.76350000000001: 4, 25.454100000000004: 4, 30.7188: 4, 18.241300000000003: 4, 31.717: 4, 31.330600000000004: 4, 34.0515: 4, 33.4397: 4, 29.897700000000004: 4, 31.298400000000004: 4, 33.021100000000004: 4, 29.25370000000001: 4, 29.1571: 4, 34.6955: 4, 33.971000000000004: 4, 26.2269: 4, 31.1213: 4, 33.8744: 4, 34.9692: 4, 32.90840000000001: 4, 31.990700000000004: 4, 38.833200000000005: 4, 30.9442: 4, 32.8118: 4, 25.035500000000003: 3, 18.1769: 3, 33.9066: 3, 29.463000000000005: 3, 26.178600000000003: 3, 28.5775: 3, 31.5721: 3, 28.2877: 3, 34.37350000000001: 3, 34.486200000000004: 3, 36.627500000000005: 3, 30.557800000000004: 3, 29.7045: 3, 36.9817: 3, 34.51840000000001: 3, 36.3216: 3, 34.00320000000001: 3, 39.5255: 3, 36.047900000000006: 3, 39.4128: 3, 34.776: 3, 31.3789: 3, 33.9549: 3, 28.3038: 3, 36.4504: 3, 18.3862: 3, 29.9138: 3, 32.505900000000004: 3, 30.1392: 3, 31.910200000000003: 3, 33.27870000000001: 3, 34.6794: 3, 38.3824: 3, 34.132: 3, 30.300200000000004: 3, 31.443300000000004: 3, 32.3771: 3, 27.5149: 3, 32.1517: 3, 29.7367: 3, 29.430800000000005: 3, 28.883400000000005: 3, 30.0265: 3, 27.9657: 3, 33.42360000000001: 3, 28.819: 3, 18.676: 3, 32.2644: 3, 28.1589: 3, 29.575700000000005: 3, 27.853: 3, 32.4576: 3, 32.039: 3, 27.4022: 3, 29.9299: 3, 35.6454: 3, 34.872600000000006: 3, 29.1893: 3, 18.4506: 3, 34.582800000000006: 3, 33.9871: 3, 18.3701: 3, 29.2698: 3, 30.203600000000005: 3, 28.8673: 3, 34.3574: 3, 33.71340000000001: 3, 29.801100000000005: 3, 31.362800000000004: 3, 31.411100000000005: 3, 30.042600000000004: 3, 18.354000000000003: 3, 17.9998: 3, 18.466700000000003: 3, 36.7241: 3, 32.61860000000001: 3, 31.105200000000004: 3, 31.0569: 3, 32.2805: 3, 0.7889: 3, 18.4023: 3, 38.8493: 3, 35.2751: 3, 32.650800000000004: 3, 37.513000000000005: 3, 34.2608: 3, 30.734900000000003: 3, 31.829700000000003: 3, 33.005: 3, 29.720600000000005: 3, 18.4828: 3, 33.19820000000001: 3, 29.4952: 3, 32.5542: 3, 30.6222: 3, 25.7922: 3, 29.978200000000005: 3, 30.090900000000005: 3, 34.9048: 3, 32.6347: 3, 34.4218: 3, 35.3717: 3, 31.8941: 3, 32.683: 3, 31.7492: 3, 34.2125: 3, 29.752800000000004: 3, 29.6401: 3, 34.5506: 3, 18.3057: 3, 31.733100000000004: 3, 35.6293: 3, 30.445100000000004: 3, 30.751000000000005: 3, 33.48800000000001: 2, 36.1767: 2, 33.6007: 2, 39.3323: 2, 45.530800000000006: 2, 39.3645: 2, 34.66330000000001: 2, 35.242900000000006: 2, 36.4665: 2, 39.6865: 2, 37.1749: 2, 31.556000000000004: 2, 31.700900000000004: 2, 28.738500000000005: 2, 34.6311: 2, 36.225: 2, 34.3091: 2, 33.2626: 2, 29.3503: 2, 31.234: 2, 34.0676: 2, 30.477300000000003: 2, 38.3019: 2, 38.7205: 2, 37.352: 2, 27.6598: 2, 29.302: 2, 40.298300000000005: 2, 44.3877: 2, 30.429: 2, 31.845800000000004: 2, 39.5738: 2, 46.834900000000005: 2, 36.0157: 2, 39.7509: 2, 32.1034: 2, 31.652600000000003: 2, 42.53620000000001: 2, 38.913700000000006: 2, 30.783200000000004: 2, 53.1944: 2, 31.507700000000003: 2, 35.83860000000001: 2, 37.6257: 2, 32.9567: 2, 34.8565: 2, 32.9889: 2, 27.3056: 2, 28.4165: 2, 34.0354: 2, 18.6438: 2, 30.606100000000005: 2, 35.903000000000006: 2, 36.0318: 2, 28.1428: 2, 31.4916: 2, 37.8672: 2, 18.096400000000003: 2, 32.135600000000004: 2, 31.958500000000004: 2, 35.1946: 2, 35.758100000000006: 2, 28.9478: 2, 33.4719: 2, 33.56850000000001: 2, 33.327: 2, 30.879800000000003: 2, 36.1445: 2, 30.332400000000003: 2, 31.169600000000003: 2, 30.2197: 2, 36.2411: 2, 28.6097: 2, 18.8048: 2, 35.387800000000006: 2, 39.6543: 2, 40.1373: 2, 38.3341: 2, 33.2465: 2, 45.1283: 2, 38.2375: 2, 35.9352: 2, 30.187500000000004: 2, 37.368100000000005: 2, 36.708000000000006: 2, 38.801: 2, 30.058700000000005: 2, 39.0264: 2, 18.321800000000003: 2, 33.0694: 2, 29.2215: 2, 33.7939: 2, 38.108700000000006: 2, 32.9728: 2, 26.581100000000003: 2, 35.017500000000005: 2, 35.7742: 2, 36.5792: 2, 46.207: 2, 35.8064: 2, 35.307300000000005: 2, 40.8296: 2, 30.3163: 2, 39.7348: 2, 32.0068: 2, 38.2697: 2, 38.0121: 2, 32.844: 2, 45.6274: 2, 39.0425: 2, 37.8189: 2, 36.8207: 2, 33.7295: 2, 35.0658: 2, 34.8243: 2, 36.6919: 2, 36.9173: 2, 38.4307: 2, 34.88870000000001: 2, 28.8995: 2, 37.223200000000006: 2, 32.3288: 2, 28.6741: 2, 30.912: 2, 32.522: 2, 38.688300000000005: 2, 42.0854: 2, 35.1302: 2, 30.5739: 2, 35.3395: 2, 37.7062: 2, 40.92620000000001: 2, 31.4594: 2, 29.5113: 2, 30.960300000000004: 2, 37.1266: 2, 33.3753: 2, 37.7223: 2, 36.643600000000006: 2, 29.6723: 2, 36.772400000000005: 2, 29.0927: 2, 32.0229: 2, 31.668700000000005: 2, 35.2107: 2, 32.9245: 2, 35.8547: 2, 34.1964: 2, 29.4469: 2, 33.34310000000001: 2, 33.8422: 2, 29.656200000000005: 2, 36.6114: 2, 32.5381: 2, 36.192800000000005: 2, 30.6866: 2, 30.348500000000005: 2, 31.9263: 2, 30.9764: 2, 18.2735: 2, 32.1839: 2, 37.6418: 2, 32.361000000000004: 2, 37.657900000000005: 2, 33.1338: 2, 35.532700000000006: 2, 30.6544: 2, 0.0805: 2, 31.6043: 2, 31.475500000000004: 2, 32.071200000000005: 2, 32.3932: 2, 30.928100000000004: 2, 46.6095: 2, 38.157: 2, 34.3896: 2, 34.8404: 2, 0.0322: 1, 36.386: 1, 45.9333: 1, 36.9495: 1, 42.6328: 1, 39.4289: 1, 44.8868: 1, 42.4718: 1, 43.8564: 1, 37.4808: 1, 38.0765: 1, 37.9316: 1, 34.7921: 1, 32.7474: 1, 36.112300000000005: 1, 37.8994: 1, 41.699: 1, 43.63100000000001: 1, 36.337700000000005: 1, 38.7044: 1, 34.22860000000001: 1, 33.3914: 1, 39.8314: 1, 39.3162: 1, 37.3842: 1, 29.9621: 1, 28.99610000000001: 1, 29.4791: 1, 39.1713: 1, 33.310900000000004: 1, 35.32340000000001: 1, 35.677600000000005: 1, 32.2483: 1, 47.5272: 1, 44.21060000000001: 1, 47.285700000000006: 1, 43.5988: 1, 45.6113: 1, 40.8457: 1, 37.2715: 1, 32.4415: 1, 35.5649: 1, 33.777800000000006: 1, 38.4146: 1, 43.4378: 1, 44.6292: 1, 34.4701: 1, 34.727700000000006: 1, 39.5577: 1, 40.1212: 1, 29.2376: 1, 49.0567: 1, 53.242700000000006: 1, 63.8526: 1, 53.596900000000005: 1, 52.936800000000005: 1, 44.7419: 1, 38.4951: 1, 34.2447: 1, 39.203500000000005: 1, 35.7259: 1, 36.4021: 1, 44.1623: 1, 43.985200000000006: 1, 41.3931: 1, 45.38590000000001: 1, 42.5523: 1, 30.123100000000004: 1, 35.162400000000005: 1, 32.7152: 1, 35.8708: 1, 26.5489: 1, 36.1606: 1, 32.6991: 1, 33.8905: 1, 0.0966: 1, 32.2322: 1, 33.5846: 1, 31.8619: 1, 39.8153: 1, 45.675700000000006: 1, 45.4986: 1, 37.835: 1, 35.967400000000005: 1, 30.3646: 1, 34.9209: 1, 38.7849: 1, 46.0782: 1, 42.9387: 1, 50.9726: 1, 42.16590000000001: 1, 41.055: 1, 39.9602: 1, 39.058600000000006: 1, 41.4414: 1, 43.1963: 1, 41.7151: 1, 55.9314: 1, 29.624: 1, 42.7938: 1, 36.7563: 1, 28.85120000000001: 1, 33.1499: 1, 36.418200000000006: 1, 37.738400000000006: 1, 38.5112: 1, 31.5238: 1, 45.0639: 1, 46.7222: 1, 39.9924: 1, 39.5094: 1, 17.983700000000002: 1, 38.5273: 1, 40.0568: 1, 35.468300000000006: 1, 48.3: 1, 37.191: 1, 36.0801: 1, 43.470000000000006: 1, 36.5148: 1, 40.7974: 1, 37.4003: 1, 41.2965: 1, 43.4539: 1, 41.5219: 1, 37.287600000000005: 1, 29.7689: 1, 31.217900000000004: 1, 34.08370000000001: 1, 35.259: 1, 33.9227: 1, 41.4575: 1, 39.6221: 1, 36.563100000000006: 1, 37.078300000000006: 1, 37.9799: 1, 35.742000000000004: 1, 30.2519: 1, 31.7814: 1, 35.098000000000006: 1, 35.5166: 1, 41.538: 1, 36.6597: 1, 39.2518: 1, 44.14620000000001: 1, 35.17850000000001: 1, 35.03360000000001: 1, 33.1821: 1, 29.946000000000005: 1, 37.8511: 1, 43.9369: 1, 34.80820000000001: 1, 41.1999: 1, 34.7599: 1, 38.9942: 1, 37.448600000000006: 1, 35.7098: 1, 43.48610000000001: 1, 41.9244: 1, 45.9172: 1, 49.3948: 1, 43.8725: 1, 43.7115: 1, 40.958400000000005: 1, 47.0925: 1, 38.6722: 1, 45.514700000000005: 1, 41.7634: 1, 44.0013: 1, 44.597: 1, 32.5864: 1, 34.3413: 1, 35.452200000000005: 1, 30.235800000000005: 1, 43.0031: 1, 35.0014: 1, 39.8475: 1, 43.26070000000001: 1, 43.792: 1, 29.285900000000005: 1, 38.1409: 1, 30.7993: 1, 35.1463: 1, 35.4844: 1, 36.2894: 1, 37.802800000000005: 1, 41.0228: 1, 38.2053: 1, 38.8654: 1, 35.0819: 1, 30.7671: 1, 33.6651: 1, 32.2966: 1, 37.883300000000006: 1, 37.1105: 1, 42.9226: 1, 30.1714: 1, 32.4254: 1, 39.5416: 1, 41.5541: 1, 41.65070000000001: 1, 50.1354: 1, 31.9746: 1, 36.064: 1, 43.2929: 1, 35.69370000000001: 1, 38.7366: 1, 43.69540000000001: 1, 36.3055: 1, 34.953100000000006: 1, 42.0532: 1, 48.2034: 1, 36.997800000000005: 1, 42.68110000000001: 1, 40.4593: 1, 30.0748: 1, 37.9638: 1, 39.8797: 1, 41.377: 1, 42.2303: 1, 41.4253: 1, 39.1069: 1, 40.6042: 1, 34.9853: 1, 40.3144: 1, 0.0483: 1, 39.1391: 1, 31.073000000000004: 1, 39.2357: 1, 31.942400000000003: 1, 42.6972: 1, 34.1159: 1, 38.0604: 1, 35.4039: 1, 38.1892: 1, 54.88490000000001: 1, 39.718700000000005: 1, 42.7616: 1, 42.5201: 1, 34.454: 1, 39.783100000000005: 1, 42.665: 1, 41.9566: 1, 51.1497: 1, 45.7884: 1, 45.09610000000001: 1, 41.1838: 1, 38.479: 1, 37.4969: 1, 36.128400000000006: 1, 30.155300000000004: 1, 32.7796: 1, 38.2214: 1, 31.185700000000004: 1, 34.5345: 1, 40.3788: 1, 30.895900000000005: 1, 36.8368: 1, 39.1552: 1, 41.473600000000005: 1, 36.4343: 1, 37.3198: 1, 45.015600000000006: 1, 31.040800000000004: 1, 40.5559: 1, 39.7026: 1, 38.5917: 1, 38.7688: 1, 44.564800000000005: 1, 43.03530000000001: 1, 30.638300000000005: 1, 41.7795: 1, 41.79560000000001: 1, 33.85830000000001: 1, 37.5774: 1, 40.5398: 1, 40.5076: 1, 32.876200000000004: 1, 35.9996: 1, 35.5488: 1, 43.840300000000006: 1, 40.8779: 1, 37.7867: 1, 40.9101: 1, 36.788500000000006: 1, 44.419900000000005: 1, 38.3663: 1, 37.0622: 1, 35.597100000000005: 1})\n",
            "False\n",
            "Counter({0.0: 2264, 150.0: 1799, 160.0: 1631, 140.0: 1509, 310.0: 1452, 300.0: 1336, 320.0: 1257, 170.0: 1161, 330.0: 1107, 290.0: 1084, 340.0: 1036, 10.0: 1023, 20.0: 975, 130.0: 890, 350.0: 889, 30.0: 881, 149.0: 837, 280.0: 815, 180.0: 776, 319.0: 717, 159.0: 701, 190.0: 689, 40.0: 679, 309.0: 678, 139.0: 677, 270.0: 675, 151.0: 672, 329.0: 652, 301.0: 625, 141.0: 622, 161.0: 620, 200.0: 596, 169.0: 563, 171.0: 556, 311.0: 545, 210.0: 538, 339.0: 532, 21.0: 525, 50.0: 524, 299.0: 523, 250.0: 497, 260.0: 486, 230.0: 485, 11.0: 484, 120.0: 482, 291.0: 481, 110.0: 467, 220.0: 455, 129.0: 450, 19.0: 446, 9.0: 446, 31.0: 437, 240.0: 430, 1.0: 429, 349.0: 426, 271.0: 423, 281.0: 420, 60.0: 410, 158.0: 407, 70.0: 407, 321.0: 403, 131.0: 400, 29.0: 399, 181.0: 398, 351.0: 396, 318.0: 385, 148.0: 381, 289.0: 379, 162.0: 379, 359.0: 379, 328.0: 375, 100.0: 362, 179.0: 360, 341.0: 359, 338.0: 356, 331.0: 356, 191.0: 355, 172.0: 349, 41.0: 349, 152.0: 347, 8.0: 337, 138.0: 332, 201.0: 330, 142.0: 323, 261.0: 318, 189.0: 318, 182.0: 318, 168.0: 315, 80.0: 315, 279.0: 314, 90.0: 304, 221.0: 301, 358.0: 296, 282.0: 294, 302.0: 292, 211.0: 290, 348.0: 287, 308.0: 284, 163.0: 282, 18.0: 276, 292.0: 275, 352.0: 274, 199.0: 273, 312.0: 273, 119.0: 273, 12.0: 272, 173.0: 272, 2.0: 271, 241.0: 269, 192.0: 269, 32.0: 267, 342.0: 267, 51.0: 267, 39.0: 263, 322.0: 262, 272.0: 260, 202.0: 260, 22.0: 259, 128.0: 254, 251.0: 251, 332.0: 251, 231.0: 245, 132.0: 243, 262.0: 239, 178.0: 238, 109.0: 237, 157.0: 235, 212.0: 235, 242.0: 233, 298.0: 232, 147.0: 229, 347.0: 226, 167.0: 224, 269.0: 223, 193.0: 223, 209.0: 221, 327.0: 220, 42.0: 217, 121.0: 216, 288.0: 215, 49.0: 211, 7.0: 209, 337.0: 209, 232.0: 209, 222.0: 208, 108.0: 208, 183.0: 208, 252.0: 208, 166.0: 206, 153.0: 199, 313.0: 199, 143.0: 198, 137.0: 198, 28.0: 197, 188.0: 195, 38.0: 195, 343.0: 193, 174.0: 192, 283.0: 191, 3.0: 188, 164.0: 188, 213.0: 186, 198.0: 186, 249.0: 185, 118.0: 185, 278.0: 184, 154.0: 184, 17.0: 183, 303.0: 181, 127.0: 179, 317.0: 179, 293.0: 179, 146.0: 177, 111.0: 177, 273.0: 176, 333.0: 176, 176.0: 176, 243.0: 175, 203.0: 173, 177.0: 172, 155.0: 172, 253.0: 172, 259.0: 171, 175.0: 171, 323.0: 171, 156.0: 169, 239.0: 167, 145.0: 166, 357.0: 166, 99.0: 166, 223.0: 165, 229.0: 165, 208.0: 164, 165.0: 162, 27.0: 162, 23.0: 161, 233.0: 160, 353.0: 159, 263.0: 159, 307.0: 158, 187.0: 157, 133.0: 157, 297.0: 156, 144.0: 156, 48.0: 156, 219.0: 156, 61.0: 154, 69.0: 153, 33.0: 148, 136.0: 148, 6.0: 148, 52.0: 147, 346.0: 147, 184.0: 146, 204.0: 144, 13.0: 144, 258.0: 143, 336.0: 142, 59.0: 141, 268.0: 140, 112.0: 140, 194.0: 138, 286.0: 138, 207.0: 137, 304.0: 137, 205.0: 137, 326.0: 136, 224.0: 135, 185.0: 135, 126.0: 135, 37.0: 135, 316.0: 134, 305.0: 134, 295.0: 134, 306.0: 134, 89.0: 134, 294.0: 134, 214.0: 132, 5.0: 132, 356.0: 132, 335.0: 130, 197.0: 130, 314.0: 129, 71.0: 128, 122.0: 128, 354.0: 128, 296.0: 127, 287.0: 127, 244.0: 127, 26.0: 127, 107.0: 125, 195.0: 124, 334.0: 124, 274.0: 123, 355.0: 123, 135.0: 122, 81.0: 122, 206.0: 122, 15.0: 121, 117.0: 120, 245.0: 120, 218.0: 120, 43.0: 120, 4.0: 118, 98.0: 118, 345.0: 117, 25.0: 117, 79.0: 117, 24.0: 116, 134.0: 116, 324.0: 116, 325.0: 115, 101.0: 114, 225.0: 114, 238.0: 113, 215.0: 113, 16.0: 113, 264.0: 113, 267.0: 113, 88.0: 113, 186.0: 112, 14.0: 112, 285.0: 111, 116.0: 111, 254.0: 111, 344.0: 111, 277.0: 110, 47.0: 110, 315.0: 110, 123.0: 109, 196.0: 109, 58.0: 108, 228.0: 107, 257.0: 107, 91.0: 106, 275.0: 105, 284.0: 104, 217.0: 104, 276.0: 104, 72.0: 103, 234.0: 103, 44.0: 103, 235.0: 102, 35.0: 102, 265.0: 101, 248.0: 101, 62.0: 99, 68.0: 98, 36.0: 98, 102.0: 97, 266.0: 96, 34.0: 96, 246.0: 95, 115.0: 94, 45.0: 94, 256.0: 93, 255.0: 92, 216.0: 92, 97.0: 91, 56.0: 89, 54.0: 87, 227.0: 86, 82.0: 85, 125.0: 85, 78.0: 85, 226.0: 84, 106.0: 84, 247.0: 83, 105.0: 83, 46.0: 82, 53.0: 82, 236.0: 82, 237.0: 82, 113.0: 81, 63.0: 81, 57.0: 78, 104.0: 76, 67.0: 74, 114.0: 74, 87.0: 73, 76.0: 72, 124.0: 70, 55.0: 67, 77.0: 66, 64.0: 65, 103.0: 64, 92.0: 64, 96.0: 62, 93.0: 61, 73.0: 58, 75.0: 57, 84.0: 57, 66.0: 56, 85.0: 54, 65.0: 52, 74.0: 52, 95.0: 48, 83.0: 48, 86.0: 47, 94.0: 44})\n",
            "False\n",
            "Counter({9.982: 18290, 16.1: 7092, 15.826300000000002: 5683, 11.27: 4580, 10.3523: 3540, 14.9569: 2506, 11.2056: 2195, 15.552600000000002: 1815, 15.1823: 1422, 11.4471: 1365, 10.2557: 1278, 9.9015: 1241, 10.0464: 1208, 14.9086: 1185, 10.3684: 850, 8.05: 789, 15.150100000000002: 773, 8.1305: 686, 11.0768: 673, 11.3988: 668, 15.3111: 660, 6.118: 657, 0.161: 606, 6.295100000000001: 538, 14.168000000000005: 513, 9.8049: 513, 11.125100000000002: 480, 15.134000000000002: 480, 10.577700000000002: 451, 0.0: 450, 16.0517: 449, 11.9784: 410, 4.025: 374, 15.7297: 371, 15.8746: 357, 10.4006: 352, 6.1985: 347, 11.0285: 345, 9.7566: 332, 4.9910000000000005: 294, 14.812: 287, 8.420300000000001: 278, 3.059: 262, 7.969500000000001: 257, 5.9731000000000005: 242, 0.322: 242, 6.021400000000001: 241, 6.0697: 240, 9.7083: 239, 11.0446: 237, 7.212800000000001: 218, 7.905100000000001: 209, 15.520400000000002: 205, 9.6761: 203, 8.1949: 203, 1.932: 195, 10.948: 190, 11.6886: 187, 6.3434: 185, 7.8729: 184, 14.876400000000002: 183, 10.0303: 175, 9.8532: 164, 15.005200000000002: 162, 7.084000000000001: 160, 5.9248: 155, 9.6278: 155, 15.649200000000002: 155, 10.2235: 151, 2.5760000000000005: 150, 5.216400000000001: 147, 10.2074: 146, 4.9105: 145, 7.824600000000001: 141, 11.8979: 138, 14.329: 138, 9.6117: 136, 7.1323: 136, 14.731500000000002: 133, 6.8425: 131, 5.0393: 131, 3.976700000000001: 127, 6.166300000000001: 125, 7.0357: 125, 5.1359: 125, 4.8461: 122, 8.3398: 121, 14.0875: 121, 2.9785000000000004: 118, 3.0107000000000004: 115, 14.7637: 114, 10.980200000000002: 113, 14.3934: 112, 4.588500000000001: 111, 9.8371: 109, 4.0733: 108, 4.2987: 107, 3.880100000000001: 107, 3.9284: 105, 14.586600000000002: 104, 4.508: 104, 2.9624: 102, 3.5420000000000007: 101, 5.957000000000001: 99, 4.2021: 97, 4.9427: 97, 1.449: 97, 4.7495: 96, 8.0017: 96, 6.7781: 96, 11.753: 96, 6.9874: 95, 4.4436: 93, 10.8997: 92, 4.347: 91, 4.83: 91, 9.7888: 90, 12.075: 90, 12.2521: 90, 4.1216: 88, 6.9391: 88, 7.985600000000001: 88, 4.4919: 87, 4.524100000000001: 87, 2.9302: 85, 9.4507: 83, 14.6832: 83, 3.3649: 82, 4.395300000000001: 82, 5.8765: 81, 10.2718: 81, 7.2772: 80, 1.2880000000000005: 80, 6.9069: 80, 3.4454: 79, 8.355900000000002: 79, 11.3183: 78, 3.912300000000001: 77, 3.1395: 77, 7.728: 76, 10.8836: 75, 0.1771: 75, 0.1932: 75, 9.5473: 74, 12.042800000000002: 74, 11.8013: 74, 14.5222: 73, 5.892600000000001: 73, 3.1073: 72, 0.805: 71, 14.2163: 71, 0.6279: 70, 2.5438: 70, 15.6009: 69, 2.5921000000000003: 69, 4.3631: 69, 4.6690000000000005: 69, 3.2039: 68, 14.7959: 68, 4.8783: 68, 3.3971: 68, 3.4293: 68, 7.776300000000001: 68, 5.9087000000000005: 68, 8.2593: 67, 3.5259: 66, 0.6440000000000001: 65, 1.8837: 65, 6.0053: 65, 7.744099999999999: 65, 1.9159: 64, 14.023100000000005: 64, 0.3381: 62, 3.9606: 62, 3.2844: 62, 5.8443000000000005: 59, 4.8139: 59, 7.631400000000001: 59, 3.5581: 59, 9.5956: 59, 10.5455: 58, 0.2898: 58, 1.4168: 58, 1.8515: 58, 5.8604: 58, 6.488300000000001: 57, 7.808499999999999: 57, 15.922900000000002: 57, 2.2057: 56, 8.227100000000002: 56, 3.847900000000001: 56, 3.4615: 56, 10.851400000000002: 55, 0.7889: 55, 2.5277000000000003: 55, 0.483: 54, 3.8962: 54, 11.6081: 54, 10.1752: 54, 6.6976: 53, 4.7978000000000005: 53, 15.697500000000002: 52, 14.6349: 52, 3.6547: 52, 6.7137: 52, 8.4686: 51, 9.0643: 51, 14.3612: 50, 7.695800000000001: 49, 6.230700000000001: 49, 3.8318: 48, 3.864: 48, 1.7549: 48, 10.722600000000002: 48, 1.8998: 48, 2.4955000000000003: 48, 10.8031: 47, 2.0286: 47, 0.7567: 47, 2.3023: 47, 4.459700000000001: 46, 2.737: 46, 3.4937: 46, 8.372000000000002: 46, 4.7656: 45, 2.6887: 45, 2.8175000000000003: 45, 10.706500000000002: 45, 12.2199: 45, 0.6762: 44, 3.4132: 44, 4.314800000000001: 44, 1.8676: 44, 1.2397: 44, 0.8372: 44, 5.0876: 44, 2.6404: 44, 4.1699: 44, 1.7710000000000004: 43, 2.0769: 43, 0.4669: 42, 6.5849: 42, 9.8693: 42, 0.3703: 42, 9.9981: 42, 0.5152: 41, 4.3309: 41, 1.2719: 41, 6.8264000000000005: 41, 6.6493: 41, 1.9803: 41, 8.9677: 40, 2.9463000000000004: 40, 7.550900000000001: 40, 0.2737: 39, 8.1466: 39, 8.645700000000001: 39, 3.6064000000000007: 39, 7.4543: 39, 3.751300000000001: 38, 4.9588: 38, 4.4275: 38, 8.0983: 38, 6.8586: 38, 2.9141000000000004: 38, 15.504300000000002: 38, 11.914: 38, 8.3076: 37, 0.9338: 37, 0.2415: 37, 8.1788: 37, 9.6439: 37, 10.8192: 36, 14.715400000000002: 36, 9.4829: 36, 5.7316: 36, 3.0429: 36, 3.0751: 36, 1.61: 36, 7.3255: 36, 13.8138: 35, 5.796: 35, 9.5634: 35, 0.1449: 35, 1.8354: 35, 2.1252000000000004: 35, 9.3702: 35, 7.486500000000001: 35, 15.3594: 34, 9.5312: 34, 10.1913: 34, 11.7047: 34, 0.3864: 34, 2.4633000000000003: 34, 11.4954: 34, 0.2254: 34, 5.6833: 33, 9.6922: 33, 5.2808: 33, 0.7728: 33, 10.835300000000002: 33, 11.1573: 33, 8.774500000000002: 33, 6.5688: 33, 11.6725: 32, 9.016: 32, 6.5366: 32, 5.763800000000001: 32, 0.966: 32, 0.3059: 32, 0.9821: 32, 13.9748: 32, 9.5795: 32, 6.4078: 32, 4.1377: 32, 14.0553: 31, 1.2236: 31, 6.7298: 31, 1.4651: 31, 5.2647: 31, 3.2361: 31, 13.9587: 31, 1.9642: 31, 10.6743: 30, 13.894300000000005: 30, 4.6207: 30, 1.5617: 30, 11.5276: 30, 1.3846: 30, 2.0608: 30, 0.3542: 30, 15.021300000000002: 30, 5.3935: 29, 0.8533000000000001: 29, 2.4794: 29, 1.4329: 29, 1.5295: 29, 1.2558: 28, 8.1144: 28, 1.3685: 28, 1.3202: 28, 0.4025: 28, 7.5187: 28, 0.9016000000000002: 28, 15.456: 28, 4.5402000000000005: 28, 6.3112: 27, 3.1234: 27, 3.6708: 27, 4.008900000000001: 27, 0.6601: 27, 0.8855000000000002: 27, 6.0375000000000005: 27, 5.570600000000001: 27, 1.6583: 27, 6.7942: 27, 10.5938: 27, 6.8747: 27, 6.5205: 27, 0.6118: 26, 1.0626000000000002: 26, 1.7388: 26, 15.262800000000002: 26, 11.8496: 26, 1.5134: 26, 4.781700000000001: 26, 5.313: 26, 9.499: 26, 11.237800000000002: 26, 8.935500000000001: 26, 3.703: 26, 7.1645: 26, 7.679699999999999: 26, 10.0786: 26, 3.944500000000001: 25, 5.5384: 25, 4.717300000000001: 25, 9.4185: 25, 14.457800000000002: 25, 7.5348: 25, 6.2146: 25, 4.652900000000001: 25, 0.7406: 24, 1.7066: 24, 1.6261: 24, 0.7084: 24, 4.379200000000001: 24, 4.4114: 24, 2.1574000000000004: 24, 0.9499: 24, 6.601: 24, 0.5313000000000001: 24, 3.7352: 24, 5.2003: 24, 5.618900000000001: 24, 8.8872: 24, 7.1001: 24, 0.4508000000000001: 23, 1.5456: 23, 8.855: 23, 5.7799000000000005: 23, 1.6905: 23, 9.0965: 23, 5.4579: 23, 10.1591: 23, 6.9713: 23, 1.1109: 22, 10.787: 22, 0.5474000000000001: 22, 6.2468: 22, 1.4973: 22, 9.821: 22, 9.7405: 22, 3.1556: 22, 3.5742000000000007: 22, 7.2611: 22, 7.0196000000000005: 22, 5.152000000000001: 22, 7.840700000000001: 22, 10.5133: 22, 8.9999: 22, 11.109000000000002: 22, 6.8908000000000005: 21, 15.439900000000002: 21, 6.359500000000001: 21, 5.6672: 21, 5.6028: 21, 3.1878: 21, 2.9946: 21, 0.8211: 21, 6.0858: 21, 9.2897: 21, 1.0465000000000002: 21, 7.406: 21, 1.127: 21, 10.0625: 20, 0.2093: 20, 0.0322: 20, 4.5724: 20, 1.3524: 20, 4.0572: 20, 10.9158: 20, 9.9337: 20, 15.246700000000002: 20, 9.1287: 20, 6.617100000000001: 20, 2.7853000000000003: 20, 2.8014: 20, 10.143: 20, 4.6368: 20, 6.810300000000001: 20, 6.552700000000001: 20, 3.6386: 19, 0.4347: 19, 2.3506: 19, 2.5599000000000003: 19, 1.7227: 19, 0.0161: 19, 10.7709: 19, 4.6046000000000005: 19, 5.3452: 19, 4.4758: 19, 12.4292: 19, 4.250400000000001: 19, 1.6744: 19, 9.2575: 19, 8.8389: 19, 4.1055: 19, 0.5796: 19, 2.0125: 18, 11.1412: 18, 10.4167: 18, 3.783500000000001: 18, 6.1824: 18, 3.0912: 18, 1.5939: 18, 5.506200000000001: 18, 4.0894: 18, 4.186000000000001: 18, 4.6851: 18, 6.1341: 18, 10.4972: 18, 8.0822: 18, 9.1931: 18, 7.5992: 18, 14.844200000000004: 18, 9.338: 18, 3.7996: 18, 2.254: 18, 10.3362: 18, 11.6242: 18, 1.1914: 18, 5.828200000000001: 17, 1.8032000000000004: 17, 6.262900000000001: 17, 9.4346: 17, 7.3738: 17, 2.898: 17, 9.1126: 17, 5.8121: 17, 7.647500000000001: 17, 14.4095: 17, 3.719100000000001: 17, 9.4024: 17, 14.49: 17, 9.66: 17, 7.792400000000001: 17, 2.8497000000000003: 17, 3.5903: 17, 8.8228: 17, 2.0447: 17, 2.6726: 17, 14.7798: 17, 10.3201: 17, 9.9498: 16, 0.9982: 16, 10.5294: 16, 1.5778: 16, 4.0411: 16, 8.6135: 16, 4.8944: 16, 4.7334000000000005: 16, 2.8819000000000004: 16, 8.7423: 16, 1.1431: 16, 3.3488: 16, 3.1717: 16, 1.0948000000000002: 16, 5.2325: 16, 8.7101: 16, 1.0143: 16, 8.017800000000001: 16, 7.3094: 16, 15.391600000000002: 16, 9.2092: 16, 2.2862: 16, 0.4991: 16, 3.0268: 16, 11.7369: 16, 7.438200000000001: 16, 6.5044: 16, 8.790600000000001: 16, 8.2432: 16, 3.3005: 15, 5.699400000000001: 15, 2.6243: 15, 2.7209: 15, 7.357700000000001: 15, 10.1108: 15, 6.4722: 15, 3.4776: 15, 7.293300000000001: 15, 8.5169: 15, 9.3863: 15, 8.0661: 15, 3.9928: 15, 9.160900000000002: 15, 7.856800000000001: 15, 7.921200000000001: 15, 8.5813: 15, 5.3774: 15, 11.2861: 14, 11.9301: 14, 13.9426: 14, 0.4186: 14, 1.3041000000000005: 14, 4.2665: 14, 4.9266000000000005: 14, 2.3828: 14, 7.6636: 14, 4.2182: 14, 7.889000000000001: 14, 3.22: 14, 11.592: 14, 7.422100000000001: 14, 8.903300000000002: 14, 6.1019000000000005: 14, 2.1896000000000004: 14, 7.567000000000001: 14, 7.3899: 14, 2.2379: 14, 8.033900000000001: 14, 9.0482: 14, 7.228900000000001: 14, 15.778000000000002: 14, 8.2754: 14, 11.253900000000002: 13, 3.5098000000000003: 13, 11.5759: 13, 5.6511: 13, 3.7674: 13, 5.1681: 13, 2.2701: 13, 11.5437: 13, 1.4007: 13, 5.5867: 13, 6.923: 13, 11.8818: 13, 9.0804: 13, 1.3363: 13, 4.9749: 13, 7.760200000000001: 13, 8.211: 13, 14.989100000000002: 13, 7.615300000000001: 12, 2.3667: 12, 7.148400000000001: 12, 0.7245: 12, 6.0536: 12, 7.711900000000001: 12, 0.9177: 12, 11.3505: 12, 5.4418: 12, 4.5563: 12, 9.2414: 12, 9.3541: 12, 2.2218: 12, 11.382700000000002: 12, 2.5116: 12, 14.5383: 12, 1.9964: 12, 11.1734: 12, 8.3881: 12, 8.500800000000002: 12, 10.7548: 11, 2.6565: 11, 3.2522: 11, 2.6082000000000005: 11, 2.8336: 11, 1.1592: 11, 7.0518: 11, 9.2736: 11, 8.5491: 11, 2.7531000000000003: 11, 0.5635: 11, 5.1037: 11, 9.3219: 11, 5.7477: 11, 10.3845: 11, 5.425700000000001: 11, 0.5957: 11, 2.7692: 11, 7.1967: 11, 13.8621: 11, 10.2396: 11, 13.8299: 11, 8.7262: 11, 7.245: 11, 8.291500000000001: 11, 0.6923: 10, 1.7871000000000004: 10, 1.6422: 10, 3.3327: 10, 14.4739: 10, 11.0607: 10, 3.6225: 10, 5.0715: 10, 9.1448: 10, 5.2486: 10, 2.3184: 10, 8.629600000000002: 10, 10.304000000000002: 10, 15.407700000000002: 10, 8.162700000000001: 10, 6.6332: 10, 5.361300000000001: 10, 11.4149: 10, 9.4668: 10, 9.7727: 10, 4.8622000000000005: 10, 5.635000000000001: 10, 9.3058: 10, 12.2843: 10, 8.6618: 10, 1.0787000000000002: 10, 7.502600000000001: 10, 0.0644: 10, 3.3166: 10, 6.7620000000000005: 10, 5.490100000000001: 10, 6.3756: 10, 14.2485: 10, 14.860300000000002: 10, 3.815700000000001: 9, 4.2826: 9, 10.4811: 9, 10.448900000000002: 9, 2.4472: 9, 0.0483: 9, 4.1538: 9, 2.3345: 9, 8.919400000000001: 9, 9.5151: 9, 5.184200000000001: 9, 6.1502: 9, 4.7012: 9, 11.0929: 9, 6.4561: 9, 11.640300000000002: 9, 2.7048: 9, 5.9892: 9, 7.3416: 9, 6.6654: 9, 10.6904: 9, 0.2576: 9, 1.2075: 9, 15.4882: 9, 3.6869: 9, 7.583100000000001: 9, 11.0124: 9, 14.651: 9, 13.6367: 9, 10.5616: 9, 8.4042: 9, 5.3291: 8, 8.758400000000002: 8, 2.1413: 8, 13.6206: 8, 1.1753: 8, 7.0679: 8, 2.1091: 8, 10.9641: 8, 14.570500000000004: 8, 2.415: 8, 7.9373: 8, 13.4435: 8, 9.177: 8, 2.0930000000000004: 8, 1.4812: 8, 5.2969: 8, 8.6779: 8, 9.032100000000002: 8, 13.7977: 8, 8.4364: 8, 1.8193: 7, 5.4096: 7, 1.9481: 7, 7.1806: 7, 2.8658: 7, 8.3237: 7, 2.1735: 7, 15.375500000000002: 7, 6.745900000000001: 7, 10.6421: 7, 5.0232: 7, 5.554500000000001: 7, 11.3022: 7, 13.7816: 7, 11.3344: 7, 10.9319: 7, 10.465: 7, 10.0142: 7, 14.6188: 7, 6.391700000000001: 7, 6.681500000000001: 7, 3.381: 7, 9.9659: 7, 8.4847: 7, 13.6528: 6, 13.685: 6, 13.7333: 6, 14.6027: 6, 7.0035: 6, 11.1895: 6, 10.7387: 6, 4.2343: 6, 13.0893: 6, 7.953400000000001: 6, 8.8711: 6, 5.0071: 6, 8.5974: 6, 14.2807: 6, 11.4632: 6, 9.8854: 6, 13.4113: 6, 14.296800000000005: 6, 5.055400000000001: 6, 13.5562: 6, 8.9516: 6, 5.9409: 6, 14.699300000000004: 6, 14.828100000000004: 6, 10.1269: 6, 10.6582: 5, 5.474: 5, 5.119800000000001: 5, 15.536500000000002: 5, 12.8961: 5, 7.1162: 5, 14.425600000000005: 5, 10.0947: 5, 14.3451: 5, 15.117900000000002: 5, 15.0535: 5, 13.2664: 5, 14.441700000000004: 5, 2.4311000000000003: 5, 9.7244: 5, 13.7494: 5, 11.5598: 5, 10.2879: 5, 12.1233: 5, 6.327300000000001: 5, 6.279: 5, 10.996300000000002: 5, 8.9838: 5, 0.1288: 5, 14.0392: 5, 8.5652: 5, 7.4704: 5, 14.1197: 5, 13.9104: 4, 12.0911: 4, 14.1036: 4, 15.423800000000002: 4, 13.4757: 4, 13.5401: 4, 11.511500000000002: 4, 14.973000000000004: 4, 14.6671: 4, 6.9552000000000005: 4, 8.694: 4, 13.1698: 4, 1.0304: 4, 10.6099: 4, 6.423900000000001: 4, 6.44: 4, 13.8782: 4, 0.8694000000000001: 4, 11.7691: 4, 15.1984: 4, 9.2253: 4, 10.626: 4, 5.5223: 3, 0.0805: 3, 13.3147: 3, 15.681400000000002: 3, 15.7136: 3, 15.278900000000002: 3, 11.3666: 3, 13.846: 3, 12.7029: 3, 12.6868: 3, 15.166200000000002: 3, 13.6689: 3, 12.4614: 3, 2.3989000000000003: 3, 11.431: 3, 10.432800000000002: 3, 14.5061: 3, 15.8585: 3, 8.4525: 3, 8.533: 3, 9.9176: 3, 5.7155000000000005: 3, 8.8067: 3, 13.3791: 2, 15.4721: 2, 14.2324: 2, 0.1127: 2, 12.9283: 2, 3.2683: 2, 15.665300000000002: 2, 12.1877: 2, 15.906800000000002: 2, 0.0966: 2, 12.2682: 2, 13.363: 2, 13.524: 2, 12.1555: 2, 15.8424: 2, 13.2503: 2, 12.8478: 2, 13.1537: 2, 12.0106: 2, 13.1376: 2, 11.9945: 2, 12.9927: 2, 11.8335: 2, 11.7852: 2, 15.2145: 2, 13.4918: 2, 13.1215: 2, 14.3773: 2, 13.0249: 2, 13.202: 2, 12.8156: 2, 15.794100000000002: 2, 14.2646: 2, 15.955100000000002: 2, 15.0857: 2, 12.380900000000002: 2, 11.9623: 2, 12.1716: 2, 15.617: 2, 16.0195: 2, 12.236: 2, 10.8675: 2, 12.3326: 2, 12.5902: 1, 12.719: 1, 12.9605: 1, 12.4775: 1, 14.1841: 1, 13.9265: 1, 15.568700000000002: 1, 12.5097: 1, 12.6063: 1, 13.2342: 1, 13.0088: 1, 14.2002: 1, 12.558: 1, 14.1519: 1, 14.312900000000004: 1, 14.0714: 1, 12.1394: 1, 13.4274: 1, 12.6707: 1, 13.7655: 1, 12.8317: 1, 11.2217: 1, 15.3433: 1, 14.1358: 1, 12.7673: 1, 12.6385: 1, 11.8174: 1, 13.041: 1, 13.0732: 1, 14.007: 1, 12.5741: 1, 14.5544: 1, 12.397: 1, 12.4936: 1, 12.5419: 1, 13.1859: 1, 13.5723: 1, 13.9909: 1, 13.4596: 1, 11.4793: 1, 12.4131: 1, 11.7208: 1, 15.230600000000004: 1, 15.295000000000002: 1, 15.3272: 1, 15.7619: 1, 15.810200000000002: 1, 15.939000000000002: 1, 15.9873: 1, 16.0839: 1})\n",
            "False\n",
            "Counter({0.0: 96453})\n",
            "False\n",
            "Counter({0.0: 1288, 1017.7: 123, 1015.0: 119, 1015.8: 118, 1018.0: 118, 1016.7: 117, 1019.1: 117, 1016.9: 115, 1017.3: 114, 1015.9: 114, 1016.5: 114, 1017.4: 114, 1017.1: 112, 1018.7: 112, 1015.1: 111, 1017.6: 111, 1014.9: 110, 1016.1: 110, 1017.9: 109, 1016.8: 108, 1019.6: 108, 1017.8: 107, 1014.5: 106, 1019.7: 105, 1018.9: 105, 1020.2: 105, 1015.7: 104, 1016.6: 104, 1019.0: 104, 1017.2: 104, 1016.3: 104, 1018.2: 103, 1015.5: 102, 1016.4: 101, 1017.5: 101, 1014.7: 100, 1014.4: 98, 1019.9: 97, 1014.8: 96, 1013.8: 96, 1018.8: 96, 1018.1: 96, 1015.2: 95, 1013.5: 95, 1015.3: 95, 1018.4: 95, 1014.6: 94, 1018.6: 93, 1017.0: 93, 1020.8: 92, 1019.8: 92, 1014.3: 91, 1020.0: 91, 1019.3: 91, 1020.1: 91, 1018.3: 90, 1019.2: 90, 1018.5: 89, 1015.4: 88, 1020.4: 88, 1016.0: 88, 1019.4: 87, 1015.6: 87, 1020.9: 87, 1021.6: 87, 1012.7: 87, 1014.1: 86, 1019.5: 85, 1013.2: 85, 1014.0: 84, 1014.2: 82, 1016.2: 82, 1020.3: 82, 1021.1: 81, 1012.3: 81, 1020.6: 80, 1013.7: 80, 1013.1: 79, 1013.9: 78, 1012.6: 76, 1015.41: 76, 1021.4: 76, 1012.1: 76, 1013.4: 75, 1020.5: 75, 1011.8: 75, 1012.8: 74, 1020.7: 74, 1011.2: 73, 1012.2: 73, 1012.5: 73, 1013.6: 73, 1016.47: 72, 1021.5: 72, 1022.3: 72, 1013.73: 71, 1012.9: 71, 1021.3: 71, 1015.72: 70, 1018.11: 68, 1015.62: 68, 1012.4: 68, 1010.5: 68, 1015.98: 68, 1016.11: 68, 1016.63: 68, 1021.7: 68, 1014.62: 67, 1015.08: 67, 1019.31: 67, 1015.33: 67, 1019.23: 67, 1015.51: 66, 1017.15: 66, 1014.86: 66, 1013.97: 66, 1014.08: 66, 1015.52: 66, 1013.59: 66, 1015.99: 66, 1016.22: 66, 1013.3: 66, 1014.16: 65, 1014.41: 65, 1011.6: 65, 1015.59: 65, 1015.45: 65, 1009.5: 65, 1019.17: 65, 1019.39: 65, 1021.0: 65, 1015.53: 65, 1018.68: 64, 1015.48: 64, 1015.02: 64, 1015.87: 64, 1014.52: 63, 1015.68: 63, 1015.11: 63, 1017.73: 63, 1016.58: 63, 1014.36: 63, 1017.27: 63, 1017.18: 63, 1019.15: 63, 1021.9: 63, 1015.85: 62, 1016.82: 62, 1015.34: 62, 1016.08: 62, 1014.39: 62, 1011.3: 62, 1021.2: 62, 1019.73: 62, 1015.03: 62, 1019.65: 62, 1016.72: 61, 1013.56: 61, 1014.92: 61, 1013.19: 61, 1014.46: 61, 1017.12: 61, 1018.37: 61, 1016.44: 61, 1016.73: 61, 1015.93: 61, 1012.0: 61, 1019.51: 61, 1013.87: 61, 1019.48: 61, 1022.9: 61, 1010.0: 60, 1014.51: 60, 1015.76: 60, 1016.13: 60, 1016.52: 60, 1014.78: 60, 1019.79: 60, 1016.04: 60, 1012.28: 60, 1016.14: 60, 1022.4: 60, 1013.52: 60, 1019.81: 60, 1017.52: 60, 1015.31: 60, 1016.31: 60, 1019.61: 60, 1015.13: 59, 1015.63: 59, 1015.82: 59, 1015.14: 59, 1017.06: 59, 1016.81: 59, 1013.54: 59, 1015.24: 59, 1014.18: 59, 1010.9: 59, 1010.3: 59, 1016.71: 59, 1023.6: 59, 1017.14: 59, 1013.86: 59, 1022.1: 59, 1011.1: 59, 1015.73: 59, 1014.45: 58, 1015.18: 58, 1017.23: 58, 1014.81: 58, 1015.92: 58, 1018.47: 58, 1015.43: 58, 1019.27: 58, 1014.93: 58, 1018.96: 58, 1019.32: 58, 1011.9: 58, 1010.8: 58, 1016.41: 57, 1010.1: 57, 1016.56: 57, 1018.48: 57, 1017.38: 57, 1010.7: 57, 1012.21: 57, 1017.34: 57, 1017.16: 57, 1019.11: 57, 1018.67: 57, 1013.0: 57, 1008.4: 57, 1010.4: 57, 1015.19: 57, 1018.02: 57, 1016.67: 57, 1015.12: 57, 1019.52: 57, 1021.8: 57, 1014.95: 57, 1016.55: 57, 1014.88: 57, 1019.69: 57, 1018.73: 57, 1015.25: 57, 1015.83: 56, 1013.95: 56, 1013.01: 56, 1015.64: 56, 1016.16: 56, 1014.55: 56, 1014.44: 56, 1013.76: 56, 1014.48: 56, 1015.21: 56, 1015.42: 56, 1016.61: 56, 1015.01: 56, 1011.77: 56, 1017.05: 56, 1019.13: 56, 1015.67: 56, 1016.75: 56, 1017.71: 56, 1016.21: 56, 1016.92: 56, 1011.0: 56, 1015.84: 56, 1014.99: 56, 1016.79: 56, 1019.76: 56, 1008.9: 56, 1014.66: 55, 1015.55: 55, 1018.25: 55, 1019.83: 55, 1013.02: 55, 1017.54: 55, 1014.68: 55, 1016.12: 55, 1016.96: 55, 1020.03: 55, 1009.9: 55, 1015.17: 55, 1012.39: 55, 1009.0: 55, 1016.93: 55, 1014.85: 55, 1009.2: 55, 1014.33: 55, 1016.91: 55, 1014.03: 55, 1020.23: 55, 1019.82: 55, 1016.88: 55, 1015.61: 55, 1014.71: 55, 1018.93: 55, 1014.67: 54, 1014.91: 54, 1017.58: 54, 1013.13: 54, 1013.23: 54, 1011.5: 54, 1011.4: 54, 1014.31: 54, 1014.63: 54, 1016.38: 54, 1016.25: 54, 1017.53: 54, 1016.68: 54, 1015.38: 54, 1016.83: 54, 1018.08: 54, 1016.69: 54, 1014.74: 54, 1015.36: 54, 1015.07: 54, 1017.64: 54, 1023.3: 54, 1018.61: 54, 1017.98: 54, 1017.51: 54, 1016.86: 54, 1015.23: 54, 1013.78: 54, 1023.5: 54, 1017.55: 54, 1016.09: 54, 1023.1: 54, 1018.51: 54, 1022.5: 54, 1017.91: 54, 1015.74: 54, 1020.09: 54, 1017.17: 53, 1014.49: 53, 1014.75: 53, 1013.61: 53, 1011.7: 53, 1016.35: 53, 1016.45: 53, 1016.33: 53, 1015.04: 53, 1018.38: 53, 1018.44: 53, 1017.62: 53, 1013.55: 53, 1015.66: 53, 1016.05: 53, 1015.97: 53, 1014.21: 53, 1014.72: 53, 1015.56: 53, 1017.08: 53, 1014.84: 53, 1013.83: 53, 1013.57: 53, 1013.77: 53, 1013.98: 53, 1019.04: 53, 1018.64: 53, 1014.65: 53, 1017.49: 53, 1023.2: 53, 1018.45: 53, 1018.76: 53, 1015.28: 53, 1016.53: 53, 1022.6: 53, 1019.89: 53, 1022.2: 53, 1019.58: 53, 1016.17: 52, 1012.72: 52, 1014.82: 52, 1016.23: 52, 1019.08: 52, 1020.02: 52, 1013.92: 52, 1012.83: 52, 1012.88: 52, 1015.81: 52, 1015.39: 52, 1015.88: 52, 1015.49: 52, 1016.49: 52, 1017.88: 52, 1019.41: 52, 1019.62: 52, 1015.65: 52, 1018.81: 52, 1015.27: 52, 1016.95: 52, 1023.7: 52, 1018.26: 52, 1019.71: 52, 1018.14: 52, 1017.57: 52, 1015.37: 52, 1020.06: 52, 1017.44: 52, 1024.7: 52, 1006.9: 52, 1019.92: 52, 1016.15: 51, 1012.23: 51, 1013.29: 51, 1014.07: 51, 1016.43: 51, 1012.66: 51, 1012.52: 51, 1012.61: 51, 1012.62: 51, 1014.98: 51, 1014.73: 51, 1017.72: 51, 1017.82: 51, 1017.13: 51, 1017.04: 51, 1018.13: 51, 1018.59: 51, 1020.81: 51, 1018.17: 51, 1007.6: 51, 1012.59: 51, 1017.07: 51, 1016.42: 51, 1016.03: 51, 1015.26: 51, 1010.6: 51, 1019.12: 51, 1018.69: 51, 1017.02: 51, 1016.28: 51, 1020.33: 51, 1019.28: 51, 1021.49: 51, 1019.75: 51, 1017.41: 51, 1019.98: 51, 1016.48: 51, 1017.21: 51, 1014.54: 51, 1013.66: 51, 1014.22: 51, 1020.19: 51, 1023.0: 51, 1019.78: 51, 1015.75: 51, 1017.48: 50, 1013.96: 50, 1012.09: 50, 1013.58: 50, 1017.28: 50, 1020.12: 50, 1017.89: 50, 1017.96: 50, 1013.18: 50, 1013.17: 50, 1013.28: 50, 1013.64: 50, 1014.12: 50, 1014.29: 50, 1014.11: 50, 1017.32: 50, 1018.18: 50, 1017.26: 50, 1007.1: 50, 1015.58: 50, 1015.46: 50, 1016.78: 50, 1018.19: 50, 1015.91: 50, 1016.18: 50, 1018.74: 50, 1019.29: 50, 1014.15: 50, 1018.16: 50, 1016.46: 50, 1013.51: 50, 1012.53: 50, 1015.05: 50, 1018.71: 50, 1019.96: 50, 1020.63: 50, 1017.11: 50, 1022.7: 50, 1022.0: 50, 1016.99: 50, 1017.29: 50, 1016.24: 50, 1014.09: 50, 1018.53: 50, 1018.42: 50, 1009.4: 50, 1015.94: 49, 1016.84: 49, 1017.74: 49, 1014.24: 49, 1013.85: 49, 1007.0: 49, 1012.33: 49, 1012.55: 49, 1012.96: 49, 1013.14: 49, 1013.11: 49, 1012.69: 49, 1009.8: 49, 1014.64: 49, 1014.35: 49, 1014.43: 49, 1014.83: 49, 1015.79: 49, 1015.95: 49, 1015.89: 49, 1015.54: 49, 1017.25: 49, 1018.65: 49, 1014.97: 49, 1017.24: 49, 1016.34: 49, 1015.86: 49, 1011.69: 49, 1014.94: 49, 1014.01: 49, 1014.04: 49, 1018.83: 49, 1018.06: 49, 1020.68: 49, 1017.47: 49, 1018.33: 49, 1018.22: 49, 1012.12: 49, 1023.9: 49, 1017.92: 49, 1017.67: 49, 1016.89: 49, 1017.03: 49, 1012.18: 49, 1017.46: 49, 1015.32: 49, 1011.52: 49, 1014.05: 49, 1018.58: 49, 1013.94: 49, 1016.51: 48, 1016.66: 48, 1017.37: 48, 1012.51: 48, 1012.44: 48, 1017.77: 48, 1016.27: 48, 1016.01: 48, 1013.46: 48, 1013.62: 48, 1009.1: 48, 1015.16: 48, 1014.61: 48, 1016.29: 48, 1016.97: 48, 1015.09: 48, 1009.6: 48, 1010.46: 48, 1011.57: 48, 1018.57: 48, 1019.37: 48, 1019.45: 48, 1016.87: 48, 1016.65: 48, 1021.14: 48, 1019.72: 48, 1018.75: 48, 1018.55: 48, 1019.02: 48, 1020.32: 48, 1017.79: 48, 1018.12: 48, 1017.81: 48, 1021.61: 48, 1014.19: 48, 1019.03: 48, 1011.75: 48, 1015.44: 48, 1009.7: 48, 1017.42: 47, 1014.47: 47, 1011.97: 47, 1014.89: 47, 1017.87: 47, 1011.76: 47, 1014.14: 47, 1015.29: 47, 1019.86: 47, 1020.53: 47, 1017.97: 47, 1011.95: 47, 1013.08: 47, 1018.39: 47, 1008.2: 47, 1012.81: 47, 1017.76: 47, 1019.01: 47, 1017.99: 47, 1010.78: 47, 1020.07: 47, 1018.86: 47, 1019.26: 47, 1020.47: 47, 1020.99: 47, 1019.53: 47, 1012.45: 47, 1014.59: 47, 1020.24: 47, 1020.21: 47, 1018.52: 47, 1018.56: 47, 1017.95: 47, 1016.98: 47, 1016.36: 47, 1016.54: 47, 1019.87: 47, 1012.93: 47, 1020.01: 47, 1011.94: 47, 1015.22: 47, 1020.89: 47, 1019.14: 47, 1024.1: 47, 1023.4: 47, 1017.59: 46, 1012.74: 46, 1015.35: 46, 1013.81: 46, 1016.64: 46, 1014.79: 46, 1013.38: 46, 1013.24: 46, 1015.96: 46, 1014.87: 46, 1017.33: 46, 1019.47: 46, 1019.25: 46, 1019.91: 46, 1020.11: 46, 1020.16: 46, 1013.21: 46, 1015.47: 46, 1018.49: 46, 1007.4: 46, 1011.73: 46, 1018.15: 46, 1010.72: 46, 1017.35: 46, 1008.1: 46, 1017.63: 46, 1018.88: 46, 1018.72: 46, 1010.92: 46, 1021.54: 46, 1019.54: 46, 1022.04: 46, 1019.97: 46, 1020.73: 46, 1018.05: 46, 1016.19: 46, 1011.16: 46, 1019.85: 46, 1018.07: 46, 1016.85: 46, 1014.38: 46, 1022.8: 46, 1021.59: 46, 1013.26: 46, 1013.47: 46, 1012.76: 46, 1010.2: 46, 1019.09: 46, 1019.35: 46, 1014.23: 46, 1017.22: 45, 1015.77: 45, 1018.89: 45, 1017.36: 45, 1013.63: 45, 1012.75: 45, 1013.33: 45, 1014.32: 45, 1014.34: 45, 1016.39: 45, 1017.78: 45, 1017.19: 45, 1012.64: 45, 1011.51: 45, 1012.11: 45, 1013.35: 45, 1011.39: 45, 1015.69: 45, 1013.53: 45, 1012.87: 45, 1018.32: 45, 1013.32: 45, 1012.82: 45, 1012.47: 45, 1015.15: 45, 1016.77: 45, 1013.09: 45, 1010.96: 45, 1013.68: 45, 1020.43: 45, 1021.55: 45, 1024.9: 45, 1019.99: 45, 1017.69: 45, 1008.5: 45, 1013.37: 45, 1016.07: 45, 1019.42: 45, 1014.26: 45, 1014.28: 45, 1012.86: 45, 1009.3: 45, 1013.65: 45, 1019.33: 45, 1018.54: 45, 1013.06: 45, 1019.24: 44, 1012.85: 44, 1017.45: 44, 1017.31: 44, 1014.13: 44, 1011.59: 44, 1012.97: 44, 1014.17: 44, 1014.27: 44, 1018.29: 44, 1018.66: 44, 1018.46: 44, 1013.79: 44, 1015.71: 44, 1012.65: 44, 1011.02: 44, 1008.3: 44, 1011.29: 44, 1020.96: 44, 1020.59: 44, 1019.34: 44, 1012.95: 44, 1019.74: 44, 1018.79: 44, 1020.27: 44, 1020.82: 44, 1018.41: 44, 1013.91: 44, 1012.68: 44, 1019.84: 44, 1018.91: 44, 1018.87: 44, 1021.84: 44, 1007.3: 44, 1021.45: 44, 1013.99: 44, 1019.56: 44, 1014.25: 43, 1013.39: 43, 1013.42: 43, 1013.27: 43, 1011.27: 43, 1011.67: 43, 1017.43: 43, 1019.22: 43, 1019.95: 43, 1019.43: 43, 1013.82: 43, 1011.19: 43, 1011.08: 43, 1012.79: 43, 1011.72: 43, 1011.22: 43, 1016.76: 43, 1008.8: 43, 1013.22: 43, 1012.41: 43, 1013.44: 43, 1016.32: 43, 1010.61: 43, 1007.5: 43, 1010.65: 43, 1020.54: 43, 1020.22: 43, 1013.72: 43, 1026.3: 43, 1020.98: 43, 1020.69: 43, 1020.48: 43, 1021.11: 43, 1019.94: 43, 1014.53: 43, 1007.7: 43, 1019.07: 43, 1024.0: 43, 1013.45: 42, 1012.02: 42, 1011.81: 42, 1010.29: 42, 1013.93: 42, 1018.28: 42, 1013.75: 42, 1011.87: 42, 1008.7: 42, 1010.18: 42, 1012.42: 42, 1010.87: 42, 1018.35: 42, 1011.54: 42, 1014.56: 42, 1012.36: 42, 1017.94: 42, 1017.66: 42, 1018.92: 42, 1020.42: 42, 1019.57: 42, 1019.46: 42, 1024.4: 42, 1022.88: 42, 1020.35: 42, 1011.89: 42, 1020.57: 42, 1020.29: 42, 1020.26: 42, 1021.27: 42, 1020.88: 42, 1020.71: 42, 1022.31: 42, 1020.61: 42, 1019.63: 42, 1012.92: 42, 1015.57: 42, 1019.19: 42, 1020.46: 42, 1012.35: 42, 1019.36: 42, 1012.25: 42, 1019.64: 42, 1024.5: 42, 1011.88: 42, 1024.8: 42, 1012.22: 41, 1012.38: 41, 1011.35: 41, 1014.37: 41, 1016.94: 41, 1019.59: 41, 1017.68: 41, 1010.48: 41, 1010.85: 41, 1014.42: 41, 1013.36: 41, 1013.49: 41, 1014.77: 41, 1011.93: 41, 1014.69: 41, 1014.96: 41, 1012.58: 41, 1012.91: 41, 1019.16: 41, 1009.81: 41, 1016.06: 41, 1017.93: 41, 1013.84: 41, 1012.78: 41, 1022.17: 41, 1019.93: 41, 1011.82: 41, 1010.51: 41, 1020.72: 41, 1020.13: 41, 1013.89: 41, 1019.44: 41, 1019.18: 41, 1021.25: 41, 1021.02: 41, 1019.49: 41, 1021.68: 41, 1018.04: 41, 1021.16: 41, 1019.38: 41, 1012.34: 41, 1012.49: 41, 1012.19: 41, 1013.71: 41, 1018.82: 41, 1014.57: 41, 1018.09: 41, 1024.3: 41, 1010.99: 40, 1012.31: 40, 1011.83: 40, 1018.31: 40, 1014.58: 40, 1012.13: 40, 1011.86: 40, 1017.84: 40, 1017.83: 40, 1017.86: 40, 1007.8: 40, 1012.46: 40, 1011.99: 40, 1016.74: 40, 1011.49: 40, 1011.21: 40, 1011.26: 40, 1010.35: 40, 1007.9: 40, 1017.61: 40, 1019.68: 40, 1021.44: 40, 1012.99: 40, 1012.17: 40, 1020.93: 40, 1020.14: 40, 1018.63: 40, 1020.04: 40, 1021.35: 40, 1021.43: 40, 1013.16: 40, 1020.41: 40, 1020.15: 40, 1020.67: 40, 1020.05: 40, 1016.57: 40, 1020.83: 40, 1020.28: 40, 1020.37: 40, 1018.84: 40, 1013.67: 40, 1018.99: 40, 1017.39: 40, 1012.37: 40, 1012.43: 40, 1011.47: 40, 1019.66: 40, 1025.9: 40, 1010.52: 39, 1017.65: 39, 1011.14: 39, 1012.03: 39, 1013.43: 39, 1012.26: 39, 1021.01: 39, 1014.06: 39, 1010.98: 39, 1009.25: 39, 1011.63: 39, 1011.84: 39, 1010.49: 39, 1013.15: 39, 1017.85: 39, 1011.78: 39, 1008.6: 39, 1016.26: 39, 1011.37: 39, 1012.04: 39, 1010.84: 39, 1021.32: 39, 1012.77: 39, 1020.25: 39, 1020.92: 39, 1020.52: 39, 1018.01: 39, 1018.03: 39, 1020.62: 39, 1021.79: 39, 1018.78: 39, 1026.7: 39, 1025.0: 39, 1007.2: 39, 1019.77: 39, 1010.57: 39, 1013.48: 39, 1011.96: 39, 1013.12: 39, 1011.31: 39, 1012.14: 39, 1025.1: 39, 1019.55: 39, 1011.11: 39, 1018.77: 39, 1011.58: 39, 1012.84: 39, 1013.04: 38, 1020.91: 38, 1017.56: 38, 1012.15: 38, 1012.32: 38, 1012.71: 38, 1012.01: 38, 1014.76: 38, 1012.67: 38, 1012.98: 38, 1012.08: 38, 1018.24: 38, 1011.12: 38, 1016.59: 38, 1016.62: 38, 1010.12: 38, 1010.25: 38, 1010.37: 38, 1011.01: 38, 1011.38: 38, 1027.4: 38, 1021.42: 38, 1020.17: 38, 1012.27: 38, 1021.17: 38, 1019.67: 38, 1020.56: 38, 1022.32: 38, 1010.79: 38, 1024.6: 38, 1020.18: 38, 1010.02: 38, 1018.98: 38, 1025.3: 38, 1011.55: 38, 1012.73: 38, 1013.25: 38, 1013.34: 37, 1010.69: 37, 1011.64: 37, 1013.03: 37, 1012.05: 37, 1009.99: 37, 1011.91: 37, 1011.41: 37, 1011.25: 37, 1014.02: 37, 1013.41: 37, 1015.06: 37, 1012.48: 37, 1015.78: 37, 1011.43: 37, 1010.45: 37, 1022.16: 37, 1011.66: 37, 1021.13: 37, 1009.45: 37, 1018.43: 37, 1022.37: 37, 1018.85: 37, 1020.45: 37, 1020.08: 37, 1021.22: 37, 1022.27: 37, 1021.63: 37, 1022.42: 37, 1020.78: 37, 1016.37: 37, 1017.09: 37, 1022.21: 37, 1009.91: 37, 1010.32: 37, 1021.95: 37, 1026.0: 37, 1018.95: 37, 1010.03: 36, 1010.39: 36, 1020.39: 36, 1020.34: 36, 1011.33: 36, 1012.54: 36, 1010.21: 36, 1010.43: 36, 1009.63: 36, 1009.39: 36, 1011.68: 36, 1018.97: 36, 1018.23: 36, 1011.79: 36, 1010.06: 36, 1011.34: 36, 1009.19: 36, 1010.76: 36, 1010.71: 36, 1010.11: 36, 1023.8: 36, 1019.05: 36, 1023.32: 36, 1022.47: 36, 1012.06: 36, 1020.77: 36, 1021.37: 36, 1017.75: 36, 1016.02: 36, 1013.88: 36, 1018.21: 36, 1021.75: 36, 1022.09: 36, 1021.81: 36, 1021.71: 36, 1020.84: 36, 1020.44: 36, 1021.48: 36, 1025.7: 36, 1020.87: 36, 1011.85: 36, 1010.14: 36, 1025.8: 36, 1012.94: 36, 1010.22: 35, 1010.24: 35, 1020.51: 35, 1011.28: 35, 1011.18: 35, 1011.17: 35, 1011.53: 35, 1010.89: 35, 1010.82: 35, 1006.8: 35, 1009.43: 35, 1010.19: 35, 1009.33: 35, 1012.29: 35, 1021.77: 35, 1021.53: 35, 1009.52: 35, 1020.55: 35, 1021.57: 35, 1025.6: 35, 1020.86: 35, 1020.74: 35, 1010.95: 35, 1012.07: 35, 1021.41: 35, 1021.18: 35, 1021.72: 35, 1006.3: 35, 1011.56: 35, 1021.19: 35, 1025.4: 35, 1026.2: 35, 1013.69: 35, 1006.6: 35, 1007.85: 34, 1009.98: 34, 1013.31: 34, 1009.47: 34, 1020.66: 34, 1011.42: 34, 1010.64: 34, 1013.07: 34, 1011.46: 34, 1011.36: 34, 1010.53: 34, 1022.71: 34, 1022.68: 34, 1020.95: 34, 1021.07: 34, 1006.7: 34, 1022.58: 34, 1020.36: 34, 1021.36: 34, 1021.47: 34, 1021.74: 34, 1022.81: 34, 1021.73: 34, 1021.09: 34, 1020.31: 34, 1020.79: 34, 1019.21: 34, 1013.74: 34, 1011.05: 34, 1011.61: 33, 1011.71: 33, 1010.86: 33, 1011.98: 33, 1018.34: 33, 1009.12: 33, 1010.77: 33, 1012.57: 33, 1010.27: 33, 1010.01: 33, 1008.0: 33, 1029.2: 33, 1023.62: 33, 1022.49: 33, 1005.6: 33, 1009.93: 33, 1021.21: 33, 1012.16: 33, 1022.18: 33, 1021.69: 33, 1023.01: 33, 1021.87: 33, 1020.38: 33, 1022.36: 33, 1021.96: 33, 1010.36: 33, 1009.75: 33, 1012.24: 33, 1024.2: 33, 1018.27: 33, 1010.54: 33, 1006.5: 33, 1026.1: 33, 1008.71: 32, 1010.91: 32, 1012.63: 32, 1019.88: 32, 1012.56: 32, 1013.05: 32, 1011.03: 32, 1009.72: 32, 1010.08: 32, 1011.74: 32, 1010.38: 32, 1010.88: 32, 1010.63: 32, 1009.64: 32, 1023.83: 32, 1022.34: 32, 1022.45: 32, 1022.26: 32, 1022.65: 32, 1022.74: 32, 1011.09: 32, 1020.65: 32, 1022.82: 32, 1021.62: 32, 1021.39: 32, 1017.01: 32, 1021.51: 32, 1010.26: 32, 1010.94: 32, 1019.06: 32, 1006.1: 32, 1011.44: 31, 1011.23: 31, 1010.07: 31, 1010.41: 31, 1011.07: 31, 1018.62: 31, 1009.55: 31, 1009.53: 31, 1008.86: 31, 1009.69: 31, 1009.92: 31, 1010.23: 31, 1009.95: 31, 1021.76: 31, 1021.05: 31, 1022.57: 31, 1021.06: 31, 1021.82: 31, 1021.83: 31, 1011.24: 31, 1023.13: 31, 1022.48: 31, 1018.36: 31, 1021.15: 31, 1010.16: 31, 1021.08: 31, 1021.64: 31, 1021.88: 31, 1027.5: 31, 1022.19: 31, 1022.33: 31, 1010.83: 31, 1025.2: 31, 1005.7: 31, 1020.94: 30, 1009.01: 30, 1008.83: 30, 1011.65: 30, 1011.92: 30, 1010.47: 30, 1011.04: 30, 1007.87: 30, 1009.41: 30, 1009.38: 30, 1011.15: 30, 1009.36: 30, 1010.68: 30, 1009.97: 30, 1023.64: 30, 1025.18: 30, 1024.62: 30, 1024.01: 30, 1022.07: 30, 1020.97: 30, 1020.49: 30, 1021.99: 30, 1021.78: 30, 1021.28: 30, 1021.03: 30, 1020.85: 30, 1022.08: 30, 1022.69: 30, 1022.02: 30, 1024.41: 30, 1025.71: 30, 1010.75: 30, 1010.42: 30, 1009.35: 30, 1021.93: 30, 1008.89: 30, 1021.58: 30, 1004.9: 30, 1005.5: 30, 1029.8: 30, 1011.32: 29, 1011.45: 29, 1009.79: 29, 1008.91: 29, 1008.74: 29, 1010.66: 29, 1024.52: 29, 1009.46: 29, 1023.18: 29, 1012.89: 29, 1008.26: 29, 1021.04: 29, 1023.75: 29, 1027.9: 29, 1021.98: 29, 1022.79: 29, 1022.62: 29, 1021.92: 29, 1022.66: 29, 1021.67: 29, 1020.76: 29, 1021.12: 29, 1025.02: 29, 1022.03: 29, 1021.52: 29, 1024.43: 29, 1008.77: 29, 1011.62: 29, 1011.48: 29, 1009.77: 29, 1009.89: 29, 1009.66: 29, 1009.58: 29, 1008.94: 28, 1009.56: 28, 1009.23: 28, 1009.42: 28, 1008.93: 28, 1005.9: 28, 1009.54: 28, 1011.13: 28, 1010.13: 28, 1009.59: 28, 1021.31: 28, 1022.85: 28, 1025.59: 28, 1024.65: 28, 1023.22: 28, 1021.56: 28, 1021.94: 28, 1023.95: 28, 1022.12: 28, 1022.72: 28, 1020.75: 28, 1022.35: 28, 1023.15: 28, 1021.91: 28, 1022.89: 28, 1020.64: 28, 1009.22: 28, 1008.33: 28, 1022.28: 28, 1022.86: 28, 1022.54: 28, 1021.89: 28, 1024.48: 28, 1021.24: 28, 1022.55: 28, 1018.94: 28, 1026.6: 28, 1024.71: 28, 1025.31: 28, 1022.78: 28, 1024.18: 28, 1009.74: 28, 1027.6: 28, 1022.11: 28, 1005.8: 28, 1006.2: 28, 1009.83: 27, 1008.76: 27, 1007.86: 27, 1010.67: 27, 1010.09: 27, 1008.32: 27, 1008.62: 27, 1009.32: 27, 1010.97: 27, 1009.87: 27, 1009.18: 27, 1010.15: 27, 1008.88: 27, 1008.19: 27, 1009.51: 27, 1023.08: 27, 1023.19: 27, 1023.42: 27, 1023.07: 27, 1026.5: 27, 1022.52: 27, 1023.39: 27, 1010.34: 27, 1010.81: 27, 1010.04: 27, 1024.81: 27, 1022.13: 27, 1020.58: 27, 1021.23: 27, 1023.53: 27, 1024.53: 27, 1024.32: 27, 1025.36: 27, 1025.04: 27, 1022.25: 27, 1022.56: 27, 1022.06: 27, 1010.73: 27, 1022.91: 27, 1022.61: 27, 1028.1: 27, 1022.41: 27, 1008.72: 27, 1024.74: 27, 1023.79: 27, 1029.4: 27, 1005.1: 26, 1008.07: 26, 1007.73: 26, 1009.61: 26, 1008.99: 26, 1010.28: 26, 1009.78: 26, 1009.21: 26, 1028.11: 26, 1028.6: 26, 1023.23: 26, 1024.87: 26, 1024.92: 26, 1024.15: 26, 1022.67: 26, 1023.12: 26, 1023.66: 26, 1009.17: 26, 1009.82: 26, 1010.58: 26, 1025.73: 26, 1028.0: 26, 1025.81: 26, 1021.29: 26, 1009.09: 26, 1023.29: 26, 1024.98: 26, 1021.97: 26, 1021.46: 26, 1022.23: 26, 1023.61: 26, 1009.71: 26, 1022.05: 26, 1008.97: 26, 1021.34: 26, 1024.08: 26, 1026.4: 26, 1029.1: 26, 1024.09: 26, 1023.92: 26, 1006.4: 26, 1009.26: 25, 1006.34: 25, 1010.33: 25, 1009.86: 25, 1009.57: 25, 1008.84: 25, 1009.34: 25, 1011.06: 25, 1008.65: 25, 1007.57: 25, 1007.32: 25, 1009.29: 25, 1007.92: 25, 1023.59: 25, 1023.52: 25, 1022.97: 25, 1023.85: 25, 1009.08: 25, 1010.74: 25, 1027.43: 25, 1022.39: 25, 1023.74: 25, 1023.48: 25, 1021.26: 25, 1021.33: 25, 1021.65: 25, 1023.78: 25, 1025.63: 25, 1023.67: 25, 1023.05: 25, 1009.05: 25, 1010.17: 25, 1009.16: 25, 1023.11: 25, 1024.61: 25, 1025.37: 25, 1024.14: 25, 1025.01: 25, 1027.35: 25, 1008.08: 25, 1005.2: 24, 1010.56: 24, 1008.73: 24, 1008.38: 24, 1009.24: 24, 1007.77: 24, 1009.88: 24, 1029.6: 24, 1027.0: 24, 1023.65: 24, 1024.79: 24, 1027.8: 24, 1022.98: 24, 1026.23: 24, 1023.28: 24, 1022.29: 24, 1022.77: 24, 1023.68: 24, 1022.84: 24, 1022.46: 24, 1022.75: 24, 1022.64: 24, 1023.44: 24, 1023.73: 24, 1023.81: 24, 1024.25: 24, 1024.93: 24, 1026.13: 24, 1027.1: 24, 1027.01: 24, 1008.52: 24, 1024.58: 24, 1024.29: 24, 1023.04: 24, 1023.09: 24, 1022.53: 24, 1022.24: 24, 1004.5: 24, 1009.27: 24, 1021.38: 24, 1021.66: 24, 1027.7: 24, 1023.25: 24, 1025.92: 24, 1023.89: 24, 1007.97: 24, 1007.63: 24, 1007.91: 24, 1009.73: 24, 1004.2: 24, 1024.49: 24, 1005.0: 24, 1010.93: 23, 1009.96: 23, 1009.07: 23, 1008.47: 23, 1006.05: 23, 1008.21: 23, 1030.3: 23, 1023.51: 23, 1023.91: 23, 1024.46: 23, 1026.29: 23, 1028.3: 23, 1027.91: 23, 1027.11: 23, 1026.89: 23, 1024.85: 23, 1024.22: 23, 1024.13: 23, 1022.76: 23, 1023.76: 23, 1024.64: 23, 1023.46: 23, 1022.15: 23, 1025.35: 23, 1007.44: 23, 1028.7: 23, 1027.51: 23, 1023.21: 23, 1024.06: 23, 1023.99: 23, 1023.33: 23, 1022.96: 23, 1006.41: 23, 1023.72: 23, 1022.59: 23, 1022.22: 23, 1023.84: 23, 1008.92: 23, 1010.55: 23, 1010.62: 23, 1025.91: 23, 1026.12: 23, 1024.91: 23, 1008.56: 23, 1010.44: 23, 1005.3: 23, 1027.2: 23, 1008.36: 22, 1008.11: 22, 1007.89: 22, 1004.3: 22, 1004.1: 22, 1008.46: 22, 1009.14: 22, 1008.43: 22, 1007.17: 22, 1008.75: 22, 1008.79: 22, 1008.12: 22, 1008.67: 22, 1009.68: 22, 1005.04: 22, 1004.4: 22, 1024.55: 22, 1023.96: 22, 1025.72: 22, 1025.25: 22, 1024.88: 22, 1026.52: 22, 1024.11: 22, 1023.37: 22, 1023.02: 22, 1023.86: 22, 1022.73: 22, 1007.35: 22, 1024.67: 22, 1027.79: 22, 1008.98: 22, 1023.34: 22, 1029.9: 22, 1026.02: 22, 1025.65: 22, 1024.54: 22, 1022.83: 22, 1024.21: 22, 1008.49: 22, 1021.85: 22, 1023.45: 22, 1025.83: 22, 1024.38: 22, 1010.59: 22, 1008.29: 22, 1009.13: 22, 1009.94: 22, 1023.49: 22, 1025.12: 22, 1025.43: 22, 1026.62: 22, 1025.42: 22, 1026.82: 22, 1026.77: 22, 1024.82: 22, 1026.49: 22, 1023.58: 22, 1007.61: 22, 1008.41: 22, 1032.2: 22, 1028.02: 22, 1025.61: 22, 1028.4: 22, 1005.4: 22, 1024.69: 22, 1023.06: 22, 1025.99: 22, 1006.73: 21, 1006.95: 21, 1009.62: 21, 1008.39: 21, 1007.71: 21, 1008.16: 21, 1009.28: 21, 1009.31: 21, 1008.64: 21, 1008.22: 21, 1008.58: 21, 1009.11: 21, 1027.73: 21, 1030.0: 21, 1027.48: 21, 1026.61: 21, 1024.07: 21, 1024.35: 21, 1024.24: 21, 1024.31: 21, 1024.57: 21, 1029.5: 21, 1026.85: 21, 1024.42: 21, 1024.33: 21, 1024.44: 21, 1023.38: 21, 1008.27: 21, 1023.47: 21, 1009.65: 21, 1006.78: 21, 1027.02: 21, 1027.41: 21, 1025.24: 21, 1025.32: 21, 1023.71: 21, 1024.45: 21, 1022.93: 21, 1023.26: 21, 1024.28: 21, 1007.49: 21, 1007.68: 21, 1005.88: 21, 1025.52: 21, 1022.87: 21, 1023.97: 21, 1027.19: 21, 1024.75: 21, 1025.55: 21, 1026.8: 21, 1007.02: 21, 1007.84: 21, 1006.29: 21, 1007.45: 21, 1027.3: 21, 1007.08: 21, 1006.67: 21, 1025.5: 21, 1023.17: 21, 1009.15: 21, 1007.01: 20, 1004.8: 20, 1007.98: 20, 1008.87: 20, 1008.82: 20, 1009.03: 20, 1008.85: 20, 1008.35: 20, 1008.02: 20, 1006.71: 20, 1006.15: 20, 1008.59: 20, 1025.05: 20, 1029.52: 20, 1028.67: 20, 1024.66: 20, 1031.9: 20, 1022.38: 20, 1023.82: 20, 1023.55: 20, 1007.58: 20, 1009.67: 20, 1025.62: 20, 1007.21: 20, 1008.31: 20, 1025.07: 20, 1008.34: 20, 1031.7: 20, 1023.14: 20, 1023.35: 20, 1022.43: 20, 1025.48: 20, 1009.48: 20, 1009.85: 20, 1026.71: 20, 1023.41: 20, 1021.86: 20, 1024.78: 20, 1007.09: 20, 1006.18: 20, 1010.31: 20, 1025.08: 20, 1025.98: 20, 1007.42: 20, 1022.14: 20, 1024.47: 20, 1025.75: 20, 1025.33: 20, 1025.14: 20, 1024.72: 20, 1007.65: 20, 1007.34: 20, 1024.19: 20, 1024.86: 20, 1024.37: 20, 1007.24: 20, 1025.41: 20, 1009.84: 20, 1026.51: 20, 1007.37: 19, 1009.76: 19, 1007.16: 19, 1007.66: 19, 1006.87: 19, 1005.59: 19, 1029.0: 19, 1028.01: 19, 1027.22: 19, 1023.03: 19, 1026.68: 19, 1025.93: 19, 1023.57: 19, 1008.63: 19, 1007.22: 19, 1026.22: 19, 1026.43: 19, 1008.48: 19, 1027.95: 19, 1030.2: 19, 1025.82: 19, 1023.31: 19, 1023.88: 19, 1025.57: 19, 1022.44: 19, 1006.36: 19, 1022.63: 19, 1026.32: 19, 1023.24: 19, 1022.51: 19, 1023.87: 19, 1002.9: 19, 1007.56: 19, 1005.71: 19, 1008.78: 19, 1025.89: 19, 1025.76: 19, 1024.03: 19, 1008.13: 19, 1027.61: 19, 1028.9: 19, 1024.84: 19, 1025.11: 19, 1026.28: 19, 1023.69: 19, 1025.44: 19, 1024.51: 19, 1025.21: 19, 1029.89: 19, 1029.41: 19, 1006.92: 19, 1026.94: 19, 1007.47: 19, 1005.72: 19, 1027.29: 19, 1007.26: 18, 1007.28: 18, 1007.39: 18, 1009.04: 18, 1008.95: 18, 1007.62: 18, 1009.37: 18, 1008.06: 18, 1007.81: 18, 1007.52: 18, 1007.29: 18, 1009.02: 18, 1008.44: 18, 1008.42: 18, 1008.45: 18, 1008.96: 18, 1007.51: 18, 1029.7: 18, 1029.3: 18, 1029.55: 18, 1027.24: 18, 1027.36: 18, 1025.29: 18, 1024.73: 18, 1028.2: 18, 1032.7: 18, 1027.32: 18, 1025.38: 18, 1025.15: 18, 1025.79: 18, 1024.05: 18, 1023.16: 18, 1026.73: 18, 1026.01: 18, 1007.94: 18, 1027.08: 18, 1027.92: 18, 1025.22: 18, 1025.28: 18, 1024.36: 18, 1027.44: 18, 1023.98: 18, 1024.17: 18, 1007.79: 18, 1003.5: 18, 1008.23: 18, 1026.58: 18, 1026.9: 18, 1025.58: 18, 1026.91: 18, 1028.29: 18, 1027.68: 18, 1024.77: 18, 1024.95: 18, 1028.38: 18, 1008.51: 18, 1006.68: 18, 1004.97: 18, 1005.76: 18, 1006.0: 18, 1007.54: 18, 1025.03: 18, 1007.48: 18, 1008.68: 18, 1005.86: 18, 1026.76: 18, 1024.99: 18, 1007.07: 17, 1007.18: 17, 1010.05: 17, 1007.74: 17, 1008.66: 17, 1007.95: 17, 1009.49: 17, 1008.53: 17, 1007.96: 17, 1006.61: 17, 1006.24: 17, 1006.27: 17, 1007.33: 17, 1005.23: 17, 1028.31: 17, 1024.34: 17, 1032.4: 17, 1031.3: 17, 1031.8: 17, 1026.03: 17, 1024.63: 17, 1009.06: 17, 1027.09: 17, 1026.17: 17, 1026.42: 17, 1026.39: 17, 1007.53: 17, 1030.16: 17, 1028.52: 17, 1025.39: 17, 1025.46: 17, 1023.56: 17, 1024.56: 17, 1026.74: 17, 1026.33: 17, 1008.81: 17, 1003.6: 17, 1007.19: 17, 1025.69: 17, 1026.59: 17, 1027.33: 17, 1023.43: 17, 1027.64: 17, 1024.96: 17, 1025.54: 17, 1007.43: 17, 1007.59: 17, 1008.28: 17, 1002.3: 17, 1002.4: 17, 1002.1: 17, 1006.66: 17, 1028.21: 17, 1026.81: 17, 1005.43: 17, 1008.15: 16, 1005.97: 16, 1005.64: 16, 1004.0: 16, 1007.55: 16, 1005.49: 16, 1007.04: 16, 1007.03: 16, 1008.03: 16, 1008.18: 16, 1004.94: 16, 1006.44: 16, 1007.72: 16, 1025.47: 16, 1028.53: 16, 1032.3: 16, 1029.01: 16, 1028.39: 16, 1027.72: 16, 1027.67: 16, 1027.26: 16, 1028.78: 16, 1028.79: 16, 1027.69: 16, 1025.19: 16, 1022.94: 16, 1024.23: 16, 1008.37: 16, 1027.38: 16, 1028.48: 16, 1008.69: 16, 1007.83: 16, 1006.07: 16, 1007.31: 16, 1008.01: 16, 1027.55: 16, 1027.81: 16, 1027.63: 16, 1030.6: 16, 1024.39: 16, 1027.05: 16, 1007.99: 16, 1027.31: 16, 1026.21: 16, 1023.63: 16, 1008.54: 16, 1005.28: 16, 1006.54: 16, 1007.88: 16, 1006.42: 16, 1005.33: 16, 1025.78: 16, 1006.76: 16, 1025.56: 16, 1005.56: 16, 1028.03: 16, 1027.96: 16, 1028.8: 16, 1030.1: 16, 1025.26: 16, 1026.98: 16, 1024.94: 16, 1027.12: 16, 1007.93: 16, 1024.83: 16, 1024.59: 16, 1025.17: 16, 1025.09: 16, 1025.13: 16, 1026.15: 16, 1028.72: 16, 1027.42: 16, 1025.16: 16, 1005.93: 16, 1006.64: 16, 1027.45: 16, 1028.28: 16, 1003.1: 16, 1003.8: 16, 1028.04: 16, 1027.18: 16, 1030.5: 16, 1005.99: 16, 1004.61: 15, 1004.85: 15, 1005.14: 15, 1005.48: 15, 1008.57: 15, 1007.41: 15, 1006.16: 15, 1006.32: 15, 1005.36: 15, 1006.97: 15, 1004.12: 15, 1005.32: 15, 1006.43: 15, 1008.09: 15, 1023.94: 15, 1031.4: 15, 1029.02: 15, 1033.6: 15, 1028.81: 15, 1028.13: 15, 1027.82: 15, 1025.27: 15, 1028.51: 15, 1032.9: 15, 1032.1: 15, 1029.29: 15, 1030.33: 15, 1026.11: 15, 1024.02: 15, 1027.71: 15, 1027.58: 15, 1027.49: 15, 1028.22: 15, 1026.31: 15, 1026.19: 15, 1027.17: 15, 1027.87: 15, 1004.83: 15, 1005.16: 15, 1006.52: 15, 1026.27: 15, 1022.95: 15, 1027.85: 15, 1026.47: 15, 1022.01: 15, 1027.23: 15, 1027.13: 15, 1023.93: 15, 1007.12: 15, 1008.25: 15, 1006.69: 15, 1007.75: 15, 1007.06: 15, 1005.41: 15, 1002.5: 15, 1007.69: 15, 1025.66: 15, 1025.45: 15, 1027.77: 15, 1025.53: 15, 1023.36: 15, 1027.53: 15, 1024.89: 15, 1025.64: 15, 1026.93: 15, 1026.75: 15, 1028.62: 15, 1026.63: 15, 1026.35: 15, 1006.89: 15, 1007.76: 15, 1005.46: 15, 1005.87: 15, 1005.55: 15, 1006.77: 15, 1025.74: 15, 1005.91: 15, 1003.9: 15, 1006.51: 15, 1026.79: 15, 1005.96: 15, 1024.97: 15, 1006.12: 15, 1025.86: 15, 1008.61: 15, 1005.29: 15, 1006.49: 15, 1006.09: 14, 1004.23: 14, 1006.56: 14, 1007.67: 14, 1009.44: 14, 1006.86: 14, 1003.22: 14, 1006.79: 14, 1023.54: 14, 1027.03: 14, 1024.12: 14, 1022.99: 14, 1004.87: 14, 1025.34: 14, 1027.15: 14, 1027.39: 14, 1026.44: 14, 1008.05: 14, 1026.48: 14, 1026.57: 14, 1029.76: 14, 1031.33: 14, 1024.68: 14, 1026.86: 14, 1029.91: 14, 1025.77: 14, 1006.98: 14, 1006.38: 14, 1007.15: 14, 1005.53: 14, 1027.98: 14, 1025.97: 14, 1026.66: 14, 1026.41: 14, 1026.18: 14, 1026.09: 14, 1027.74: 14, 1025.51: 14, 1023.77: 14, 1030.04: 14, 1029.19: 14, 1007.23: 14, 1006.33: 14, 1005.15: 14, 1008.04: 14, 1026.56: 14, 1029.31: 14, 1003.55: 14, 1004.6: 14, 1024.26: 14, 1006.93: 14, 1004.79: 14, 1004.78: 14, 1026.37: 14, 1004.74: 14, 1006.91: 14, 1003.65: 14, 1003.99: 14, 1005.63: 13, 1005.83: 13, 1005.05: 13, 1004.89: 13, 1006.47: 13, 1006.83: 13, 1007.38: 13, 1004.59: 13, 1004.95: 13, 1005.62: 13, 1033.4: 13, 1029.58: 13, 1029.79: 13, 1030.31: 13, 1029.69: 13, 1026.38: 13, 1027.37: 13, 1028.5: 13, 1028.68: 13, 1032.5: 13, 1028.69: 13, 1029.67: 13, 1026.67: 13, 1004.82: 13, 1028.47: 13, 1029.18: 13, 1028.59: 13, 1005.69: 13, 1027.78: 13, 1025.87: 13, 1007.82: 13, 1027.75: 13, 1028.17: 13, 1028.05: 13, 1026.95: 13, 1027.34: 13, 1028.23: 13, 1025.23: 13, 1026.83: 13, 1001.6: 13, 998.9: 13, 1006.65: 13, 1006.99: 13, 1005.85: 13, 1006.75: 13, 1006.53: 13, 1005.92: 13, 1004.07: 13, 1026.64: 13, 1025.84: 13, 1005.38: 13, 1028.18: 13, 1027.28: 13, 1029.73: 13, 1027.93: 13, 1028.37: 13, 1026.14: 13, 1026.96: 13, 1007.25: 13, 1004.93: 13, 1006.85: 13, 1002.7: 13, 1005.51: 13, 1007.78: 13, 1024.76: 13, 1006.08: 13, 1006.57: 13, 1005.44: 13, 1005.94: 13, 1005.98: 13, 1028.32: 13, 1006.23: 13, 1005.07: 13, 1023.27: 13, 1007.05: 13, 1004.98: 13, 1006.17: 13, 1032.01: 13, 1029.38: 13, 1028.09: 13, 1003.03: 13, 1032.78: 13, 1001.9: 13, 1034.3: 13, 1034.6: 13, 1006.26: 12, 1005.77: 12, 1005.65: 12, 1008.14: 12, 1007.64: 12, 1005.68: 12, 1005.02: 12, 1002.6: 12, 1004.91: 12, 1004.34: 12, 1005.35: 12, 1006.03: 12, 1029.48: 12, 1029.23: 12, 1031.71: 12, 1030.7: 12, 1032.49: 12, 1032.6: 12, 1034.2: 12, 1026.45: 12, 1000.7: 12, 1003.16: 12, 1027.52: 12, 1006.84: 12, 1006.13: 12, 1028.12: 12, 1028.61: 12, 1027.62: 12, 1031.58: 12, 1028.33: 12, 1025.96: 12, 1033.7: 12, 1022.92: 12, 1006.19: 12, 1006.11: 12, 1005.67: 12, 1003.38: 12, 1006.28: 12, 1006.02: 12, 1002.87: 12, 1005.03: 12, 1000.1: 12, 1025.68: 12, 1026.97: 12, 1027.59: 12, 1025.95: 12, 1027.89: 12, 1028.35: 12, 1028.91: 12, 1027.66: 12, 1026.36: 12, 1024.04: 12, 1025.85: 12, 1026.72: 12, 1033.8: 12, 1034.1: 12, 1032.08: 12, 1004.7: 12, 1029.88: 12, 1027.86: 12, 1032.8: 12, 1026.78: 12, 1006.45: 12, 1028.06: 12, 1003.7: 12, 1004.67: 12, 1006.62: 12, 1005.01: 12, 1005.54: 12, 1006.96: 12, 1026.16: 12, 1027.47: 12, 1005.13: 12, 1006.46: 12, 1028.25: 12, 1026.05: 12, 1006.22: 12, 1005.25: 12, 1006.06: 12, 1006.63: 12, 999.0: 12, 1001.0: 12, 1030.4: 12, 1004.57: 12, 1004.99: 11, 1004.18: 11, 1004.47: 11, 1005.89: 11, 1006.37: 11, 1008.17: 11, 1004.72: 11, 1005.79: 11, 1002.35: 11, 1003.02: 11, 1004.09: 11, 1026.34: 11, 1029.21: 11, 1032.0: 11, 1029.84: 11, 1029.53: 11, 1030.78: 11, 1028.63: 11, 1028.88: 11, 1028.83: 11, 1030.9: 11, 1036.18: 11, 1036.78: 11, 1029.65: 11, 1027.21: 11, 1025.94: 11, 1030.28: 11, 1028.89: 11, 1028.92: 11, 1029.51: 11, 1029.39: 11, 1032.07: 11, 1032.15: 11, 1035.1: 11, 1028.55: 11, 1027.06: 11, 1026.99: 11, 1027.97: 11, 1005.66: 11, 999.7: 11, 1028.07: 11, 1028.27: 11, 1027.14: 11, 1006.72: 11, 1032.73: 11, 1028.99: 11, 1006.81: 11, 1004.88: 11, 1031.5: 11, 1027.54: 11, 1029.68: 11, 1007.13: 11, 1005.74: 11, 1001.62: 11, 1002.04: 11, 1003.0: 11, 1007.27: 11, 1005.47: 11, 1003.81: 11, 1004.76: 11, 1005.17: 11, 1027.56: 11, 1003.18: 11, 1025.67: 11, 1026.92: 11, 1029.22: 11, 1029.12: 11, 1026.54: 11, 1030.18: 11, 1005.24: 11, 1026.55: 11, 1029.66: 11, 1006.88: 11, 1005.95: 11, 1003.97: 11, 1029.72: 11, 1006.94: 11, 1005.73: 11, 1025.06: 11, 1005.82: 11, 1002.79: 11, 1006.25: 11, 1004.86: 11, 1003.84: 11, 1006.48: 11, 1031.81: 11, 1027.99: 11, 1004.49: 11, 1026.87: 11, 1027.16: 11, 1027.46: 11, 1026.08: 11, 1002.96: 11, 1029.34: 11, 1029.32: 11, 1033.1: 11, 999.9: 11, 1002.8: 11, 999.2: 11, 999.6: 11, 1004.84: 11, 1004.96: 10, 1005.45: 10, 1003.74: 10, 1004.13: 10, 1005.11: 10, 1005.78: 10, 1033.2: 10, 1033.09: 10, 1033.3: 10, 1029.81: 10, 1029.43: 10, 1028.84: 10, 1030.25: 10, 1031.23: 10, 1032.88: 10, 1029.92: 10, 1034.7: 10, 1028.86: 10, 1028.41: 10, 1031.32: 10, 1038.1: 10, 1003.82: 10, 1026.84: 10, 1005.26: 10, 1026.07: 10, 1029.09: 10, 1030.47: 10, 1031.34: 10, 1032.28: 10, 1030.13: 10, 1029.03: 10, 1027.65: 10, 1002.62: 10, 1003.56: 10, 1002.69: 10, 1006.14: 10, 1004.43: 10, 1026.06: 10, 1028.34: 10, 1028.44: 10, 1029.98: 10, 1036.1: 10, 1027.07: 10, 1026.88: 10, 1029.11: 10, 1029.42: 10, 1028.75: 10, 1028.24: 10, 1029.33: 10, 1028.74: 10, 1003.67: 10, 1029.59: 10, 1029.86: 10, 1026.24: 10, 1027.25: 10, 1006.21: 10, 1003.85: 10, 1005.42: 10, 1005.09: 10, 1002.85: 10, 1028.85: 10, 1003.12: 10, 1006.35: 10, 1001.73: 10, 1005.81: 10, 1026.25: 10, 1003.92: 10, 1005.12: 10, 1003.73: 10, 1002.83: 10, 1005.75: 10, 1002.01: 10, 1029.71: 10, 1027.94: 10, 1027.27: 10, 1004.63: 10, 1004.41: 10, 1008.24: 10, 1007.11: 10, 1002.0: 10, 999.1: 10, 1036.08: 10, 1006.39: 10, 1001.3: 10, 1030.38: 10, 1029.62: 10, 999.5: 10, 1000.3: 10, 1006.74: 10, 1007.46: 10, 1034.0: 10, 1007.36: 9, 1004.39: 9, 1008.55: 9, 1001.94: 9, 1004.14: 9, 1004.35: 9, 1004.15: 9, 1004.81: 9, 1036.2: 9, 1030.15: 9, 1030.02: 9, 1029.78: 9, 1029.75: 9, 1031.08: 9, 1032.61: 9, 1032.23: 9, 1030.14: 9, 1030.06: 9, 1030.11: 9, 1033.81: 9, 1031.79: 9, 1031.21: 9, 1030.03: 9, 1030.51: 9, 1031.2: 9, 1032.21: 9, 1038.01: 9, 1035.3: 9, 1029.08: 9, 1037.29: 9, 1000.5: 9, 1000.07: 9, 1005.27: 9, 1032.48: 9, 1031.69: 9, 1033.01: 9, 1031.91: 9, 1031.0: 9, 1030.91: 9, 1005.52: 9, 1025.49: 9, 1027.04: 9, 1026.46: 9, 1030.96: 9, 1029.14: 9, 1031.22: 9, 1032.68: 9, 1030.8: 9, 1029.77: 9, 1027.84: 9, 1005.39: 9, 1003.13: 9, 1004.75: 9, 1002.53: 9, 1003.4: 9, 1004.53: 9, 1031.54: 9, 1028.57: 9, 1005.61: 9, 1029.28: 9, 1028.58: 9, 1026.04: 9, 1028.43: 9, 1028.93: 9, 1029.83: 9, 1029.17: 9, 1005.84: 9, 1004.38: 9, 1005.37: 9, 1005.08: 9, 1002.51: 9, 1003.34: 9, 1029.56: 9, 1029.97: 9, 1031.62: 9, 1032.37: 9, 1031.68: 9, 999.55: 9, 1029.99: 9, 1029.85: 9, 1030.05: 9, 1030.29: 9, 1028.36: 9, 1030.37: 9, 1006.82: 9, 1004.55: 9, 1027.57: 9, 1033.59: 9, 1025.88: 9, 999.4: 9, 1003.06: 9, 1003.27: 9, 1004.92: 9, 1030.17: 9, 1003.79: 9, 1004.36: 9, 1001.8: 9, 1006.55: 9, 1002.65: 9, 1003.45: 9, 1006.04: 9, 1003.37: 9, 1003.2: 9, 1003.08: 9, 1003.31: 9, 1002.91: 9, 1001.32: 9, 1034.5: 9, 1028.14: 9, 1030.88: 9, 1029.93: 9, 1030.41: 9, 999.3: 9, 1000.8: 9, 1029.26: 9, 1029.94: 9, 1003.49: 9, 1030.19: 9, 1029.64: 9, 1006.59: 8, 1004.65: 8, 1003.68: 8, 1003.57: 8, 1004.52: 8, 1005.19: 8, 1002.46: 8, 1004.25: 8, 1037.93: 8, 1037.1: 8, 1035.9: 8, 1030.79: 8, 1033.39: 8, 1029.61: 8, 1029.44: 8, 1034.78: 8, 1036.9: 8, 1037.68: 8, 1036.5: 8, 1036.79: 8, 1028.46: 8, 1032.81: 8, 1032.51: 8, 1031.59: 8, 1032.42: 8, 1032.32: 8, 1032.33: 8, 1032.25: 8, 1035.33: 8, 1036.8: 8, 1035.4: 8, 1032.82: 8, 1030.64: 8, 1026.53: 8, 1035.78: 8, 1004.05: 8, 1002.32: 8, 1006.01: 8, 1033.05: 8, 1031.93: 8, 1031.97: 8, 1033.55: 8, 1034.8: 8, 1036.45: 8, 1037.55: 8, 1036.84: 8, 1035.91: 8, 1004.62: 8, 1028.96: 8, 1031.31: 8, 1031.51: 8, 1031.89: 8, 1031.53: 8, 1030.07: 8, 1027.83: 8, 1028.56: 8, 1030.43: 8, 1005.58: 8, 1004.11: 8, 1002.86: 8, 1002.29: 8, 1005.34: 8, 1002.33: 8, 1033.14: 8, 1030.21: 8, 1004.02: 8, 1028.64: 8, 1029.04: 8, 1033.83: 8, 1029.74: 8, 1030.24: 8, 1028.16: 8, 1029.24: 8, 1028.97: 8, 1024.27: 8, 1029.47: 8, 1001.05: 8, 1004.42: 8, 1028.45: 8, 1029.45: 8, 1030.01: 8, 1030.93: 8, 1031.19: 8, 1034.68: 8, 1031.52: 8, 1031.87: 8, 1000.69: 8, 1028.94: 8, 999.49: 8, 1030.53: 8, 1030.36: 8, 1002.09: 8, 1005.22: 8, 1003.76: 8, 1002.21: 8, 1003.71: 8, 1004.37: 8, 1002.94: 8, 1004.56: 8, 1002.52: 8, 1003.44: 8, 1002.22: 8, 1028.71: 8, 1003.66: 8, 1002.89: 8, 1003.72: 8, 1004.01: 8, 1031.78: 8, 1004.73: 8, 1002.49: 8, 1030.27: 8, 1004.45: 8, 1002.45: 8, 998.1: 8, 1002.72: 8, 992.2: 8, 1001.7: 8, 1002.25: 8, 1001.82: 8, 1006.31: 8, 1004.08: 7, 1003.96: 7, 1004.26: 7, 1003.93: 7, 1005.57: 7, 1006.58: 7, 1003.95: 7, 1035.6: 7, 1035.49: 7, 1035.22: 7, 1033.41: 7, 1033.21: 7, 1031.42: 7, 1030.86: 7, 1035.41: 7, 1031.56: 7, 1031.41: 7, 1032.22: 7, 1033.29: 7, 1034.08: 7, 1033.5: 7, 1035.8: 7, 1035.31: 7, 1034.72: 7, 1032.36: 7, 1029.13: 7, 1031.65: 7, 1033.82: 7, 1034.77: 7, 1000.31: 7, 999.77: 7, 1000.16: 7, 1000.9: 7, 1001.2: 7, 1029.06: 7, 1028.77: 7, 1004.66: 7, 1004.69: 7, 1033.03: 7, 1032.94: 7, 1031.49: 7, 1033.52: 7, 1036.04: 7, 1030.42: 7, 1026.69: 7, 1033.33: 7, 1028.76: 7, 1031.04: 7, 1031.11: 7, 1032.05: 7, 1031.36: 7, 1031.44: 7, 1031.73: 7, 1032.58: 7, 1032.47: 7, 1031.09: 7, 1031.03: 7, 1031.82: 7, 1035.7: 7, 1003.47: 7, 998.15: 7, 1000.04: 7, 1001.99: 7, 1003.94: 7, 1004.19: 7, 1002.12: 7, 1029.95: 7, 1003.54: 7, 1002.99: 7, 1029.49: 7, 1028.42: 7, 1030.08: 7, 1028.15: 7, 1028.73: 7, 1030.23: 7, 1028.66: 7, 1024.16: 7, 1026.65: 7, 1030.09: 7, 1004.51: 7, 1000.93: 7, 1031.28: 7, 1038.4: 7, 1035.0: 7, 1034.21: 7, 1033.28: 7, 1032.89: 7, 1031.39: 7, 1031.18: 7, 1003.88: 7, 1003.91: 7, 1027.76: 7, 1003.23: 7, 1003.69: 7, 1001.42: 7, 1030.49: 7, 1030.77: 7, 1002.05: 7, 1003.63: 7, 998.5: 7, 1003.11: 7, 1028.19: 7, 1027.88: 7, 1003.52: 7, 1003.78: 7, 1004.46: 7, 1003.09: 7, 1003.35: 7, 1002.56: 7, 1003.01: 7, 1032.97: 7, 1034.28: 7, 1001.1: 7, 1033.99: 7, 1031.72: 7, 1033.77: 7, 1032.76: 7, 1028.26: 7, 1029.57: 7, 1035.98: 7, 1033.9: 7, 1028.87: 7, 1003.77: 7, 1003.32: 7, 1004.33: 7, 1004.03: 7, 1030.22: 7, 1030.48: 7, 998.4: 7, 1002.63: 7, 1001.57: 7, 997.7: 7, 998.6: 7, 1003.26: 7, 1000.4: 7, 1000.2: 7, 1002.76: 7, 1002.07: 7, 1029.54: 7, 998.69: 7, 1033.98: 7, 1002.18: 7, 1003.86: 6, 1004.29: 6, 1000.81: 6, 1003.36: 6, 1003.89: 6, 1004.22: 6, 1034.84: 6, 1035.71: 6, 1033.18: 6, 1033.42: 6, 1033.32: 6, 1032.93: 6, 1031.02: 6, 1030.57: 6, 1031.47: 6, 1031.98: 6, 1033.66: 6, 1036.19: 6, 1036.66: 6, 1037.5: 6, 1037.44: 6, 1035.37: 6, 1032.14: 6, 1032.62: 6, 1032.13: 6, 1031.16: 6, 1029.82: 6, 1032.84: 6, 1033.11: 6, 1036.94: 6, 1038.87: 6, 1034.71: 6, 1032.24: 6, 1031.85: 6, 1031.05: 6, 1032.85: 6, 1034.19: 6, 1033.61: 6, 1033.57: 6, 1031.61: 6, 1036.25: 6, 1036.43: 6, 1037.02: 6, 1037.46: 6, 1037.3: 6, 1035.89: 6, 1036.67: 6, 1036.48: 6, 1001.81: 6, 998.29: 6, 1032.74: 6, 1033.65: 6, 1033.06: 6, 1032.96: 6, 1033.62: 6, 1037.26: 6, 1036.06: 6, 1035.34: 6, 1033.93: 6, 1033.37: 6, 1032.92: 6, 1034.18: 6, 1030.35: 6, 1031.86: 6, 1032.26: 6, 1032.16: 6, 1032.19: 6, 1032.17: 6, 1030.99: 6, 1030.83: 6, 1028.65: 6, 1033.96: 6, 1035.65: 6, 999.81: 6, 1000.26: 6, 1000.94: 6, 1002.81: 6, 1002.03: 6, 1004.24: 6, 998.23: 6, 1001.45: 6, 1003.51: 6, 1031.29: 6, 1004.68: 6, 1001.48: 6, 1000.33: 6, 1000.83: 6, 1001.71: 6, 1026.26: 6, 1038.07: 6, 1038.05: 6, 1029.37: 6, 1001.21: 6, 1030.95: 6, 1029.87: 6, 1029.36: 6, 1031.35: 6, 1031.45: 6, 1037.57: 6, 1038.57: 6, 1037.7: 6, 1034.97: 6, 1032.77: 6, 1031.66: 6, 1032.18: 6, 1031.48: 6, 1033.07: 6, 1034.07: 6, 1004.54: 6, 1000.51: 6, 1002.97: 6, 1002.38: 6, 999.07: 6, 1029.27: 6, 1030.44: 6, 1005.21: 6, 1004.44: 6, 1032.56: 6, 1031.63: 6, 1032.27: 6, 1033.27: 6, 1032.39: 6, 1032.59: 6, 1028.98: 6, 1001.96: 6, 1002.78: 6, 1005.18: 6, 1003.25: 6, 1031.84: 6, 1001.4: 6, 1002.2: 6, 1028.08: 6, 1003.3: 6, 1003.14: 6, 1003.61: 6, 1003.83: 6, 1002.55: 6, 1003.28: 6, 1004.58: 6, 1004.17: 6, 1002.61: 6, 1002.77: 6, 1001.36: 6, 1001.22: 6, 1036.09: 6, 1037.31: 6, 1002.06: 6, 1001.09: 6, 1001.59: 6, 1035.5: 6, 1034.4: 6, 1030.32: 6, 1036.42: 6, 1037.61: 6, 1030.61: 6, 1030.45: 6, 1030.52: 6, 1032.57: 6, 1003.15: 6, 1004.48: 6, 1001.76: 6, 1002.47: 6, 1001.72: 6, 1029.07: 6, 1030.98: 6, 1030.69: 6, 1001.5: 6, 1004.21: 6, 998.8: 6, 992.1: 6, 1037.2: 6, 993.6: 6, 1002.67: 6, 1037.0: 6, 997.8: 6, 1003.41: 6, 998.46: 6, 998.09: 6, 1000.71: 6, 1003.05: 6, 1036.74: 6, 1001.38: 6, 1001.11: 6, 1028.49: 6, 1000.74: 6, 997.88: 6, 1030.58: 6, 1029.63: 6, 1030.73: 6, 1031.6: 6, 1003.04: 5, 1002.68: 5, 1004.31: 5, 1037.47: 5, 1035.69: 5, 1035.61: 5, 1029.15: 5, 1034.23: 5, 1036.02: 5, 1036.39: 5, 1036.11: 5, 1037.09: 5, 1036.54: 5, 1036.89: 5, 1036.51: 5, 1032.41: 5, 1032.45: 5, 1032.83: 5, 1036.64: 5, 1038.53: 5, 1036.01: 5, 1034.26: 5, 1033.73: 5, 1031.94: 5, 1031.43: 5, 1030.81: 5, 1033.91: 5, 1034.52: 5, 1034.67: 5, 1037.78: 5, 1038.17: 5, 1039.32: 5, 1038.96: 5, 1037.86: 5, 1038.36: 5, 1035.19: 5, 1032.29: 5, 1029.25: 5, 1030.75: 5, 1033.95: 5, 1037.8: 5, 999.53: 5, 1000.01: 5, 1033.13: 5, 1033.04: 5, 1032.65: 5, 1032.34: 5, 1036.49: 5, 1037.35: 5, 1037.27: 5, 1038.16: 5, 1038.24: 5, 1036.86: 5, 1036.37: 5, 1036.26: 5, 1037.34: 5, 1034.65: 5, 1037.38: 5, 1030.74: 5, 1030.82: 5, 1030.92: 5, 1031.12: 5, 1031.06: 5, 1031.64: 5, 1030.84: 5, 1030.26: 5, 1031.25: 5, 1031.96: 5, 1031.88: 5, 1031.76: 5, 1035.96: 5, 1035.86: 5, 1035.63: 5, 1033.84: 5, 1033.58: 5, 1033.47: 5, 1002.54: 5, 1000.86: 5, 999.06: 5, 998.98: 5, 1003.58: 5, 1001.98: 5, 999.67: 5, 996.9: 5, 997.4: 5, 1001.95: 5, 1033.31: 5, 1001.89: 5, 1000.87: 5, 1000.14: 5, 1000.23: 5, 1000.13: 5, 1001.86: 5, 1034.22: 5, 1030.71: 5, 1030.97: 5, 1028.82: 5, 1000.72: 5, 1001.85: 5, 1002.48: 5, 1031.17: 5, 1032.64: 5, 1038.46: 5, 1032.53: 5, 1031.67: 5, 1031.57: 5, 1031.38: 5, 1036.85: 5, 1034.24: 5, 1000.48: 5, 1029.96: 5, 998.58: 5, 1001.25: 5, 1004.77: 5, 1001.65: 5, 1003.59: 5, 1002.42: 5, 994.7: 5, 997.64: 5, 1003.53: 5, 999.78: 5, 994.56: 5, 993.2: 5, 1000.68: 5, 1001.92: 5, 1000.62: 5, 1000.11: 5, 999.89: 5, 995.12: 5, 1001.66: 5, 1028.95: 5, 1003.29: 5, 1003.62: 5, 1002.57: 5, 1001.44: 5, 1001.33: 5, 1001.69: 5, 1002.92: 5, 1001.79: 5, 1002.95: 5, 1000.08: 5, 1003.19: 5, 999.76: 5, 1036.23: 5, 1036.34: 5, 1037.52: 5, 1032.35: 5, 1000.39: 5, 1038.08: 5, 1032.69: 5, 1031.14: 5, 1036.12: 5, 1036.27: 5, 1035.88: 5, 1032.98: 5, 1033.53: 5, 1032.75: 5, 1002.28: 5, 998.0: 5, 999.12: 5, 1029.05: 5, 997.01: 5, 997.77: 5, 1031.1: 5, 1032.63: 5, 1033.23: 5, 1031.92: 5, 997.54: 5, 997.3: 5, 997.2: 5, 997.6: 5, 1002.43: 5, 989.1: 5, 995.91: 5, 997.58: 5, 997.84: 5, 1001.19: 5, 1001.03: 5, 999.74: 5, 1030.59: 5, 997.89: 5, 999.23: 5, 1002.23: 5, 1031.01: 5, 1034.88: 5, 1002.66: 5, 1030.76: 5, 997.97: 5, 1035.72: 5, 1030.63: 5, 1002.34: 5, 1033.15: 5, 1033.69: 5, 1004.71: 5, 1033.89: 5, 1036.0: 5, 999.28: 5, 993.96: 5, 1034.29: 5, 1039.13: 5, 999.95: 5, 1004.04: 4, 1003.33: 4, 1002.93: 4, 1001.41: 4, 1037.36: 4, 1037.71: 4, 1035.18: 4, 1033.43: 4, 1033.92: 4, 1034.57: 4, 1034.92: 4, 1037.04: 4, 1036.31: 4, 1036.61: 4, 1036.96: 4, 1036.58: 4, 1035.04: 4, 1032.54: 4, 1033.72: 4, 1036.82: 4, 1041.19: 4, 1041.44: 4, 1041.13: 4, 1041.9: 4, 1041.51: 4, 1041.1: 4, 1040.95: 4, 1041.15: 4, 1039.01: 4, 1038.56: 4, 1038.66: 4, 1037.41: 4, 1036.93: 4, 1035.28: 4, 1034.86: 4, 1032.95: 4, 1032.44: 4, 1033.49: 4, 1032.52: 4, 1034.12: 4, 1035.83: 4, 1037.28: 4, 1038.68: 4, 1036.38: 4, 1037.98: 4, 1036.92: 4, 1039.57: 4, 1038.76: 4, 1037.9: 4, 1035.66: 4, 1035.26: 4, 1032.87: 4, 1032.91: 4, 1033.34: 4, 1035.73: 4, 1036.68: 4, 1037.94: 4, 1037.66: 4, 1036.3: 4, 1035.32: 4, 1035.75: 4, 1035.01: 4, 999.24: 4, 999.36: 4, 1000.91: 4, 1000.44: 4, 998.95: 4, 1033.17: 4, 1032.55: 4, 1033.36: 4, 1032.38: 4, 1032.03: 4, 1033.02: 4, 1038.27: 4, 1038.51: 4, 1037.84: 4, 1037.45: 4, 1037.03: 4, 1037.63: 4, 1037.96: 4, 1037.54: 4, 1037.69: 4, 1035.23: 4, 1029.35: 4, 1036.59: 4, 1039.25: 4, 1039.35: 4, 1030.55: 4, 1030.85: 4, 1031.15: 4, 1030.89: 4, 1031.27: 4, 1035.84: 4, 1036.17: 4, 1035.64: 4, 999.57: 4, 1001.12: 4, 1001.29: 4, 1000.28: 4, 999.84: 4, 999.64: 4, 996.24: 4, 996.73: 4, 997.96: 4, 998.07: 4, 998.22: 4, 997.55: 4, 999.72: 4, 1030.65: 4, 1032.06: 4, 1031.13: 4, 1030.54: 4, 1002.37: 4, 1000.38: 4, 1035.52: 4, 1036.41: 4, 1036.99: 4, 1029.16: 4, 1003.64: 4, 1038.86: 4, 1037.51: 4, 1039.0: 4, 1038.61: 4, 1038.39: 4, 1038.82: 4, 1038.59: 4, 1041.07: 4, 1038.2: 4, 1034.46: 4, 1032.31: 4, 1031.46: 4, 1034.39: 4, 1036.73: 4, 1002.27: 4, 1001.15: 4, 1004.06: 4, 999.31: 4, 999.82: 4, 1032.71: 4, 1032.46: 4, 999.56: 4, 1000.12: 4, 996.23: 4, 996.3: 4, 996.7: 4, 1002.31: 4, 1031.37: 4, 992.5: 4, 992.03: 4, 992.0: 4, 991.51: 4, 991.6: 4, 992.8: 4, 999.43: 4, 1003.07: 4, 1001.23: 4, 1000.47: 4, 999.41: 4, 995.15: 4, 995.3: 4, 995.54: 4, 997.31: 4, 998.55: 4, 1000.75: 4, 1002.26: 4, 1003.39: 4, 1001.91: 4, 1001.06: 4, 1003.98: 4, 1002.13: 4, 1002.82: 4, 1005.31: 4, 999.86: 4, 1002.17: 4, 1003.24: 4, 1001.83: 4, 1001.61: 4, 1003.48: 4, 1036.98: 4, 1035.79: 4, 1035.97: 4, 1036.16: 4, 1035.13: 4, 1035.85: 4, 1035.74: 4, 1035.59: 4, 1036.62: 4, 1038.55: 4, 998.77: 4, 1036.97: 4, 1039.23: 4, 1033.85: 4, 1033.35: 4, 1028.54: 4, 1036.6: 4, 1035.2: 4, 1035.93: 4, 1035.87: 4, 1037.08: 4, 1030.39: 4, 1007.14: 4, 1003.21: 4, 1001.77: 4, 1001.46: 4, 1001.64: 4, 1001.87: 4, 997.03: 4, 992.15: 4, 997.22: 4, 995.19: 4, 1032.86: 4, 1030.94: 4, 1030.87: 4, 1030.68: 4, 1002.75: 4, 1001.55: 4, 1001.93: 4, 1032.79: 4, 1034.17: 4, 1002.19: 4, 998.85: 4, 1000.0: 4, 1001.52: 4, 993.5: 4, 994.5: 4, 1001.63: 4, 1040.9: 4, 1031.77: 4, 998.82: 4, 990.9: 4, 1034.47: 4, 994.3: 4, 998.41: 4, 1000.05: 4, 1002.73: 4, 999.48: 4, 1001.07: 4, 997.67: 4, 1001.56: 4, 995.66: 4, 1000.55: 4, 1001.34: 4, 1001.35: 4, 1000.92: 4, 1036.71: 4, 1035.68: 4, 1035.99: 4, 998.26: 4, 999.13: 4, 1000.78: 4, 1002.15: 4, 998.92: 4, 998.36: 4, 998.94: 4, 998.78: 4, 998.43: 4, 1036.88: 4, 1001.75: 4, 1034.42: 4, 1034.01: 4, 1034.15: 4, 1035.48: 4, 1034.11: 4, 1035.51: 4, 1033.24: 4, 1034.41: 4, 1004.27: 4, 1034.81: 4, 1034.32: 4, 1000.77: 4, 1000.03: 4, 1002.64: 4, 1001.78: 4, 1033.44: 4, 1035.09: 4, 1034.48: 4, 1034.59: 4, 1036.32: 4, 1001.18: 4, 998.01: 4, 1030.46: 4, 1002.16: 4, 1036.07: 4, 1004.32: 3, 1037.85: 3, 1037.23: 3, 1037.82: 3, 1036.65: 3, 1035.53: 3, 1033.54: 3, 1035.39: 3, 1036.29: 3, 1036.28: 3, 1036.81: 3, 1035.35: 3, 1035.21: 3, 1033.26: 3, 1032.43: 3, 1031.26: 3, 1032.99: 3, 1039.69: 3, 1034.38: 3, 1035.94: 3, 1038.13: 3, 1041.05: 3, 1040.92: 3, 1041.54: 3, 1041.7: 3, 1038.97: 3, 1036.24: 3, 1038.92: 3, 1038.04: 3, 1039.82: 3, 1038.19: 3, 1038.03: 3, 1037.81: 3, 1035.36: 3, 1034.05: 3, 1034.62: 3, 1037.21: 3, 1038.67: 3, 1039.44: 3, 1039.36: 3, 1037.92: 3, 1037.79: 3, 1035.56: 3, 1035.42: 3, 1035.95: 3, 999.04: 3, 998.86: 3, 999.09: 3, 1001.27: 3, 1032.04: 3, 1032.02: 3, 1036.52: 3, 1034.16: 3, 1034.93: 3, 1037.15: 3, 1037.77: 3, 1037.05: 3, 1037.32: 3, 1037.06: 3, 1034.83: 3, 1033.74: 3, 1032.11: 3, 1032.72: 3, 1038.25: 3, 1039.49: 3, 1041.37: 3, 1039.18: 3, 1038.35: 3, 1037.73: 3, 1035.62: 3, 1034.61: 3, 1030.67: 3, 1031.95: 3, 1031.24: 3, 1035.67: 3, 1033.86: 3, 1034.14: 3, 1035.76: 3, 1033.64: 3, 998.76: 3, 1002.88: 3, 1000.88: 3, 1001.54: 3, 999.98: 3, 999.85: 3, 997.92: 3, 996.92: 3, 997.05: 3, 1000.43: 3, 1000.54: 3, 1001.37: 3, 1001.88: 3, 1001.43: 3, 1037.72: 3, 1000.65: 3, 1000.66: 3, 1003.87: 3, 1036.7: 3, 1038.75: 3, 1038.98: 3, 1038.49: 3, 1039.08: 3, 1038.7: 3, 1037.48: 3, 1038.31: 3, 1038.33: 3, 1039.98: 3, 1039.97: 3, 1040.73: 3, 1040.87: 3, 1040.25: 3, 1039.39: 3, 1039.34: 3, 1038.29: 3, 1038.48: 3, 1034.35: 3, 1034.37: 3, 1034.09: 3, 1033.08: 3, 1031.07: 3, 1033.87: 3, 1035.07: 3, 1040.04: 3, 1041.14: 3, 1037.83: 3, 1032.67: 3, 1001.39: 3, 999.61: 3, 999.26: 3, 999.68: 3, 1000.27: 3, 1000.76: 3, 996.41: 3, 997.48: 3, 1002.24: 3, 1001.74: 3, 1032.09: 3, 999.25: 3, 998.45: 3, 996.6: 3, 996.21: 3, 991.96: 3, 992.18: 3, 992.24: 3, 993.53: 3, 995.53: 3, 998.51: 3, 999.66: 3, 1000.99: 3, 998.71: 3, 994.69: 3, 996.28: 3, 1003.42: 3, 996.78: 3, 999.59: 3, 998.59: 3, 997.78: 3, 997.24: 3, 995.26: 3, 995.36: 3, 999.58: 3, 1002.44: 3, 1003.17: 3, 1000.53: 3, 1002.74: 3, 1005.06: 3, 1029.46: 3, 1033.38: 3, 1034.98: 3, 1035.57: 3, 1035.38: 3, 1036.15: 3, 1038.42: 3, 1038.23: 3, 1030.62: 3, 1036.75: 3, 1037.87: 3, 1037.6: 3, 1038.8: 3, 1039.33: 3, 1033.0: 3, 1039.9: 3, 1037.88: 3, 1037.25: 3, 1033.56: 3, 1035.02: 3, 1035.29: 3, 1034.04: 3, 1036.91: 3, 1034.25: 3, 1031.75: 3, 1033.19: 3, 1001.14: 3, 1002.02: 3, 1003.46: 3, 1001.01: 3, 995.1: 3, 993.4: 3, 991.45: 3, 994.85: 3, 995.84: 3, 994.39: 3, 994.75: 3, 992.63: 3, 996.55: 3, 1000.49: 3, 994.99: 3, 991.62: 3, 992.85: 3, 995.41: 3, 996.64: 3, 999.73: 3, 1001.02: 3, 1000.41: 3, 997.0: 3, 999.8: 3, 996.2: 3, 997.5: 3, 997.12: 3, 999.62: 3, 995.0: 3, 991.8: 3, 995.6: 3, 1000.6: 3, 1034.58: 3, 1034.9: 3, 1038.72: 3, 1039.2: 3, 1041.0: 3, 998.3: 3, 992.7: 3, 990.8: 3, 989.4: 3, 1000.59: 3, 999.18: 3, 1034.54: 3, 996.1: 3, 999.33: 3, 991.52: 3, 1003.43: 3, 1002.41: 3, 1001.24: 3, 997.47: 3, 999.38: 3, 999.91: 3, 993.61: 3, 994.61: 3, 996.22: 3, 1000.22: 3, 999.75: 3, 1001.53: 3, 1033.16: 3, 1034.55: 3, 1036.77: 3, 1035.27: 3, 1002.71: 3, 1000.37: 3, 998.67: 3, 997.99: 3, 993.63: 3, 995.93: 3, 999.93: 3, 1000.56: 3, 1000.57: 3, 1000.24: 3, 998.65: 3, 998.37: 3, 999.69: 3, 1003.75: 3, 999.99: 3, 1004.16: 3, 997.35: 3, 998.68: 3, 997.91: 3, 998.61: 3, 996.49: 3, 999.63: 3, 998.93: 3, 999.15: 3, 1031.55: 3, 995.18: 3, 1036.21: 3, 1036.4: 3, 1039.41: 3, 1002.58: 3, 1000.02: 3, 998.89: 3, 1035.12: 3, 1034.99: 3, 1031.74: 3, 1033.79: 3, 1035.77: 3, 1033.88: 3, 1037.18: 3, 996.19: 3, 998.7: 3, 997.9: 3, 999.16: 3, 998.57: 3, 1033.67: 3, 1034.74: 3, 992.74: 3, 997.45: 3, 999.65: 3, 1002.11: 3, 1035.03: 3, 1033.97: 3, 999.79: 3, 1000.17: 3, 1004.64: 3, 998.33: 3, 996.17: 3, 1001.17: 3, 998.05: 3, 1034.02: 3, 1034.13: 3, 1036.03: 3, 1039.53: 3, 996.16: 3, 1038.06: 2, 1037.67: 2, 1036.63: 2, 1034.34: 2, 1036.13: 2, 1039.03: 2, 1039.54: 2, 1040.03: 2, 1040.35: 2, 1040.54: 2, 1040.76: 2, 1041.35: 2, 1041.46: 2, 1041.55: 2, 1041.84: 2, 1041.34: 2, 1041.42: 2, 1041.59: 2, 1041.49: 2, 1042.2: 2, 1042.31: 2, 1041.6: 2, 1041.16: 2, 1041.21: 2, 1040.81: 2, 1039.45: 2, 1038.11: 2, 1038.38: 2, 1037.01: 2, 1036.83: 2, 1034.33: 2, 999.44: 2, 997.85: 2, 1033.51: 2, 1035.08: 2, 1037.07: 2, 1037.64: 2, 1035.45: 2, 1034.95: 2, 1034.44: 2, 1042.89: 2, 1043.46: 2, 1044.82: 2, 1034.85: 2, 1036.36: 2, 1000.82: 2, 999.21: 2, 999.94: 2, 999.71: 2, 998.08: 2, 996.38: 2, 996.39: 2, 997.08: 2, 1001.84: 2, 1000.89: 2, 1037.75: 2, 1000.63: 2, 1038.0: 2, 1039.05: 2, 1038.95: 2, 1038.79: 2, 1038.91: 2, 1038.9: 2, 1038.09: 2, 1038.58: 2, 1039.07: 2, 1039.3: 2, 1039.52: 2, 1039.51: 2, 1040.78: 2, 1040.65: 2, 1040.06: 2, 1040.74: 2, 1039.89: 2, 1039.73: 2, 1039.16: 2, 1039.38: 2, 1038.5: 2, 1037.43: 2, 1034.89: 2, 1034.75: 2, 1033.46: 2, 1036.57: 2, 1039.94: 2, 1039.65: 2, 1040.26: 2, 1040.86: 2, 1041.65: 2, 1041.33: 2, 1040.83: 2, 1041.25: 2, 1040.15: 2, 1040.16: 2, 1038.93: 2, 1036.14: 2, 1035.05: 2, 999.27: 2, 999.35: 2, 1001.67: 2, 994.62: 2, 996.02: 2, 997.06: 2, 1030.34: 2, 999.05: 2, 991.97: 2, 991.06: 2, 987.4: 2, 987.08: 2, 989.22: 2, 989.21: 2, 989.98: 2, 992.95: 2, 993.13: 2, 993.73: 2, 993.95: 2, 994.65: 2, 995.76: 2, 1001.49: 2, 1000.98: 2, 997.57: 2, 996.08: 2, 995.56: 2, 992.56: 2, 997.75: 2, 996.79: 2, 995.35: 2, 1002.14: 2, 998.87: 2, 1000.67: 2, 1000.21: 2, 1000.45: 2, 1036.35: 2, 1035.24: 2, 1035.82: 2, 1036.72: 2, 1038.12: 2, 1039.93: 2, 1039.75: 2, 1040.53: 2, 1041.93: 2, 1042.63: 2, 1042.91: 2, 1042.21: 2, 1035.81: 2, 1038.77: 2, 1038.89: 2, 1039.99: 2, 1039.84: 2, 1038.81: 2, 1032.66: 2, 1037.14: 2, 1041.31: 2, 1040.42: 2, 1038.63: 2, 1034.66: 2, 1037.89: 2, 1038.21: 2, 1038.18: 2, 1037.12: 2, 1035.44: 2, 1035.25: 2, 1037.74: 2, 1034.53: 2, 998.63: 2, 996.44: 2, 997.25: 2, 999.51: 2, 996.11: 2, 995.27: 2, 995.13: 2, 991.04: 2, 990.05: 2, 987.38: 2, 990.93: 2, 992.09: 2, 993.12: 2, 995.78: 2, 989.08: 2, 994.43: 2, 996.63: 2, 996.68: 2, 998.34: 2, 998.12: 2, 996.86: 2, 995.24: 2, 992.88: 2, 992.28: 2, 992.02: 2, 992.01: 2, 992.39: 2, 994.14: 2, 994.86: 2, 996.35: 2, 996.95: 2, 998.13: 2, 992.57: 2, 992.41: 2, 992.73: 2, 992.72: 2, 993.45: 2, 994.31: 2, 995.02: 2, 995.65: 2, 997.19: 2, 1032.12: 2, 1034.06: 2, 999.14: 2, 997.72: 2, 997.43: 2, 998.18: 2, 997.1: 2, 996.15: 2, 995.2: 2, 994.15: 2, 998.53: 2, 995.8: 2, 995.22: 2, 994.1: 2, 993.85: 2, 991.5: 2, 990.7: 2, 991.2: 2, 993.22: 2, 1038.3: 2, 1040.7: 2, 1040.5: 2, 1041.4: 2, 1041.5: 2, 1037.4: 2, 991.44: 2, 995.87: 2, 994.6: 2, 993.76: 2, 989.52: 2, 990.6: 2, 991.1: 2, 992.46: 2, 998.2: 2, 997.95: 2, 995.23: 2, 991.71: 2, 989.7: 2, 988.7: 2, 989.99: 2, 992.17: 2, 991.7: 2, 991.3: 2, 992.6: 2, 991.9: 2, 993.0: 2, 994.9: 2, 1001.26: 2, 1001.04: 2, 1000.52: 2, 999.03: 2, 997.38: 2, 997.68: 2, 995.48: 2, 995.75: 2, 998.49: 2, 999.92: 2, 997.98: 2, 997.79: 2, 998.31: 2, 999.08: 2, 997.62: 2, 991.17: 2, 991.83: 2, 994.29: 2, 994.8: 2, 993.92: 2, 994.22: 2, 999.34: 2, 1001.08: 2, 998.91: 2, 988.9: 2, 991.12: 2, 1030.66: 2, 994.72: 2, 1036.56: 2, 1034.87: 2, 1035.11: 2, 995.88: 2, 996.67: 2, 994.11: 2, 992.59: 2, 994.54: 2, 995.5: 2, 996.26: 2, 999.88: 2, 1002.84: 2, 995.14: 2, 999.37: 2, 997.63: 2, 996.06: 2, 995.04: 2, 1001.51: 2, 994.41: 2, 995.86: 2, 999.02: 2, 999.11: 2, 997.15: 2, 995.89: 2, 997.76: 2, 1001.31: 2, 996.31: 2, 995.44: 2, 993.39: 2, 996.85: 2, 1001.97: 2, 992.99: 2, 989.59: 2, 990.94: 2, 991.01: 2, 991.42: 2, 990.53: 2, 989.56: 2, 987.84: 2, 987.42: 2, 988.97: 2, 1001.47: 2, 999.22: 2, 996.18: 2, 989.8: 2, 994.32: 2, 1039.66: 2, 1040.67: 2, 1038.28: 2, 1037.59: 2, 1034.69: 2, 1002.98: 2, 1033.25: 2, 1034.31: 2, 1031.83: 2, 1037.58: 2, 1033.76: 2, 1033.75: 2, 1033.12: 2, 1030.72: 2, 1030.12: 2, 996.45: 2, 994.83: 2, 994.21: 2, 994.63: 2, 996.58: 2, 1002.59: 2, 1002.08: 2, 998.48: 2, 999.97: 2, 998.83: 2, 999.96: 2, 1034.03: 2, 992.9: 2, 993.8: 2, 1034.76: 2, 1000.35: 2, 999.01: 2, 998.02: 2, 995.97: 2, 994.98: 2, 994.38: 2, 995.21: 2, 995.63: 2, 996.59: 2, 997.41: 2, 998.64: 2, 1000.36: 2, 995.58: 2, 994.91: 2, 1041.73: 2, 1038.62: 2, 1039.59: 2, 1034.79: 2, 1036.87: 2, 996.77: 2, 994.81: 2, 996.96: 2, 998.56: 2, 996.76: 2, 999.29: 2, 1000.18: 2, 999.19: 2, 995.51: 2, 1000.32: 2, 999.47: 2, 998.42: 2, 998.66: 2, 997.86: 2, 997.65: 2, 993.84: 2, 988.6: 2, 989.72: 2, 1000.64: 2, 996.66: 2, 1001.13: 2, 994.87: 2, 1000.61: 2, 998.79: 2, 1038.43: 2, 1002.39: 2, 1001.68: 2, 1035.55: 2, 1034.36: 2, 1034.43: 2, 1034.56: 2, 1038.83: 2, 1034.94: 2, 1037.13: 2, 1040.02: 2, 994.88: 2, 990.17: 2, 990.04: 2, 1034.49: 2, 1000.25: 2, 994.33: 2, 995.47: 2, 997.09: 2, 1030.56: 2, 998.27: 2, 997.81: 2, 1037.99: 1, 1036.69: 1, 1035.14: 1, 1040.63: 1, 1041.24: 1, 1041.32: 1, 1041.94: 1, 1041.63: 1, 1041.08: 1, 1041.01: 1, 1041.28: 1, 1041.22: 1, 1041.75: 1, 1041.43: 1, 1041.26: 1, 1040.36: 1, 1040.07: 1, 1039.71: 1, 1039.67: 1, 1036.22: 1, 1034.91: 1, 1035.54: 1, 1035.92: 1, 1038.54: 1, 1037.49: 1, 1037.76: 1, 1036.95: 1, 1039.86: 1, 1040.27: 1, 1041.68: 1, 1042.26: 1, 1042.58: 1, 1042.83: 1, 1043.77: 1, 1043.75: 1, 1043.86: 1, 1044.11: 1, 1044.62: 1, 1045.07: 1, 1045.14: 1, 1044.65: 1, 1044.23: 1, 1043.72: 1, 1043.71: 1, 1043.73: 1, 1043.34: 1, 1043.44: 1, 1043.31: 1, 1042.85: 1, 1042.65: 1, 1041.76: 1, 1040.24: 1, 1039.85: 1, 1037.95: 1, 998.74: 1, 1000.79: 1, 996.54: 1, 1000.73: 1, 1037.42: 1, 1038.34: 1, 1038.26: 1, 1000.96: 1, 1001.16: 1, 1039.11: 1, 1039.1: 1, 1038.73: 1, 1040.47: 1, 1039.87: 1, 1040.23: 1, 1039.4: 1, 1039.78: 1, 1040.18: 1, 1040.38: 1, 1041.17: 1, 1040.22: 1, 1040.28: 1, 1040.37: 1, 1040.57: 1, 1039.26: 1, 1039.55: 1, 1038.64: 1, 1038.37: 1, 1038.84: 1, 1033.48: 1, 1039.06: 1, 1039.37: 1, 1040.05: 1, 1040.58: 1, 1041.27: 1, 1041.38: 1, 1041.64: 1, 1041.23: 1, 1041.2: 1, 1040.51: 1, 1040.19: 1, 1000.15: 1, 996.72: 1, 994.82: 1, 994.25: 1, 993.82: 1, 994.84: 1, 995.31: 1, 997.42: 1, 991.67: 1, 998.17: 1, 996.75: 1, 994.06: 1, 993.36: 1, 992.37: 1, 992.78: 1, 989.82: 1, 988.83: 1, 988.12: 1, 987.74: 1, 987.17: 1, 987.18: 1, 987.59: 1, 987.82: 1, 990.77: 1, 991.37: 1, 992.29: 1, 992.66: 1, 992.76: 1, 993.86: 1, 992.89: 1, 993.23: 1, 991.99: 1, 993.65: 1, 995.08: 1, 999.87: 1, 995.61: 1, 995.73: 1, 997.73: 1, 1004.28: 1, 1037.91: 1, 1042.25: 1, 1039.56: 1, 1040.13: 1, 1040.85: 1, 1042.37: 1, 1042.94: 1, 1042.08: 1, 1043.41: 1, 1043.42: 1, 1043.62: 1, 1043.79: 1, 1043.91: 1, 1044.35: 1, 1044.71: 1, 1045.38: 1, 1044.83: 1, 1044.4: 1, 1043.99: 1, 1043.6: 1, 1043.59: 1, 1043.08: 1, 1043.01: 1, 1042.97: 1, 1042.8: 1, 1042.57: 1, 1042.41: 1, 1038.74: 1, 1038.65: 1, 1039.14: 1, 1039.15: 1, 1038.85: 1, 1043.69: 1, 1043.78: 1, 1044.6: 1, 1045.3: 1, 1045.78: 1, 1045.4: 1, 1045.32: 1, 1045.68: 1, 1045.59: 1, 1045.9: 1, 1046.38: 1, 1046.26: 1, 1045.93: 1, 1046.06: 1, 1045.25: 1, 1044.31: 1, 1043.04: 1, 1042.45: 1, 1040.82: 1, 1037.22: 1, 1000.06: 1, 995.9: 1, 998.47: 1, 994.44: 1, 993.66: 1, 993.19: 1, 993.17: 1, 992.35: 1, 991.26: 1, 991.34: 1, 990.36: 1, 989.27: 1, 988.61: 1, 988.35: 1, 988.22: 1, 987.58: 1, 990.35: 1, 991.65: 1, 994.24: 1, 995.17: 1, 996.12: 1, 995.06: 1, 995.39: 1, 997.34: 1, 995.83: 1, 995.82: 1, 993.81: 1, 990.38: 1, 988.82: 1, 991.14: 1, 986.55: 1, 986.1: 1, 986.97: 1, 986.76: 1, 988.94: 1, 989.42: 1, 992.38: 1, 991.18: 1, 992.22: 1, 991.77: 1, 992.96: 1, 992.68: 1, 993.3: 1, 995.25: 1, 995.34: 1, 994.18: 1, 993.11: 1, 993.03: 1, 993.32: 1, 993.79: 1, 996.98: 1, 997.83: 1, 998.35: 1, 1000.58: 1, 997.51: 1, 996.4: 1, 994.4: 1, 990.97: 1, 990.82: 1, 992.3: 1, 993.7: 1, 997.04: 1, 1040.0: 1, 1040.33: 1, 1040.3: 1, 1040.4: 1, 1040.46: 1, 1040.8: 1, 1042.04: 1, 1041.3: 1, 1040.99: 1, 1040.1: 1, 990.0: 1, 988.8: 1, 989.5: 1, 995.11: 1, 989.2: 1, 989.54: 1, 990.52: 1, 991.91: 1, 991.49: 1, 993.1: 1, 995.07: 1, 995.7: 1, 999.45: 1, 1000.95: 1, 1037.53: 1, 994.0: 1, 988.74: 1, 987.0: 1, 986.3: 1, 985.62: 1, 984.9: 1, 985.1: 1, 985.57: 1, 986.0: 1, 986.6: 1, 986.87: 1, 986.9: 1, 987.1: 1, 987.8: 1, 988.31: 1, 992.82: 1, 992.4: 1, 992.71: 1, 991.69: 1, 992.62: 1, 993.99: 1, 995.94: 1, 999.39: 1, 998.54: 1, 998.04: 1, 997.39: 1, 997.66: 1, 995.52: 1, 996.04: 1, 999.42: 1, 999.83: 1, 994.59: 1, 996.62: 1, 993.55: 1, 992.75: 1, 992.13: 1, 991.93: 1, 992.93: 1, 994.97: 1, 994.26: 1, 996.93: 1, 993.74: 1, 991.72: 1, 990.1: 1, 989.0: 1, 989.32: 1, 992.45: 1, 993.42: 1, 995.05: 1, 996.14: 1, 996.94: 1, 1034.64: 1, 1036.44: 1, 1036.55: 1, 997.52: 1, 995.99: 1, 994.68: 1, 994.64: 1, 993.98: 1, 994.37: 1, 994.58: 1, 994.79: 1, 994.67: 1, 995.33: 1, 996.48: 1, 1000.29: 1, 1000.19: 1, 998.81: 1, 1001.28: 1, 994.03: 1, 993.24: 1, 991.41: 1, 991.75: 1, 992.64: 1, 992.69: 1, 992.77: 1, 992.92: 1, 994.13: 1, 995.37: 1, 994.35: 1, 996.43: 1, 998.75: 1, 997.71: 1, 995.71: 1, 995.77: 1, 994.28: 1, 993.46: 1, 994.74: 1, 990.06: 1, 994.96: 1, 992.81: 1, 992.12: 1, 990.32: 1, 988.62: 1, 988.3: 1, 987.78: 1, 987.39: 1, 987.06: 1, 986.17: 1, 986.19: 1, 986.59: 1, 986.29: 1, 986.65: 1, 990.24: 1, 990.12: 1, 990.96: 1, 989.9: 1, 989.35: 1, 988.78: 1, 987.46: 1, 987.54: 1, 988.5: 1, 998.03: 1, 994.66: 1, 993.51: 1, 991.95: 1, 989.16: 1, 987.73: 1, 986.44: 1, 986.46: 1, 988.53: 1, 988.38: 1, 990.75: 1, 992.42: 1, 1040.14: 1, 1039.95: 1, 1040.75: 1, 1040.55: 1, 1040.94: 1, 1041.09: 1, 1036.53: 1, 1031.99: 1, 1033.68: 1, 1037.11: 1, 1037.16: 1, 1038.14: 1, 1035.46: 1, 1038.52: 1, 1037.24: 1, 995.92: 1, 993.94: 1, 994.04: 1, 994.46: 1, 994.94: 1, 995.46: 1, 995.85: 1, 995.96: 1, 996.0: 1, 996.99: 1, 999.54: 1, 999.17: 1, 1035.06: 1, 1000.34: 1, 995.29: 1, 1000.85: 1, 997.11: 1, 997.69: 1, 996.89: 1, 994.71: 1, 993.35: 1, 993.75: 1, 998.44: 1, 997.33: 1, 993.93: 1, 991.74: 1, 991.31: 1, 990.64: 1, 990.79: 1, 992.21: 1, 991.33: 1, 991.38: 1, 996.33: 1, 998.62: 1, 1040.11: 1, 1040.64: 1, 1041.57: 1, 1041.36: 1, 1040.48: 1, 1039.04: 1, 1038.41: 1, 1039.72: 1, 1039.61: 1, 1039.8: 1, 1039.6: 1, 1039.68: 1, 1035.58: 1, 1038.47: 1, 1035.16: 1, 997.82: 1, 992.44: 1, 995.67: 1, 996.03: 1, 998.99: 1, 997.37: 1, 996.07: 1, 995.69: 1, 995.57: 1, 995.32: 1, 995.59: 1, 995.43: 1, 1034.82: 1, 997.74: 1, 997.87: 1, 998.14: 1, 998.28: 1, 997.61: 1, 995.81: 1, 994.93: 1, 994.52: 1, 993.33: 1, 992.25: 1, 991.61: 1, 991.08: 1, 990.16: 1, 990.2: 1, 988.39: 1, 989.47: 1, 990.14: 1, 990.74: 1, 991.27: 1, 991.22: 1, 996.32: 1, 997.44: 1, 994.92: 1, 995.95: 1, 994.95: 1, 996.09: 1, 995.68: 1, 996.56: 1, 1002.36: 1, 1000.46: 1, 1000.09: 1, 996.65: 1, 995.72: 1, 996.88: 1, 997.32: 1, 998.73: 1, 1001.58: 1, 1034.96: 1, 1033.63: 1, 1037.37: 1, 1037.39: 1, 992.05: 1, 990.92: 1, 990.73: 1, 990.49: 1, 991.35: 1, 991.29: 1, 991.16: 1, 991.54: 1, 995.01: 1, 1040.71: 1, 1040.45: 1, 1041.72: 1, 1041.12: 1, 1039.24: 1, 1000.84: 1, 996.57: 1, 994.27: 1, 992.97: 1, 988.45: 1, 987.41: 1, 986.69: 1, 985.4: 1, 984.32: 1, 983.66: 1, 982.53: 1, 980.67: 1, 979.37: 1, 977.27: 1, 976.61: 1, 976.62: 1, 977.39: 1, 976.38: 1, 975.89: 1, 974.52: 1, 973.78: 1, 975.12: 1, 974.78: 1, 975.31: 1, 976.76: 1, 977.24: 1, 979.88: 1, 981.31: 1, 983.08: 1, 984.38: 1, 985.85: 1, 986.74: 1, 990.08: 1, 991.36: 1, 991.78: 1, 992.23: 1, 992.67: 1, 992.98: 1, 1033.45: 1, 1034.45: 1, 1033.94: 1, 1041.52: 1, 1042.09: 1, 1042.3: 1, 1042.38: 1, 1040.61: 1, 1039.21: 1, 1039.31: 1, 1039.42: 1, 1038.32: 1, 1037.97: 1, 993.15: 1, 996.05: 1, 994.77: 1, 994.55: 1, 993.56: 1, 998.25: 1, 1000.97: 1, 1039.81: 1, 1040.31: 1, 1040.91: 1, 996.83: 1, 992.08: 1, 990.95: 1, 989.68: 1, 990.45: 1, 993.07: 1, 997.36: 1, 993.49: 1, 993.14: 1, 994.51: 1, 996.84: 1, 995.49: 1, 994.19: 1, 993.31: 1, 995.4: 1, 996.91: 1, 1037.19: 1, 1035.47: 1, 1036.05: 1, 1034.51: 1, 997.29: 1, 997.27: 1, 996.36: 1, 996.25: 1, 996.46: 1, 998.11: 1, 998.52: 1, 997.59: 1})\n",
            "False\n",
            "Counter({'Mostly cloudy throughout the day.': 20085, 'Partly cloudy throughout the day.': 9981, 'Partly cloudy until night.': 6169, 'Partly cloudy starting in the morning.': 5184, 'Foggy in the morning.': 4201, 'Foggy starting overnight continuing until morning.': 3576, 'Partly cloudy until evening.': 3288, 'Mostly cloudy until night.': 3095, 'Overcast throughout the day.': 2952, 'Partly cloudy starting in the morning continuing until evening.': 2806, 'Foggy until morning.': 2691, 'Partly cloudy starting in the morning continuing until night.': 2136, 'Mostly cloudy starting in the morning.': 1584, 'Foggy starting in the evening.': 1464, 'Partly cloudy starting overnight.': 1440, 'Partly cloudy starting in the afternoon.': 1344, 'Partly cloudy starting in the afternoon continuing until evening.': 1319, 'Foggy overnight.': 1273, 'Mostly cloudy starting overnight.': 1272, 'Mostly cloudy until evening.': 1056, 'Clear throughout the day.': 913, 'Partly cloudy starting overnight continuing until night.': 888, 'Foggy throughout the day.': 864, 'Partly cloudy overnight.': 864, 'Partly cloudy starting overnight continuing until evening.': 719, 'Foggy until night.': 529, 'Partly cloudy in the morning.': 480, 'Mostly cloudy starting overnight continuing until night.': 432, 'Foggy starting overnight continuing until afternoon.': 432, 'Foggy until afternoon.': 408, 'Partly cloudy starting in the afternoon continuing until night.': 385, 'Partly cloudy until morning.': 384, 'Foggy starting in the morning continuing until afternoon.': 384, 'Mostly cloudy throughout the day and breezy in the morning.': 360, 'Partly cloudy starting in the morning continuing until afternoon.': 312, 'Foggy starting overnight continuing until evening.': 312, 'Foggy starting in the afternoon.': 312, 'Foggy starting in the afternoon continuing until evening.': 288, 'Foggy starting in the morning continuing until night.': 288, 'Mostly cloudy throughout the day and breezy starting in the morning continuing until afternoon.': 288, 'Foggy starting in the morning continuing until evening.': 264, 'Partly cloudy in the afternoon.': 264, 'Partly cloudy starting overnight continuing until morning.': 264, 'Foggy in the evening.': 240, 'Mostly cloudy starting overnight continuing until evening.': 216, 'Mostly cloudy throughout the day and breezy in the afternoon.': 216, 'Partly cloudy throughout the day and breezy starting in the morning continuing until afternoon.': 216, 'Partly cloudy in the evening.': 216, 'Foggy until evening.': 216, 'Partly cloudy starting overnight continuing until afternoon.': 192, 'Mostly cloudy starting in the morning continuing until night.': 192, 'Partly cloudy until afternoon.': 168, 'Overcast until night.': 168, 'Mostly cloudy until afternoon.': 168, 'Foggy starting overnight continuing until night.': 168, 'Mostly cloudy until morning.': 144, 'Foggy starting in the afternoon continuing until night.': 144, 'Mostly cloudy throughout the day and breezy starting overnight continuing until morning.': 144, 'Foggy starting in the evening continuing until night.': 120, 'Foggy starting overnight.': 120, 'Foggy starting in the morning.': 120, 'Mostly cloudy throughout the day and breezy starting in the morning continuing until evening.': 120, 'Partly cloudy until night and breezy starting in the morning continuing until afternoon.': 120, 'Mostly cloudy throughout the day and breezy starting in the evening.': 120, 'Mostly cloudy until evening and breezy starting in the morning continuing until afternoon.': 120, 'Foggy in the afternoon.': 120, 'Mostly cloudy throughout the day and breezy starting in the afternoon continuing until evening.': 120, 'Overcast until evening.': 96, 'Mostly cloudy starting in the afternoon.': 96, 'Partly cloudy until evening and breezy starting in the morning continuing until afternoon.': 96, 'Mostly cloudy throughout the day and breezy overnight.': 96, 'Partly cloudy until evening and breezy in the morning.': 96, 'Partly cloudy throughout the day and breezy in the evening.': 96, 'Partly cloudy starting in the evening.': 96, 'Mostly cloudy until night and breezy in the afternoon.': 72, 'Mostly cloudy throughout the day and breezy in the evening.': 72, 'Mostly cloudy starting overnight continuing until afternoon.': 72, 'Mostly cloudy starting in the morning continuing until evening.': 72, 'Mostly cloudy starting overnight and breezy starting in the morning continuing until afternoon.': 72, 'Partly cloudy throughout the day and breezy starting in the afternoon continuing until evening.': 72, 'Partly cloudy starting overnight continuing until evening and breezy starting in the morning continuing until afternoon.': 72, 'Overcast throughout the day and breezy in the morning.': 72, 'Partly cloudy until night and breezy in the morning.': 72, 'Breezy overnight and mostly cloudy throughout the day.': 72, 'Mostly cloudy starting overnight and breezy in the afternoon.': 48, 'Partly cloudy starting in the evening continuing until night.': 48, 'Partly cloudy starting in the morning continuing until evening and breezy starting in the morning continuing until afternoon.': 48, 'Breezy until morning and mostly cloudy throughout the day.': 48, 'Mostly cloudy starting in the afternoon continuing until night.': 48, 'Partly cloudy throughout the day and breezy in the morning.': 48, 'Mostly cloudy starting overnight and breezy in the morning.': 48, 'Mostly cloudy until night and breezy in the evening.': 48, 'Partly cloudy until evening and breezy starting in the morning continuing until evening.': 48, 'Mostly cloudy starting overnight continuing until morning.': 48, 'Overcast throughout the day and breezy in the evening.': 48, 'Foggy starting overnight continuing until morning and breezy starting in the evening.': 48, 'Breezy until afternoon and mostly cloudy throughout the day.': 48, 'Mostly cloudy throughout the day and breezy starting in the morning continuing until night.': 48, 'Mostly cloudy starting in the morning and breezy in the afternoon.': 48, 'Foggy starting overnight continuing until morning and breezy starting in the morning continuing until afternoon.': 48, 'Mostly cloudy until night and breezy starting in the evening.': 48, 'Mostly cloudy starting in the morning and breezy starting in the afternoon continuing until evening.': 48, 'Breezy overnight and overcast throughout the day.': 48, 'Mostly cloudy throughout the day and breezy starting in the afternoon.': 48, 'Overcast throughout the day and breezy starting in the evening.': 48, 'Foggy overnight and breezy in the morning.': 24, 'Foggy in the morning and breezy starting in the afternoon continuing until night.': 24, 'Breezy starting overnight continuing until afternoon and foggy starting in the morning continuing until evening.': 24, 'Partly cloudy throughout the day and breezy starting in the morning continuing until night.': 24, 'Mostly cloudy until night and breezy starting in the morning continuing until afternoon.': 24, 'Partly cloudy throughout the day and breezy starting in the morning continuing until evening.': 24, 'Overcast until night and breezy overnight.': 24, 'Breezy starting overnight continuing until morning and partly cloudy starting overnight continuing until evening.': 24, 'Mostly cloudy starting in the morning continuing until afternoon.': 24, 'Partly cloudy starting overnight continuing until afternoon and breezy in the afternoon.': 24, 'Partly cloudy starting overnight and breezy in the afternoon.': 24, 'Mostly cloudy starting in the morning and breezy in the evening.': 24, 'Partly cloudy starting overnight continuing until evening and breezy starting in the morning continuing until evening.': 24, 'Breezy starting overnight continuing until morning and foggy in the evening.': 24, 'Breezy starting overnight continuing until afternoon and mostly cloudy starting overnight continuing until evening.': 24, 'Mostly cloudy throughout the day and windy starting in the morning continuing until evening.': 24, 'Breezy and partly cloudy in the afternoon.': 24, 'Breezy and mostly cloudy overnight.': 24, 'Partly cloudy starting in the morning continuing until evening and breezy starting in the afternoon continuing until evening.': 24, 'Partly cloudy starting in the afternoon and breezy in the afternoon.': 24, 'Partly cloudy starting in the morning and breezy in the evening.': 24, 'Partly cloudy starting overnight continuing until evening and breezy in the evening.': 24, 'Mostly cloudy throughout the day and windy starting in the morning continuing until night.': 24, 'Breezy starting overnight continuing until morning and partly cloudy starting in the morning.': 24, 'Mostly cloudy starting in the morning and breezy overnight.': 24, 'Overcast throughout the day and breezy starting overnight continuing until morning.': 24, 'Overcast starting in the morning.': 24, 'Mostly cloudy starting overnight continuing until evening and breezy starting overnight continuing until morning.': 24, 'Partly cloudy starting overnight continuing until morning and breezy starting in the morning continuing until afternoon.': 24, 'Breezy starting in the morning continuing until afternoon and partly cloudy starting in the morning.': 24, 'Partly cloudy starting in the morning and breezy starting in the afternoon continuing until evening.': 24, 'Mostly cloudy throughout the day and breezy starting overnight continuing until afternoon.': 24, 'Breezy starting overnight continuing until morning and foggy overnight.': 24, 'Mostly cloudy starting in the morning continuing until night and breezy in the afternoon.': 24, 'Mostly cloudy until night and breezy starting in the evening continuing until night.': 24, 'Partly cloudy until evening and breezy overnight.': 24, 'Partly cloudy starting overnight continuing until night and windy starting in the morning continuing until afternoon.': 24, 'Breezy starting in the morning continuing until afternoon and mostly cloudy starting in the morning.': 24, 'Mostly cloudy until night and breezy starting in the afternoon.': 24, 'Mostly cloudy until night and breezy starting in the afternoon continuing until night.': 24, 'Foggy starting overnight continuing until morning and breezy starting in the evening continuing until night.': 24, 'Partly cloudy starting overnight continuing until evening and breezy in the morning.': 24, 'Mostly cloudy starting overnight continuing until night and breezy starting in the morning continuing until evening.': 24, 'Mostly cloudy until evening and windy starting in the morning continuing until afternoon.': 24, 'Foggy starting overnight continuing until afternoon and breezy in the morning.': 24, 'Foggy starting in the morning continuing until afternoon and breezy starting in the evening.': 24, 'Partly cloudy starting overnight and breezy starting in the morning continuing until afternoon.': 24, 'Mostly cloudy starting overnight and breezy starting in the afternoon continuing until evening.': 24, 'Overcast throughout the day and breezy starting overnight continuing until afternoon.': 24, 'Partly cloudy starting in the morning continuing until evening and breezy in the afternoon.': 24, 'Partly cloudy starting in the morning continuing until night and breezy starting in the afternoon continuing until evening.': 24, 'Breezy in the morning and mostly cloudy starting in the morning.': 24, 'Mostly cloudy until night and breezy starting in the morning continuing until evening.': 24, 'Partly cloudy starting overnight continuing until evening and windy starting in the morning continuing until evening.': 24, 'Breezy in the morning and partly cloudy starting in the evening continuing until night.': 24, 'Partly cloudy overnight and breezy starting in the morning continuing until afternoon.': 24, 'Light rain in the morning.': 24, 'Light rain until morning.': 24, 'Light rain in the morning and afternoon.': 24, 'Partly cloudy starting in the morning continuing until night and breezy starting in the morning continuing until afternoon.': 24, 'Breezy starting in the afternoon continuing until night and mostly cloudy starting in the evening.': 24, 'Mostly cloudy throughout the day and breezy starting in the evening continuing until night.': 24, 'Foggy starting in the afternoon and breezy starting in the afternoon continuing until evening.': 24, 'Breezy and foggy until morning.': 24, 'Mostly cloudy until night and breezy starting overnight continuing until morning.': 24, 'Partly cloudy starting overnight continuing until night and breezy in the morning.': 24, 'Partly cloudy starting overnight continuing until night and breezy in the afternoon.': 24, 'Partly cloudy starting overnight and breezy starting in the evening.': 24, 'Partly cloudy until night and breezy in the afternoon.': 24, 'Mostly cloudy starting overnight and breezy starting in the evening.': 24, 'Breezy overnight and partly cloudy until evening.': 24, 'Mostly cloudy starting in the evening.': 24, 'Mostly cloudy until night and windy starting in the morning continuing until afternoon.': 24, 'Breezy and foggy starting in the evening.': 24, 'Breezy overnight and partly cloudy throughout the day.': 24, 'Breezy until evening and foggy in the morning.': 24, 'Partly cloudy until evening and breezy in the afternoon.': 24, 'Partly cloudy starting in the morning and breezy starting in the morning continuing until afternoon.': 24, 'Mostly cloudy until evening and breezy in the evening.': 24, 'Windy in the afternoon.': 24, 'Overcast until morning.': 24, 'Mostly cloudy overnight.': 24, 'Foggy starting in the morning continuing until evening and breezy in the evening.': 24, 'Breezy starting overnight continuing until morning.': 24, 'Breezy starting in the afternoon continuing until evening and foggy starting in the evening.': 24, 'Mostly cloudy until night and breezy overnight.': 24, 'Mostly cloudy starting in the morning and windy in the evening.': 24, 'Partly cloudy throughout the day and windy starting in the morning continuing until afternoon.': 24, 'Breezy until afternoon and overcast throughout the day.': 24, 'Breezy in the morning and foggy in the evening.': 24, 'Breezy starting in the afternoon continuing until evening and foggy in the evening.': 24, 'Breezy starting in the morning continuing until night.': 24, 'Breezy in the morning and mostly cloudy starting in the evening.': 24, 'Mostly cloudy until evening and breezy in the afternoon.': 24, 'Mostly cloudy until night and breezy starting in the afternoon continuing until evening.': 24, 'Mostly cloudy until evening and breezy starting overnight continuing until morning.': 24, 'Overcast throughout the day and breezy in the afternoon.': 24, 'Overcast throughout the day and breezy starting in the morning continuing until evening.': 24, 'Overcast throughout the day and breezy overnight.': 24, 'Overcast starting in the afternoon.': 24, 'Partly cloudy throughout the day and breezy in the afternoon.': 24, 'Light rain starting overnight.': 24, 'Drizzle starting in the evening.': 24, 'Drizzle until morning.': 24, 'Rain throughout the day.': 24, 'Rain until morning.': 24, 'Light rain overnight.': 24, 'Rain until afternoon.': 24, 'Foggy starting overnight continuing until morning and breezy in the afternoon.': 23})\n"
          ]
        }
      ]
    },
    {
      "cell_type": "code",
      "source": [
        "wheatherHistoryDataset = wheatherHistoryDataset.drop(columns=['Formatted Date','Loud Cover','Daily Summary','Summary'])"
      ],
      "metadata": {
        "id": "wc-olHZM-XSX"
      },
      "execution_count": null,
      "outputs": []
    },
    {
      "cell_type": "code",
      "source": [
        "wheatherHistoryDataset = wheatherHistoryDataset.dropna(axis=0, how='any', thresh=None, subset=None, inplace=False)\n",
        "print(Counter(wheatherHistoryDataset[\"Precip Type\"]))\n",
        "checkList = []\n",
        "for i in wheatherHistoryDataset.columns:\n",
        "  print(str(i))\n",
        "  print(wheatherHistoryDataset[str(i)].isnull().values.any())\n"
      ],
      "metadata": {
        "colab": {
          "base_uri": "https://localhost:8080/"
        },
        "id": "m6MiGxyS_P-M",
        "outputId": "5cf4916a-6904-4978-8952-a768e7cedd5f"
      },
      "execution_count": null,
      "outputs": [
        {
          "output_type": "stream",
          "name": "stdout",
          "text": [
            "Counter({'rain': 85224, 'snow': 10712})\n",
            "Precip Type\n",
            "False\n",
            "Temperature (C)\n",
            "False\n",
            "Apparent Temperature (C)\n",
            "False\n",
            "Humidity\n",
            "False\n",
            "Wind Speed (km/h)\n",
            "False\n",
            "Wind Bearing (degrees)\n",
            "False\n",
            "Visibility (km)\n",
            "False\n",
            "Pressure (millibars)\n",
            "False\n"
          ]
        }
      ]
    },
    {
      "cell_type": "code",
      "source": [
        "print(Counter(wheatherHistoryDataset[\"Precip Type\"]))\n",
        "wheatherHistoryDataset[\"Precip Type\"][:] = [1 if x != 'rain' else 0 for x in wheatherHistoryDataset[\"Precip Type\"]]\n",
        "Counter(wheatherHistoryDataset[\"Precip Type\"])"
      ],
      "metadata": {
        "colab": {
          "base_uri": "https://localhost:8080/"
        },
        "id": "61ah-0Yp9boz",
        "outputId": "01fd0c34-c463-4669-8649-80167b8bcccf"
      },
      "execution_count": null,
      "outputs": [
        {
          "output_type": "stream",
          "name": "stdout",
          "text": [
            "Counter({'rain': 85224, 'snow': 10712})\n"
          ]
        },
        {
          "output_type": "execute_result",
          "data": {
            "text/plain": [
              "Counter({0: 85224, 1: 10712})"
            ]
          },
          "metadata": {},
          "execution_count": 9
        }
      ]
    },
    {
      "cell_type": "code",
      "source": [
        "wheatherHistoryDataset = wheatherHistoryDataset.dropna(axis=0)"
      ],
      "metadata": {
        "id": "6cUFh_rT4Kf3"
      },
      "execution_count": null,
      "outputs": []
    },
    {
      "cell_type": "code",
      "source": [
        "checkList = []\n",
        "for i in wheatherHistoryDataset.columns:\n",
        "  wheatherHistoryDataset[str(i)].isnull().values.any()\n",
        "  "
      ],
      "metadata": {
        "id": "YALhnCGIAlCH"
      },
      "execution_count": null,
      "outputs": []
    },
    {
      "cell_type": "code",
      "source": [
        "x = np.array(wheatherHistoryDataset[\"Temperature (C)\"])\n",
        "plt.hist(x)"
      ],
      "metadata": {
        "colab": {
          "base_uri": "https://localhost:8080/",
          "height": 369
        },
        "id": "TCy2eL0Dzzvs",
        "outputId": "e629300a-4dd6-4cdf-975e-45112db9b45d"
      },
      "execution_count": null,
      "outputs": [
        {
          "output_type": "execute_result",
          "data": {
            "text/plain": [
              "(array([   54.,   494.,  3550., 15382., 20295., 20103., 19210., 11329.,\n",
              "         4833.,   686.]),\n",
              " array([-21.82222222, -15.64944444,  -9.47666667,  -3.30388889,\n",
              "          2.86888889,   9.04166667,  15.21444444,  21.38722222,\n",
              "         27.56      ,  33.73277778,  39.90555556]),\n",
              " <a list of 10 Patch objects>)"
            ]
          },
          "metadata": {},
          "execution_count": 12
        },
        {
          "output_type": "display_data",
          "data": {
            "text/plain": [
              "<Figure size 432x288 with 1 Axes>"
            ],
            "image/png": "[encoded data removed]"
          },
          "metadata": {
            "needs_background": "light"
          }
        }
      ]
    },
    {
      "cell_type": "code",
      "source": [
        "wheatherHistoryDataset[\"Temperature (C)\"].plot.density(color='green')"
      ],
      "metadata": {
        "colab": {
          "base_uri": "https://localhost:8080/",
          "height": 282
        },
        "id": "MqPRftwO6_TM",
        "outputId": "f59b8773-285f-4746-feae-152bfaef8d8d"
      },
      "execution_count": null,
      "outputs": [
        {
          "output_type": "execute_result",
          "data": {
            "text/plain": [
              "<matplotlib.axes._subplots.AxesSubplot at 0x7f9b2d3df650>"
            ]
          },
          "metadata": {},
          "execution_count": 13
        },
        {
          "output_type": "display_data",
          "data": {
            "text/plain": [
              "<Figure size 432x288 with 1 Axes>"
            ],
            "image/png": "[encoded data removed]"
          },
          "metadata": {
            "needs_background": "light"
          }
        }
      ]
    },
    {
      "cell_type": "code",
      "source": [
        "plt.boxplot(x)"
      ],
      "metadata": {
        "colab": {
          "base_uri": "https://localhost:8080/",
          "height": 404
        },
        "id": "qLxUI5Ce46a7",
        "outputId": "acc61c91-e3da-4596-a8cd-cac1dbf0d2dd"
      },
      "execution_count": null,
      "outputs": [
        {
          "output_type": "execute_result",
          "data": {
            "text/plain": [
              "{'whiskers': [<matplotlib.lines.Line2D at 0x7f9b2d31c990>,\n",
              "  <matplotlib.lines.Line2D at 0x7f9b2d31ced0>],\n",
              " 'caps': [<matplotlib.lines.Line2D at 0x7f9b2d323450>,\n",
              "  <matplotlib.lines.Line2D at 0x7f9b2d323990>],\n",
              " 'boxes': [<matplotlib.lines.Line2D at 0x7f9b2d377b10>],\n",
              " 'medians': [<matplotlib.lines.Line2D at 0x7f9b2d323f10>],\n",
              " 'fliers': [<matplotlib.lines.Line2D at 0x7f9b2d32b490>],\n",
              " 'means': []}"
            ]
          },
          "metadata": {},
          "execution_count": 14
        },
        {
          "output_type": "display_data",
          "data": {
            "text/plain": [
              "<Figure size 432x288 with 1 Axes>"
            ],
            "image/png": "[encoded data removed]"
          },
          "metadata": {
            "needs_background": "light"
          }
        }
      ]
    },
    {
      "cell_type": "code",
      "source": [
        "x = np.array(wheatherHistoryDataset[\"Apparent Temperature (C)\"])\n",
        "plt.hist(x)"
      ],
      "metadata": {
        "colab": {
          "base_uri": "https://localhost:8080/",
          "height": 369
        },
        "id": "CGTTrnk74FiE",
        "outputId": "0f098774-819b-4136-cbfb-374dda0d305f"
      },
      "execution_count": null,
      "outputs": [
        {
          "output_type": "execute_result",
          "data": {
            "text/plain": [
              "(array([   48.,   375.,  2725., 12550., 18532., 16111., 22997., 14408.,\n",
              "         7141.,  1049.]),\n",
              " array([-27.71666667, -21.01055556, -14.30444444,  -7.59833333,\n",
              "         -0.89222222,   5.81388889,  12.52      ,  19.22611111,\n",
              "         25.93222222,  32.63833333,  39.34444444]),\n",
              " <a list of 10 Patch objects>)"
            ]
          },
          "metadata": {},
          "execution_count": 15
        },
        {
          "output_type": "display_data",
          "data": {
            "text/plain": [
              "<Figure size 432x288 with 1 Axes>"
            ],
            "image/png": "[encoded data removed]"
          },
          "metadata": {
            "needs_background": "light"
          }
        }
      ]
    },
    {
      "cell_type": "code",
      "source": [
        "plt.boxplot(x)"
      ],
      "metadata": {
        "colab": {
          "base_uri": "https://localhost:8080/",
          "height": 404
        },
        "id": "D2HBGxOE4_R0",
        "outputId": "5f534bdf-69c9-477a-c204-49261231912c"
      },
      "execution_count": null,
      "outputs": [
        {
          "output_type": "execute_result",
          "data": {
            "text/plain": [
              "{'whiskers': [<matplotlib.lines.Line2D at 0x7f9b2915c110>,\n",
              "  <matplotlib.lines.Line2D at 0x7f9b2915c650>],\n",
              " 'caps': [<matplotlib.lines.Line2D at 0x7f9b2915cb90>,\n",
              "  <matplotlib.lines.Line2D at 0x7f9b29163110>],\n",
              " 'boxes': [<matplotlib.lines.Line2D at 0x7f9b29155b50>],\n",
              " 'medians': [<matplotlib.lines.Line2D at 0x7f9b29163690>],\n",
              " 'fliers': [<matplotlib.lines.Line2D at 0x7f9b29163bd0>],\n",
              " 'means': []}"
            ]
          },
          "metadata": {},
          "execution_count": 16
        },
        {
          "output_type": "display_data",
          "data": {
            "text/plain": [
              "<Figure size 432x288 with 1 Axes>"
            ],
            "image/png": "[encoded data removed]"
          },
          "metadata": {
            "needs_background": "light"
          }
        }
      ]
    },
    {
      "cell_type": "code",
      "source": [
        "#sns.pairplot(wheatherHistoryDataset, hue ='Precip Type')"
      ],
      "metadata": {
        "id": "MXcwCre_5fGt"
      },
      "execution_count": null,
      "outputs": []
    },
    {
      "cell_type": "code",
      "source": [
        "wheatherHistoryDataset = wheatherHistoryDataset.drop(columns=[\"Apparent Temperature (C)\"])"
      ],
      "metadata": {
        "id": "YOVMvKgo9xxS"
      },
      "execution_count": null,
      "outputs": []
    },
    {
      "cell_type": "code",
      "source": [
        "# sns.pairplot(wheatherHistoryDataset, hue ='Precip Type')"
      ],
      "metadata": {
        "id": "v_HOvho799r-"
      },
      "execution_count": null,
      "outputs": []
    },
    {
      "cell_type": "code",
      "source": [
        "corr = wheatherHistoryDataset.corr()\n",
        "sns.heatmap(corr, annot=True, square=True)\n",
        "plt.yticks(rotation=0)\n",
        "plt.show()"
      ],
      "metadata": {
        "id": "zyyyZ3dq4OAp",
        "colab": {
          "base_uri": "https://localhost:8080/",
          "height": 378
        },
        "outputId": "d040a079-fed9-4d1e-aa5a-196a8add8e06"
      },
      "execution_count": null,
      "outputs": [
        {
          "output_type": "display_data",
          "data": {
            "text/plain": [
              "<Figure size 432x288 with 2 Axes>"
            ],
            "image/png": "[encoded data removed]"
          },
          "metadata": {
            "needs_background": "light"
          }
        }
      ]
    },
    {
      "cell_type": "code",
      "source": [
        "# plt.scatter(wheatherHistoryDataset[\"Humidity\"],wheatherHistoryDataset[\"Precip Type\"])"
      ],
      "metadata": {
        "id": "L2dPfmG0Enjl"
      },
      "execution_count": null,
      "outputs": []
    },
    {
      "cell_type": "code",
      "source": [
        "# for i in wheatherHistoryDataset.columns[:-1]:\n",
        "#   plt.xlabel(str(i))\n",
        "#   plt.ylabel(\"Precip Type\")\n",
        "#   plt.scatter(wheatherHistoryDataset[str(i)],wheatherHistoryDataset[\"Precip Type\"])\n",
        "#   plt.show()\n",
        "#   plt.xlabel(str(i))\n",
        "#   plt.boxplot(wheatherHistoryDataset[str(i)])\n",
        "#   plt.show()"
      ],
      "metadata": {
        "id": "tTwNC8CLECnr"
      },
      "execution_count": null,
      "outputs": []
    },
    {
      "cell_type": "code",
      "source": [
        "wheatherHistoryDataset.columns"
      ],
      "metadata": {
        "colab": {
          "base_uri": "https://localhost:8080/"
        },
        "id": "YOCsm7g3HKcS",
        "outputId": "c66a7715-c286-41c1-bf46-557f59df7e92"
      },
      "execution_count": null,
      "outputs": [
        {
          "output_type": "execute_result",
          "data": {
            "text/plain": [
              "Index(['Precip Type', 'Temperature (C)', 'Humidity', 'Wind Speed (km/h)',\n",
              "       'Wind Bearing (degrees)', 'Visibility (km)', 'Pressure (millibars)'],\n",
              "      dtype='object')"
            ]
          },
          "metadata": {},
          "execution_count": 19
        }
      ]
    },
    {
      "cell_type": "code",
      "source": [
        "wheatherHistoryDataset.describe()"
      ],
      "metadata": {
        "colab": {
          "base_uri": "https://localhost:8080/",
          "height": 300
        },
        "id": "s112LgJBHjxh",
        "outputId": "e6711099-2b73-4697-9880-6d16f73c9b19"
      },
      "execution_count": null,
      "outputs": [
        {
          "output_type": "execute_result",
          "data": {
            "text/plain": [
              "       Temperature (C)      Humidity  Wind Speed (km/h)  \\\n",
              "count     95936.000000  95936.000000       95936.000000   \n",
              "mean         11.940976      0.734841          10.804936   \n",
              "std           9.570671      0.195724           6.920727   \n",
              "min         -21.822222      0.000000           0.000000   \n",
              "25%           4.604167      0.600000           5.796000   \n",
              "50%          12.033333      0.780000           9.933700   \n",
              "75%          18.844444      0.890000          14.135800   \n",
              "max          39.905556      1.000000          63.852600   \n",
              "\n",
              "       Wind Bearing (degrees)  Visibility (km)  Pressure (millibars)  \n",
              "count            95936.000000     95936.000000          95936.000000  \n",
              "mean               187.518773        10.362402           1003.150038  \n",
              "std                107.385351         4.173780            117.276976  \n",
              "min                  0.000000         0.000000              0.000000  \n",
              "25%                116.000000         8.372000           1011.890000  \n",
              "50%                180.000000        10.046400           1016.420000  \n",
              "75%                290.000000        14.812000           1021.050000  \n",
              "max                359.000000        16.100000           1046.380000  "
            ],
            "text/html": [
              "\n",
              "  <div id=\"df-74c2e7e4-2b0c-4a55-ac1e-d526336b4eb3\">\n",
              "    <div class=\"colab-df-container\">\n",
              "      <div>\n",
              "<style scoped>\n",
              "    .dataframe tbody tr th:only-of-type {\n",
              "        vertical-align: middle;\n",
              "    }\n",
              "\n",
              "    .dataframe tbody tr th {\n",
              "        vertical-align: top;\n",
              "    }\n",
              "\n",
              "    .dataframe thead th {\n",
              "        text-align: right;\n",
              "    }\n",
              "</style>\n",
              "<table border=\"1\" class=\"dataframe\">\n",
              "  <thead>\n",
              "    <tr style=\"text-align: right;\">\n",
              "      <th></th>\n",
              "      <th>Temperature (C)</th>\n",
              "      <th>Humidity</th>\n",
              "      <th>Wind Speed (km/h)</th>\n",
              "      <th>Wind Bearing (degrees)</th>\n",
              "      <th>Visibility (km)</th>\n",
              "      <th>Pressure (millibars)</th>\n",
              "    </tr>\n",
              "  </thead>\n",
              "  <tbody>\n",
              "    <tr>\n",
              "      <th>count</th>\n",
              "      <td>95936.000000</td>\n",
              "      <td>95936.000000</td>\n",
              "      <td>95936.000000</td>\n",
              "      <td>95936.000000</td>\n",
              "      <td>95936.000000</td>\n",
              "      <td>95936.000000</td>\n",
              "    </tr>\n",
              "    <tr>\n",
              "      <th>mean</th>\n",
              "      <td>11.940976</td>\n",
              "      <td>0.734841</td>\n",
              "      <td>10.804936</td>\n",
              "      <td>187.518773</td>\n",
              "      <td>10.362402</td>\n",
              "      <td>1003.150038</td>\n",
              "    </tr>\n",
              "    <tr>\n",
              "      <th>std</th>\n",
              "      <td>9.570671</td>\n",
              "      <td>0.195724</td>\n",
              "      <td>6.920727</td>\n",
              "      <td>107.385351</td>\n",
              "      <td>4.173780</td>\n",
              "      <td>117.276976</td>\n",
              "    </tr>\n",
              "    <tr>\n",
              "      <th>min</th>\n",
              "      <td>-21.822222</td>\n",
              "      <td>0.000000</td>\n",
              "      <td>0.000000</td>\n",
              "      <td>0.000000</td>\n",
              "      <td>0.000000</td>\n",
              "      <td>0.000000</td>\n",
              "    </tr>\n",
              "    <tr>\n",
              "      <th>25%</th>\n",
              "      <td>4.604167</td>\n",
              "      <td>0.600000</td>\n",
              "      <td>5.796000</td>\n",
              "      <td>116.000000</td>\n",
              "      <td>8.372000</td>\n",
              "      <td>1011.890000</td>\n",
              "    </tr>\n",
              "    <tr>\n",
              "      <th>50%</th>\n",
              "      <td>12.033333</td>\n",
              "      <td>0.780000</td>\n",
              "      <td>9.933700</td>\n",
              "      <td>180.000000</td>\n",
              "      <td>10.046400</td>\n",
              "      <td>1016.420000</td>\n",
              "    </tr>\n",
              "    <tr>\n",
              "      <th>75%</th>\n",
              "      <td>18.844444</td>\n",
              "      <td>0.890000</td>\n",
              "      <td>14.135800</td>\n",
              "      <td>290.000000</td>\n",
              "      <td>14.812000</td>\n",
              "      <td>1021.050000</td>\n",
              "    </tr>\n",
              "    <tr>\n",
              "      <th>max</th>\n",
              "      <td>39.905556</td>\n",
              "      <td>1.000000</td>\n",
              "      <td>63.852600</td>\n",
              "      <td>359.000000</td>\n",
              "      <td>16.100000</td>\n",
              "      <td>1046.380000</td>\n",
              "    </tr>\n",
              "  </tbody>\n",
              "</table>\n",
              "</div>\n",
              "      <button class=\"colab-df-convert\" onclick=\"convertToInteractive('df-74c2e7e4-2b0c-4a55-ac1e-d526336b4eb3')\"\n",
              "              title=\"Convert this dataframe to an interactive table.\"\n",
              "              style=\"display:none;\">\n",
              "        \n",
              "  <svg xmlns=\"http://www.w3.org/2000/svg\" height=\"24px\"viewBox=\"0 0 24 24\"\n",
              "       width=\"24px\">\n",
              "    <path d=\"M0 0h24v24H0V0z\" fill=\"none\"/>\n",
              "    <path d=\"M18.56 5.44l.94 2.06.94-2.06 2.06-.94-2.06-.94-.94-2.06-.94 2.06-2.06.94zm-11 1L8.5 8.5l.94-2.06 2.06-.94-2.06-.94L8.5 2.5l-.94 2.06-2.06.94zm10 10l.94 2.06.94-2.06 2.06-.94-2.06-.94-.94-2.06-.94 2.06-2.06.94z\"/><path d=\"M17.41 7.96l-1.37-1.37c-.4-.4-.92-.59-1.43-.59-.52 0-1.04.2-1.43.59L10.3 9.45l-7.72 7.72c-.78.78-.78 2.05 0 2.83L4 21.41c.39.39.9.59 1.41.59.51 0 1.02-.2 1.41-.59l7.78-7.78 2.81-2.81c.8-.78.8-2.07 0-2.86zM5.41 20L4 18.59l7.72-7.72 1.47 1.35L5.41 20z\"/>\n",
              "  </svg>\n",
              "      </button>\n",
              "      \n",
              "  <style>\n",
              "    .colab-df-container {\n",
              "      display:flex;\n",
              "      flex-wrap:wrap;\n",
              "      gap: 12px;\n",
              "    }\n",
              "\n",
              "    .colab-df-convert {\n",
              "      background-color: #E8F0FE;\n",
              "      border: none;\n",
              "      border-radius: 50%;\n",
              "      cursor: pointer;\n",
              "      display: none;\n",
              "      fill: #1967D2;\n",
              "      height: 32px;\n",
              "      padding: 0 0 0 0;\n",
              "      width: 32px;\n",
              "    }\n",
              "\n",
              "    .colab-df-convert:hover {\n",
              "      background-color: #E2EBFA;\n",
              "      box-shadow: 0px 1px 2px rgba(60, 64, 67, 0.3), 0px 1px 3px 1px rgba(60, 64, 67, 0.15);\n",
              "      fill: #174EA6;\n",
              "    }\n",
              "\n",
              "    [theme=dark] .colab-df-convert {\n",
              "      background-color: #3B4455;\n",
              "      fill: #D2E3FC;\n",
              "    }\n",
              "\n",
              "    [theme=dark] .colab-df-convert:hover {\n",
              "      background-color: #434B5C;\n",
              "      box-shadow: 0px 1px 3px 1px rgba(0, 0, 0, 0.15);\n",
              "      filter: drop-shadow(0px 1px 2px rgba(0, 0, 0, 0.3));\n",
              "      fill: #FFFFFF;\n",
              "    }\n",
              "  </style>\n",
              "\n",
              "      <script>\n",
              "        const buttonEl =\n",
              "          document.querySelector('#df-74c2e7e4-2b0c-4a55-ac1e-d526336b4eb3 button.colab-df-convert');\n",
              "        buttonEl.style.display =\n",
              "          google.colab.kernel.accessAllowed ? 'block' : 'none';\n",
              "\n",
              "        async function convertToInteractive(key) {\n",
              "          const element = document.querySelector('#df-74c2e7e4-2b0c-4a55-ac1e-d526336b4eb3');\n",
              "          const dataTable =\n",
              "            await google.colab.kernel.invokeFunction('convertToInteractive',\n",
              "                                                     [key], {});\n",
              "          if (!dataTable) return;\n",
              "\n",
              "          const docLinkHtml = 'Like what you see? Visit the ' +\n",
              "            '<a target=\"_blank\" href=https://colab.research.google.com/notebooks/data_table.ipynb>data table notebook</a>'\n",
              "            + ' to learn more about interactive tables.';\n",
              "          element.innerHTML = '';\n",
              "          dataTable['output_type'] = 'display_data';\n",
              "          await google.colab.output.renderOutput(dataTable, element);\n",
              "          const docLink = document.createElement('div');\n",
              "          docLink.innerHTML = docLinkHtml;\n",
              "          element.appendChild(docLink);\n",
              "        }\n",
              "      </script>\n",
              "    </div>\n",
              "  </div>\n",
              "  "
            ]
          },
          "metadata": {},
          "execution_count": 20
        }
      ]
    },
    {
      "cell_type": "code",
      "source": [
        "wheatherHistoryDataset.head()"
      ],
      "metadata": {
        "colab": {
          "base_uri": "https://localhost:8080/",
          "height": 206
        },
        "id": "H2FGOCylIEqu",
        "outputId": "ec76f0c6-016e-410e-df87-4c86650a8d1f"
      },
      "execution_count": null,
      "outputs": [
        {
          "output_type": "execute_result",
          "data": {
            "text/plain": [
              "  Precip Type  Temperature (C)  Humidity  Wind Speed (km/h)  \\\n",
              "0           0         9.472222      0.89            14.1197   \n",
              "1           0         9.355556      0.86            14.2646   \n",
              "2           0         9.377778      0.89             3.9284   \n",
              "3           0         8.288889      0.83            14.1036   \n",
              "4           0         8.755556      0.83            11.0446   \n",
              "\n",
              "   Wind Bearing (degrees)  Visibility (km)  Pressure (millibars)  \n",
              "0                   251.0          15.8263               1015.13  \n",
              "1                   259.0          15.8263               1015.63  \n",
              "2                   204.0          14.9569               1015.94  \n",
              "3                   269.0          15.8263               1016.41  \n",
              "4                   259.0          15.8263               1016.51  "
            ],
            "text/html": [
              "\n",
              "  <div id=\"df-bf4d1495-0f01-4bca-a5cf-5d39fafec778\">\n",
              "    <div class=\"colab-df-container\">\n",
              "      <div>\n",
              "<style scoped>\n",
              "    .dataframe tbody tr th:only-of-type {\n",
              "        vertical-align: middle;\n",
              "    }\n",
              "\n",
              "    .dataframe tbody tr th {\n",
              "        vertical-align: top;\n",
              "    }\n",
              "\n",
              "    .dataframe thead th {\n",
              "        text-align: right;\n",
              "    }\n",
              "</style>\n",
              "<table border=\"1\" class=\"dataframe\">\n",
              "  <thead>\n",
              "    <tr style=\"text-align: right;\">\n",
              "      <th></th>\n",
              "      <th>Precip Type</th>\n",
              "      <th>Temperature (C)</th>\n",
              "      <th>Humidity</th>\n",
              "      <th>Wind Speed (km/h)</th>\n",
              "      <th>Wind Bearing (degrees)</th>\n",
              "      <th>Visibility (km)</th>\n",
              "      <th>Pressure (millibars)</th>\n",
              "    </tr>\n",
              "  </thead>\n",
              "  <tbody>\n",
              "    <tr>\n",
              "      <th>0</th>\n",
              "      <td>0</td>\n",
              "      <td>9.472222</td>\n",
              "      <td>0.89</td>\n",
              "      <td>14.1197</td>\n",
              "      <td>251.0</td>\n",
              "      <td>15.8263</td>\n",
              "      <td>1015.13</td>\n",
              "    </tr>\n",
              "    <tr>\n",
              "      <th>1</th>\n",
              "      <td>0</td>\n",
              "      <td>9.355556</td>\n",
              "      <td>0.86</td>\n",
              "      <td>14.2646</td>\n",
              "      <td>259.0</td>\n",
              "      <td>15.8263</td>\n",
              "      <td>1015.63</td>\n",
              "    </tr>\n",
              "    <tr>\n",
              "      <th>2</th>\n",
              "      <td>0</td>\n",
              "      <td>9.377778</td>\n",
              "      <td>0.89</td>\n",
              "      <td>3.9284</td>\n",
              "      <td>204.0</td>\n",
              "      <td>14.9569</td>\n",
              "      <td>1015.94</td>\n",
              "    </tr>\n",
              "    <tr>\n",
              "      <th>3</th>\n",
              "      <td>0</td>\n",
              "      <td>8.288889</td>\n",
              "      <td>0.83</td>\n",
              "      <td>14.1036</td>\n",
              "      <td>269.0</td>\n",
              "      <td>15.8263</td>\n",
              "      <td>1016.41</td>\n",
              "    </tr>\n",
              "    <tr>\n",
              "      <th>4</th>\n",
              "      <td>0</td>\n",
              "      <td>8.755556</td>\n",
              "      <td>0.83</td>\n",
              "      <td>11.0446</td>\n",
              "      <td>259.0</td>\n",
              "      <td>15.8263</td>\n",
              "      <td>1016.51</td>\n",
              "    </tr>\n",
              "  </tbody>\n",
              "</table>\n",
              "</div>\n",
              "      <button class=\"colab-df-convert\" onclick=\"convertToInteractive('df-bf4d1495-0f01-4bca-a5cf-5d39fafec778')\"\n",
              "              title=\"Convert this dataframe to an interactive table.\"\n",
              "              style=\"display:none;\">\n",
              "        \n",
              "  <svg xmlns=\"http://www.w3.org/2000/svg\" height=\"24px\"viewBox=\"0 0 24 24\"\n",
              "       width=\"24px\">\n",
              "    <path d=\"M0 0h24v24H0V0z\" fill=\"none\"/>\n",
              "    <path d=\"M18.56 5.44l.94 2.06.94-2.06 2.06-.94-2.06-.94-.94-2.06-.94 2.06-2.06.94zm-11 1L8.5 8.5l.94-2.06 2.06-.94-2.06-.94L8.5 2.5l-.94 2.06-2.06.94zm10 10l.94 2.06.94-2.06 2.06-.94-2.06-.94-.94-2.06-.94 2.06-2.06.94z\"/><path d=\"M17.41 7.96l-1.37-1.37c-.4-.4-.92-.59-1.43-.59-.52 0-1.04.2-1.43.59L10.3 9.45l-7.72 7.72c-.78.78-.78 2.05 0 2.83L4 21.41c.39.39.9.59 1.41.59.51 0 1.02-.2 1.41-.59l7.78-7.78 2.81-2.81c.8-.78.8-2.07 0-2.86zM5.41 20L4 18.59l7.72-7.72 1.47 1.35L5.41 20z\"/>\n",
              "  </svg>\n",
              "      </button>\n",
              "      \n",
              "  <style>\n",
              "    .colab-df-container {\n",
              "      display:flex;\n",
              "      flex-wrap:wrap;\n",
              "      gap: 12px;\n",
              "    }\n",
              "\n",
              "    .colab-df-convert {\n",
              "      background-color: #E8F0FE;\n",
              "      border: none;\n",
              "      border-radius: 50%;\n",
              "      cursor: pointer;\n",
              "      display: none;\n",
              "      fill: #1967D2;\n",
              "      height: 32px;\n",
              "      padding: 0 0 0 0;\n",
              "      width: 32px;\n",
              "    }\n",
              "\n",
              "    .colab-df-convert:hover {\n",
              "      background-color: #E2EBFA;\n",
              "      box-shadow: 0px 1px 2px rgba(60, 64, 67, 0.3), 0px 1px 3px 1px rgba(60, 64, 67, 0.15);\n",
              "      fill: #174EA6;\n",
              "    }\n",
              "\n",
              "    [theme=dark] .colab-df-convert {\n",
              "      background-color: #3B4455;\n",
              "      fill: #D2E3FC;\n",
              "    }\n",
              "\n",
              "    [theme=dark] .colab-df-convert:hover {\n",
              "      background-color: #434B5C;\n",
              "      box-shadow: 0px 1px 3px 1px rgba(0, 0, 0, 0.15);\n",
              "      filter: drop-shadow(0px 1px 2px rgba(0, 0, 0, 0.3));\n",
              "      fill: #FFFFFF;\n",
              "    }\n",
              "  </style>\n",
              "\n",
              "      <script>\n",
              "        const buttonEl =\n",
              "          document.querySelector('#df-bf4d1495-0f01-4bca-a5cf-5d39fafec778 button.colab-df-convert');\n",
              "        buttonEl.style.display =\n",
              "          google.colab.kernel.accessAllowed ? 'block' : 'none';\n",
              "\n",
              "        async function convertToInteractive(key) {\n",
              "          const element = document.querySelector('#df-bf4d1495-0f01-4bca-a5cf-5d39fafec778');\n",
              "          const dataTable =\n",
              "            await google.colab.kernel.invokeFunction('convertToInteractive',\n",
              "                                                     [key], {});\n",
              "          if (!dataTable) return;\n",
              "\n",
              "          const docLinkHtml = 'Like what you see? Visit the ' +\n",
              "            '<a target=\"_blank\" href=https://colab.research.google.com/notebooks/data_table.ipynb>data table notebook</a>'\n",
              "            + ' to learn more about interactive tables.';\n",
              "          element.innerHTML = '';\n",
              "          dataTable['output_type'] = 'display_data';\n",
              "          await google.colab.output.renderOutput(dataTable, element);\n",
              "          const docLink = document.createElement('div');\n",
              "          docLink.innerHTML = docLinkHtml;\n",
              "          element.appendChild(docLink);\n",
              "        }\n",
              "      </script>\n",
              "    </div>\n",
              "  </div>\n",
              "  "
            ]
          },
          "metadata": {},
          "execution_count": 21
        }
      ]
    },
    {
      "cell_type": "code",
      "source": [
        "import pandas as pd\n",
        "from sklearn.tree import DecisionTreeClassifier # Import Decision Tree Classifier\n",
        "from sklearn.model_selection import train_test_split # Import train_test_split function\n",
        "from sklearn import metrics\n",
        "from sklearn import tree"
      ],
      "metadata": {
        "id": "AKUMnP78JpTJ"
      },
      "execution_count": null,
      "outputs": []
    },
    {
      "cell_type": "code",
      "source": [
        "def splitdataset(balance_data):\n",
        "  \n",
        "    # Separating the target variable\n",
        "    X = balance_data[[\"Temperature (C)\",\"Humidity\"]]\n",
        "    Y = balance_data[\"Precip Type\"]\n",
        "    X_train, X_test, y_train, y_test = train_test_split( \n",
        "    X, Y, test_size = 0.3, random_state = 100)\n",
        "      \n",
        "    return X, Y, X_train, X_test, y_train, y_test"
      ],
      "metadata": {
        "id": "BssOmhAY7eOM"
      },
      "execution_count": null,
      "outputs": []
    },
    {
      "cell_type": "code",
      "source": [
        "def train_using_gini(X_train, X_test, y_train):\n",
        "    clf_gini = DecisionTreeClassifier(criterion = \"gini\",\n",
        "            random_state = 100,max_depth=3, min_samples_leaf=5)\n",
        "    clf_gini.fit(X_train, y_train)\n",
        "    return clf_gini"
      ],
      "metadata": {
        "id": "m-7u8Scl6c4D"
      },
      "execution_count": null,
      "outputs": []
    },
    {
      "cell_type": "code",
      "source": [
        "def prediction(X_test, clf_object):\n",
        "  \n",
        "    # Predicton on test with giniIndex\n",
        "    y_pred = clf_object.predict(X_test)\n",
        "    print(\"Predicted values:\")\n",
        "    print(y_pred)\n",
        "    return y_pred"
      ],
      "metadata": {
        "id": "3eeZsa95856z"
      },
      "execution_count": null,
      "outputs": []
    },
    {
      "cell_type": "code",
      "source": [
        "from sklearn.metrics import confusion_matrix\n",
        "from sklearn.metrics import accuracy_score\n",
        "from sklearn.metrics import classification_report\n",
        "from sklearn.linear_model import LogisticRegression\n",
        "def cal_accuracy(y_test, y_pred):\n",
        "      \n",
        "    print(\"Confusion Matrix: \",\n",
        "        confusion_matrix(y_test, y_pred))\n",
        "      \n",
        "    print (\"Accuracy : \",\n",
        "    accuracy_score(y_test,y_pred)*100)\n",
        "      \n",
        "    print(\"Report : \",classification_report(y_test, y_pred))"
      ],
      "metadata": {
        "id": "kEYuXGLx9DJr"
      },
      "execution_count": null,
      "outputs": []
    },
    {
      "cell_type": "code",
      "source": [
        "def main():\n",
        "    X, Y, X_train, X_test, y_train, y_test = splitdataset(wheatherHistoryDataset)\n",
        "    y_train,y_test=y_train.astype('int'),y_test.astype('int')\n",
        "    clf_gini = train_using_gini(X_train, X_test, y_train)\n",
        "    y_pred_gini = prediction(X_test, clf_gini)\n",
        "    tree.plot_tree(clf_gini)\n",
        "    cal_accuracy(y_test, y_pred_gini)\n",
        "    lr = LogisticRegression()\n",
        "    lr.fit(X_train, y_train)\n",
        "    print(lr.score(X_test,y_test))\n",
        "    print(lr.intercept_)\n",
        "main()  "
      ],
      "metadata": {
        "colab": {
          "base_uri": "https://localhost:8080/",
          "height": 526
        },
        "id": "QzxblSZz9hqv",
        "outputId": "2cb5885f-9522-4403-d92b-9a5911f132c5"
      },
      "execution_count": null,
      "outputs": [
        {
          "output_type": "stream",
          "name": "stdout",
          "text": [
            "Predicted values:\n",
            "[0 0 0 ... 0 0 0]\n",
            "Confusion Matrix:  [[25631     0]\n",
            " [    0  3150]]\n",
            "Accuracy :  100.0\n",
            "Report :                precision    recall  f1-score   support\n",
            "\n",
            "           0       1.00      1.00      1.00     25631\n",
            "           1       1.00      1.00      1.00      3150\n",
            "\n",
            "    accuracy                           1.00     28781\n",
            "   macro avg       1.00      1.00      1.00     28781\n",
            "weighted avg       1.00      1.00      1.00     28781\n",
            "\n",
            "0.9985059587922588\n",
            "[1.69607161]\n"
          ]
        },
        {
          "output_type": "display_data",
          "data": {
            "text/plain": [
              "<Figure size 432x288 with 1 Axes>"
            ],
            "image/png": "[encoded data removed]"
          },
          "metadata": {
            "needs_background": "light"
          }
        }
      ]
    },
    {
      "cell_type": "code",
      "source": [
        "#from sklearn.linear_model import LogisticRegression\n",
        " \n"
      ],
      "metadata": {
        "id": "gbUF0sN8DLB4"
      },
      "execution_count": null,
      "outputs": []
    },
    {
      "cell_type": "code",
      "source": [
        "#clf = tree.DecisionTreeClassifier(random_state=0)"
      ],
      "metadata": {
        "id": "-y3SOF23DB-j",
        "colab": {
          "base_uri": "https://localhost:8080/",
          "height": 166
        },
        "outputId": "e6beb3ad-6fef-479f-d0c7-e0719443119e"
      },
      "execution_count": 1,
      "outputs": [
        {
          "output_type": "error",
          "ename": "NameError",
          "evalue": "ignored",
          "traceback": [
            "\u001b[0;31m---------------------------------------------------------------------------\u001b[0m",
            "\u001b[0;31mNameError\u001b[0m                                 Traceback (most recent call last)",
            "\u001b[0;32m<ipython-input-1-57c93450bbae>\u001b[0m in \u001b[0;36m<module>\u001b[0;34m\u001b[0m\n\u001b[0;32m----> 1\u001b[0;31m \u001b[0mclf\u001b[0m \u001b[0;34m=\u001b[0m \u001b[0mtree\u001b[0m\u001b[0;34m.\u001b[0m\u001b[0mDecisionTreeClassifier\u001b[0m\u001b[0;34m(\u001b[0m\u001b[0mrandom_state\u001b[0m\u001b[0;34m=\u001b[0m\u001b[0;36m0\u001b[0m\u001b[0;34m)\u001b[0m\u001b[0;34m\u001b[0m\u001b[0;34m\u001b[0m\u001b[0m\n\u001b[0m",
            "\u001b[0;31mNameError\u001b[0m: name 'tree' is not defined"
          ]
        }
      ]
    }
  ]
}